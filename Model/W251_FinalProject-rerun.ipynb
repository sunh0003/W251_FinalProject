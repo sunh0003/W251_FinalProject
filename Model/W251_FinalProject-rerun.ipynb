{
 "cells": [
  {
   "cell_type": "markdown",
   "metadata": {},
   "source": [
    "## Load data"
   ]
  },
  {
   "cell_type": "code",
   "execution_count": 2,
   "metadata": {},
   "outputs": [
    {
     "name": "stdout",
     "output_type": "stream",
     "text": [
      "/notebooks/W251_FinalProject/notebooks_files\r\n"
     ]
    }
   ],
   "source": [
    "!pwd"
   ]
  },
  {
   "cell_type": "code",
   "execution_count": 3,
   "metadata": {},
   "outputs": [
    {
     "name": "stdout",
     "output_type": "stream",
     "text": [
      "/notebooks/W251_FinalProject\n"
     ]
    }
   ],
   "source": [
    "%cd .."
   ]
  },
  {
   "cell_type": "code",
   "execution_count": 2,
   "metadata": {},
   "outputs": [
    {
     "name": "stdout",
     "output_type": "stream",
     "text": [
      "fatal: destination path 'W251_FinalProject' already exists and is not an empty directory.\r\n"
     ]
    }
   ],
   "source": [
    "!git clone https://github.com/sunh0003/W251_FinalProject.git"
   ]
  },
  {
   "cell_type": "code",
   "execution_count": 4,
   "metadata": {},
   "outputs": [],
   "source": [
    "%mkdir data"
   ]
  },
  {
   "cell_type": "code",
   "execution_count": 4,
   "metadata": {},
   "outputs": [
    {
     "name": "stdout",
     "output_type": "stream",
     "text": [
      "/notebooks/W251_FinalProject\n"
     ]
    }
   ],
   "source": [
    "%cd W251_FinalProject"
   ]
  },
  {
   "cell_type": "code",
   "execution_count": 5,
   "metadata": {},
   "outputs": [
    {
     "name": "stdout",
     "output_type": "stream",
     "text": [
      "/notebooks/W251_FinalProject/Kaggle\n"
     ]
    }
   ],
   "source": [
    "%cd Kaggle"
   ]
  },
  {
   "cell_type": "code",
   "execution_count": 7,
   "metadata": {},
   "outputs": [],
   "source": [
    "%mkdir /notebooks/W251_FinalProject/data/train"
   ]
  },
  {
   "cell_type": "code",
   "execution_count": 8,
   "metadata": {},
   "outputs": [],
   "source": [
    "from shutil import unpack_archive\n",
    "unpack_archive('train1.zip', '/notebooks')\n",
    "unpack_archive('train2.zip', '/notebooks')\n",
    "unpack_archive('train3.zip', '/notebooks')\n",
    "unpack_archive('validation.zip', '/notebooks')"
   ]
  },
  {
   "cell_type": "code",
   "execution_count": 8,
   "metadata": {},
   "outputs": [
    {
     "name": "stdout",
     "output_type": "stream",
     "text": [
      "mv: cannot move '/notebooks/train1/fear' to '/notebooks/data/train/fear': Directory not empty\n",
      "mv: cannot move '/notebooks/train1/happy' to '/notebooks/data/train/happy': Directory not empty\n",
      "mv: cannot stat '/notebooks/train2/netural': No such file or directory\n",
      "mv: cannot move '/notebooks/train2/sad' to '/notebooks/data/train/sad': Directory not empty\n",
      "mv: cannot stat '/notebooks/train2/suprise': No such file or directory\n",
      "mv: cannot move '/notebooks/train3/angry' to '/notebooks/data/train/angry': Directory not empty\n",
      "mv: cannot move '/notebooks/train3/disgust' to '/notebooks/data/train/disgust': Directory not empty\n",
      "mv: cannot move '/notebooks/validation' to '/notebooks/data/validation': Directory not empty\n"
     ]
    }
   ],
   "source": [
    "%mv /notebooks/train1/fear /notebooks/data/train\n",
    "%mv /notebooks/train1/happy /notebooks/data/train\n",
    "%mv /notebooks/train2/netural /notebooks/data/train\n",
    "%mv /notebooks/train2/sad /notebooks/data/train\n",
    "%mv /notebooks/train2/suprise /notebooks/data/train\n",
    "%mv /notebooks/train3/angry /notebooks/data/train\n",
    "%mv /notebooks/train3/disgust /notebooks/data/train\n",
    "%mv /notebooks/validation /notebooks/data"
   ]
  },
  {
   "cell_type": "code",
   "execution_count": 9,
   "metadata": {},
   "outputs": [
    {
     "name": "stdout",
     "output_type": "stream",
     "text": [
      "/notebooks/W251_FinalProject/Kaggle\r\n"
     ]
    }
   ],
   "source": [
    "!pwd"
   ]
  },
  {
   "cell_type": "markdown",
   "metadata": {},
   "source": [
    "## Model"
   ]
  },
  {
   "cell_type": "code",
   "execution_count": 10,
   "metadata": {},
   "outputs": [
    {
     "name": "stdout",
     "output_type": "stream",
     "text": [
      "Requirement already up-to-date: pip in /usr/local/lib/python3.5/dist-packages (20.1.1)\r\n"
     ]
    }
   ],
   "source": [
    "!pip install --upgrade pip"
   ]
  },
  {
   "cell_type": "code",
   "execution_count": 11,
   "metadata": {},
   "outputs": [
    {
     "name": "stdout",
     "output_type": "stream",
     "text": [
      "Requirement already satisfied: pillow in /usr/local/lib/python3.5/dist-packages (7.2.0)\r\n"
     ]
    }
   ],
   "source": [
    "!pip3 install pillow"
   ]
  },
  {
   "cell_type": "markdown",
   "metadata": {},
   "source": []
  },
  {
   "cell_type": "code",
   "execution_count": 69,
   "metadata": {},
   "outputs": [
    {
     "name": "stdout",
     "output_type": "stream",
     "text": [
      "rmdir: failed to remove '/notebooks/data/validation/.ipynb_checkpoints': No such file or directory\r\n"
     ]
    }
   ],
   "source": [
    "! rmdir /notebooks/data/validation/.ipynb_checkpoints"
   ]
  },
  {
   "cell_type": "markdown",
   "metadata": {},
   "source": [
    "### Re-run from here!"
   ]
  },
  {
   "cell_type": "code",
   "execution_count": 1,
   "metadata": {},
   "outputs": [
    {
     "name": "stderr",
     "output_type": "stream",
     "text": [
      "Using TensorFlow backend.\n"
     ]
    },
    {
     "data": {
      "text/plain": [
       "<Figure size 1200x2000 with 45 Axes>"
      ]
     },
     "metadata": {},
     "output_type": "display_data"
    }
   ],
   "source": [
    "# display some images for every different expression\n",
    "\n",
    "import numpy as np\n",
    "import seaborn as sns\n",
    "from keras.preprocessing.image import load_img, img_to_array\n",
    "import matplotlib.pyplot as plt\n",
    "import os\n",
    "\n",
    "\n",
    "# size of the image: 48*48 pixels\n",
    "pic_size = 48\n",
    "\n",
    "# input path for the images\n",
    "base_path = \"/notebooks/data9cls/\"\n",
    "\n",
    "plt.figure(0, figsize=(12,20))\n",
    "cpt = 0\n",
    "\n",
    "for expression in os.listdir(base_path + \"train/\"):\n",
    "    for i in range(1,6):\n",
    "        cpt = cpt + 1\n",
    "        plt.subplot(9,5,cpt)\n",
    "        img = load_img(base_path + \"train/\" + expression + \"/\" +os.listdir(base_path + \"train/\" + expression)[i], target_size=(pic_size, pic_size))\n",
    "        plt.imshow(img, cmap=\"gray\")\n",
    "\n",
    "plt.tight_layout()\n",
    "plt.show()"
   ]
  },
  {
   "cell_type": "code",
   "execution_count": 2,
   "metadata": {
    "scrolled": true
   },
   "outputs": [
    {
     "name": "stdout",
     "output_type": "stream",
     "text": [
      "655 distracted images\n",
      "436 disgust images\n",
      "4938 sad images\n",
      "648 confused images\n",
      "3993 angry images\n",
      "3205 surprise images\n",
      "4103 fear images\n",
      "7164 happy images\n",
      "4982 neutral images\n"
     ]
    }
   ],
   "source": [
    "# count number of train images for each expression\n",
    "\n",
    "for expression in os.listdir(base_path + \"train\"):\n",
    "    print(str(len(os.listdir(base_path + \"train/\" + expression))) + \" \" + expression + \" images\")\n"
   ]
  },
  {
   "cell_type": "code",
   "execution_count": 3,
   "metadata": {
    "scrolled": false
   },
   "outputs": [
    {
     "name": "stdout",
     "output_type": "stream",
     "text": [
      "164 distracted images\n",
      "111 disgust images\n",
      "1139 sad images\n",
      "162 confused images\n",
      "960 angry images\n",
      "797 surprise images\n",
      "1018 fear images\n",
      "1825 happy images\n",
      "1216 neutral images\n"
     ]
    }
   ],
   "source": [
    "# count number of validation images for each expression\n",
    "\n",
    "for expression in os.listdir(base_path + \"validation\"):\n",
    "    print(str(len(os.listdir(base_path + \"validation/\" + expression))) + \" \" + expression + \" images\")"
   ]
  },
  {
   "cell_type": "code",
   "execution_count": 4,
   "metadata": {},
   "outputs": [
    {
     "name": "stdout",
     "output_type": "stream",
     "text": [
      "Found 30124 images belonging to 9 classes.\n",
      "Found 7392 images belonging to 9 classes.\n"
     ]
    }
   ],
   "source": [
    "from keras.preprocessing.image import ImageDataGenerator\n",
    "\n",
    "# number of images to feed into the NN for every batch\n",
    "batch_size = 128\n",
    "\n",
    "datagen_train = ImageDataGenerator()\n",
    "datagen_validation = ImageDataGenerator()\n",
    "\n",
    "train_generator = datagen_train.flow_from_directory(base_path + \"train\",\n",
    "                                                    target_size=(pic_size,pic_size),\n",
    "                                                    color_mode=\"grayscale\",\n",
    "                                                    batch_size=batch_size,\n",
    "                                                    class_mode='categorical',\n",
    "                                                    shuffle=True)\n",
    "\n",
    "validation_generator = datagen_validation.flow_from_directory(base_path + \"validation\",\n",
    "                                                    target_size=(pic_size,pic_size),\n",
    "                                                    color_mode=\"grayscale\",\n",
    "                                                    batch_size=batch_size,\n",
    "                                                    class_mode='categorical',\n",
    "                                                    shuffle=False)"
   ]
  },
  {
   "cell_type": "code",
   "execution_count": 5,
   "metadata": {},
   "outputs": [
    {
     "name": "stdout",
     "output_type": "stream",
     "text": [
      "WARNING:tensorflow:From /usr/local/lib/python3.5/dist-packages/tensorflow/python/framework/op_def_library.py:263: colocate_with (from tensorflow.python.framework.ops) is deprecated and will be removed in a future version.\n",
      "Instructions for updating:\n",
      "Colocations handled automatically by placer.\n",
      "WARNING:tensorflow:From /usr/local/lib/python3.5/dist-packages/keras/backend/tensorflow_backend.py:3445: calling dropout (from tensorflow.python.ops.nn_ops) with keep_prob is deprecated and will be removed in a future version.\n",
      "Instructions for updating:\n",
      "Please use `rate` instead of `keep_prob`. Rate should be set to `rate = 1 - keep_prob`.\n"
     ]
    }
   ],
   "source": [
    "from keras.layers import Dense, Input, Dropout, GlobalAveragePooling2D, Flatten, Conv2D, BatchNormalization, Activation, MaxPooling2D\n",
    "from keras.models import Model, Sequential\n",
    "from keras.optimizers import Adam\n",
    "\n",
    "# number of possible label values\n",
    "nb_classes = 9\n",
    "\n",
    "# Initialising the CNN\n",
    "model = Sequential()\n",
    "\n",
    "# 1 - Convolution\n",
    "model.add(Conv2D(64,(3,3), padding='same', input_shape=(48, 48,1)))\n",
    "model.add(BatchNormalization())\n",
    "model.add(Activation('relu'))\n",
    "model.add(MaxPooling2D(pool_size=(2, 2)))\n",
    "model.add(Dropout(0.25))\n",
    "\n",
    "# 2nd Convolution layer\n",
    "model.add(Conv2D(128,(5,5), padding='same'))\n",
    "model.add(BatchNormalization())\n",
    "model.add(Activation('relu'))\n",
    "model.add(MaxPooling2D(pool_size=(2, 2)))\n",
    "model.add(Dropout(0.25))\n",
    "\n",
    "# 3rd Convolution layer\n",
    "model.add(Conv2D(512,(3,3), padding='same'))\n",
    "model.add(BatchNormalization())\n",
    "model.add(Activation('relu'))\n",
    "model.add(MaxPooling2D(pool_size=(2, 2)))\n",
    "model.add(Dropout(0.25))\n",
    "\n",
    "# 4th Convolution layer\n",
    "model.add(Conv2D(512,(3,3), padding='same'))\n",
    "model.add(BatchNormalization())\n",
    "model.add(Activation('relu'))\n",
    "model.add(MaxPooling2D(pool_size=(2, 2)))\n",
    "model.add(Dropout(0.25))\n",
    "\n",
    "# Flattening\n",
    "model.add(Flatten())\n",
    "\n",
    "# Fully connected layer 1st layer\n",
    "model.add(Dense(256))\n",
    "model.add(BatchNormalization())\n",
    "model.add(Activation('relu'))\n",
    "model.add(Dropout(0.25))\n",
    "\n",
    "# Fully connected layer 2nd layer\n",
    "model.add(Dense(512))\n",
    "model.add(BatchNormalization())\n",
    "model.add(Activation('relu'))\n",
    "model.add(Dropout(0.25))\n",
    "\n",
    "model.add(Dense(nb_classes, activation='softmax'))\n",
    "\n",
    "opt = Adam(lr=0.0001)\n",
    "model.compile(optimizer=opt, loss='categorical_crossentropy', metrics=['accuracy'])"
   ]
  },
  {
   "cell_type": "code",
   "execution_count": 6,
   "metadata": {},
   "outputs": [
    {
     "name": "stdout",
     "output_type": "stream",
     "text": [
      "_________________________________________________________________\n",
      "Layer (type)                 Output Shape              Param #   \n",
      "=================================================================\n",
      "conv2d_1 (Conv2D)            (None, 48, 48, 64)        640       \n",
      "_________________________________________________________________\n",
      "batch_normalization_1 (Batch (None, 48, 48, 64)        256       \n",
      "_________________________________________________________________\n",
      "activation_1 (Activation)    (None, 48, 48, 64)        0         \n",
      "_________________________________________________________________\n",
      "max_pooling2d_1 (MaxPooling2 (None, 24, 24, 64)        0         \n",
      "_________________________________________________________________\n",
      "dropout_1 (Dropout)          (None, 24, 24, 64)        0         \n",
      "_________________________________________________________________\n",
      "conv2d_2 (Conv2D)            (None, 24, 24, 128)       204928    \n",
      "_________________________________________________________________\n",
      "batch_normalization_2 (Batch (None, 24, 24, 128)       512       \n",
      "_________________________________________________________________\n",
      "activation_2 (Activation)    (None, 24, 24, 128)       0         \n",
      "_________________________________________________________________\n",
      "max_pooling2d_2 (MaxPooling2 (None, 12, 12, 128)       0         \n",
      "_________________________________________________________________\n",
      "dropout_2 (Dropout)          (None, 12, 12, 128)       0         \n",
      "_________________________________________________________________\n",
      "conv2d_3 (Conv2D)            (None, 12, 12, 512)       590336    \n",
      "_________________________________________________________________\n",
      "batch_normalization_3 (Batch (None, 12, 12, 512)       2048      \n",
      "_________________________________________________________________\n",
      "activation_3 (Activation)    (None, 12, 12, 512)       0         \n",
      "_________________________________________________________________\n",
      "max_pooling2d_3 (MaxPooling2 (None, 6, 6, 512)         0         \n",
      "_________________________________________________________________\n",
      "dropout_3 (Dropout)          (None, 6, 6, 512)         0         \n",
      "_________________________________________________________________\n",
      "conv2d_4 (Conv2D)            (None, 6, 6, 512)         2359808   \n",
      "_________________________________________________________________\n",
      "batch_normalization_4 (Batch (None, 6, 6, 512)         2048      \n",
      "_________________________________________________________________\n",
      "activation_4 (Activation)    (None, 6, 6, 512)         0         \n",
      "_________________________________________________________________\n",
      "max_pooling2d_4 (MaxPooling2 (None, 3, 3, 512)         0         \n",
      "_________________________________________________________________\n",
      "dropout_4 (Dropout)          (None, 3, 3, 512)         0         \n",
      "_________________________________________________________________\n",
      "flatten_1 (Flatten)          (None, 4608)              0         \n",
      "_________________________________________________________________\n",
      "dense_1 (Dense)              (None, 256)               1179904   \n",
      "_________________________________________________________________\n",
      "batch_normalization_5 (Batch (None, 256)               1024      \n",
      "_________________________________________________________________\n",
      "activation_5 (Activation)    (None, 256)               0         \n",
      "_________________________________________________________________\n",
      "dropout_5 (Dropout)          (None, 256)               0         \n",
      "_________________________________________________________________\n",
      "dense_2 (Dense)              (None, 512)               131584    \n",
      "_________________________________________________________________\n",
      "batch_normalization_6 (Batch (None, 512)               2048      \n",
      "_________________________________________________________________\n",
      "activation_6 (Activation)    (None, 512)               0         \n",
      "_________________________________________________________________\n",
      "dropout_6 (Dropout)          (None, 512)               0         \n",
      "_________________________________________________________________\n",
      "dense_3 (Dense)              (None, 9)                 4617      \n",
      "=================================================================\n",
      "Total params: 4,479,753\n",
      "Trainable params: 4,475,785\n",
      "Non-trainable params: 3,968\n",
      "_________________________________________________________________\n"
     ]
    }
   ],
   "source": [
    "model.summary()"
   ]
  },
  {
   "cell_type": "code",
   "execution_count": 7,
   "metadata": {},
   "outputs": [],
   "source": [
    "steps_per_epoch=train_generator.n//train_generator.batch_size"
   ]
  },
  {
   "cell_type": "code",
   "execution_count": 8,
   "metadata": {},
   "outputs": [
    {
     "data": {
      "text/plain": [
       "57.75"
      ]
     },
     "execution_count": 8,
     "metadata": {},
     "output_type": "execute_result"
    }
   ],
   "source": [
    "validation_steps = validation_generator.n/validation_generator.batch_size\n",
    "validation_steps"
   ]
  },
  {
   "cell_type": "code",
   "execution_count": 9,
   "metadata": {},
   "outputs": [
    {
     "name": "stdout",
     "output_type": "stream",
     "text": [
      "WARNING:tensorflow:From /usr/local/lib/python3.5/dist-packages/tensorflow/python/ops/math_ops.py:3066: to_int32 (from tensorflow.python.ops.math_ops) is deprecated and will be removed in a future version.\n",
      "Instructions for updating:\n",
      "Use tf.cast instead.\n",
      "Epoch 1/50\n",
      "235/235 [==============================] - 559s 2s/step - loss: 2.1627 - acc: 0.2170 - val_loss: 1.8065 - val_acc: 0.3010\n",
      "\n",
      "Epoch 00001: val_acc improved from -inf to 0.30099, saving model to model_weights.h5\n",
      "Epoch 2/50\n",
      "235/235 [==============================] - 556s 2s/step - loss: 1.8594 - acc: 0.3038 - val_loss: 1.7237 - val_acc: 0.3495\n",
      "\n",
      "Epoch 00002: val_acc improved from 0.30099 to 0.34953, saving model to model_weights.h5\n",
      "Epoch 3/50\n",
      "235/235 [==============================] - 553s 2s/step - loss: 1.7357 - acc: 0.3457 - val_loss: 1.7251 - val_acc: 0.3504\n",
      "\n",
      "Epoch 00003: val_acc improved from 0.34953 to 0.35036, saving model to model_weights.h5\n",
      "Epoch 4/50\n",
      "235/235 [==============================] - 553s 2s/step - loss: 1.6427 - acc: 0.3792 - val_loss: 1.5967 - val_acc: 0.4020\n",
      "\n",
      "Epoch 00004: val_acc improved from 0.35036 to 0.40198, saving model to model_weights.h5\n",
      "Epoch 5/50\n",
      "235/235 [==============================] - 553s 2s/step - loss: 1.5733 - acc: 0.4023 - val_loss: 1.6171 - val_acc: 0.4118\n",
      "\n",
      "Epoch 00005: val_acc improved from 0.40198 to 0.41176, saving model to model_weights.h5\n",
      "Epoch 6/50\n",
      "235/235 [==============================] - 555s 2s/step - loss: 1.5210 - acc: 0.4206 - val_loss: 1.4611 - val_acc: 0.4535\n",
      "\n",
      "Epoch 00006: val_acc improved from 0.41176 to 0.45347, saving model to model_weights.h5\n",
      "Epoch 7/50\n",
      "235/235 [==============================] - 554s 2s/step - loss: 1.4740 - acc: 0.4382 - val_loss: 1.4328 - val_acc: 0.4602\n",
      "\n",
      "Epoch 00007: val_acc improved from 0.45347 to 0.46021, saving model to model_weights.h5\n",
      "Epoch 8/50\n",
      "235/235 [==============================] - 557s 2s/step - loss: 1.4254 - acc: 0.4582 - val_loss: 1.3897 - val_acc: 0.4836\n",
      "\n",
      "Epoch 00008: val_acc improved from 0.46021 to 0.48362, saving model to model_weights.h5\n",
      "Epoch 9/50\n",
      "235/235 [==============================] - 556s 2s/step - loss: 1.3789 - acc: 0.4751 - val_loss: 1.2965 - val_acc: 0.5094\n",
      "\n",
      "Epoch 00009: val_acc improved from 0.48362 to 0.50936, saving model to model_weights.h5\n",
      "Epoch 10/50\n",
      "235/235 [==============================] - 554s 2s/step - loss: 1.3284 - acc: 0.4935 - val_loss: 1.3100 - val_acc: 0.5070\n",
      "\n",
      "Epoch 00010: val_acc did not improve from 0.50936\n",
      "Epoch 11/50\n",
      "235/235 [==============================] - 558s 2s/step - loss: 1.3016 - acc: 0.5034 - val_loss: 1.3037 - val_acc: 0.5125\n",
      "\n",
      "Epoch 00011: val_acc improved from 0.50936 to 0.51253, saving model to model_weights.h5\n",
      "Epoch 12/50\n",
      "235/235 [==============================] - 556s 2s/step - loss: 1.2677 - acc: 0.5163 - val_loss: 1.1971 - val_acc: 0.5475\n",
      "\n",
      "Epoch 00012: val_acc improved from 0.51253 to 0.54749, saving model to model_weights.h5\n",
      "Epoch 13/50\n",
      "235/235 [==============================] - 555s 2s/step - loss: 1.2478 - acc: 0.5245 - val_loss: 1.1962 - val_acc: 0.5442\n",
      "\n",
      "Epoch 00013: val_acc did not improve from 0.54749\n",
      "Epoch 14/50\n",
      "235/235 [==============================] - 555s 2s/step - loss: 1.2182 - acc: 0.5346 - val_loss: 1.2150 - val_acc: 0.5449\n",
      "\n",
      "Epoch 00014: val_acc did not improve from 0.54749\n",
      "Epoch 15/50\n",
      "235/235 [==============================] - 556s 2s/step - loss: 1.1925 - acc: 0.5482 - val_loss: 1.1693 - val_acc: 0.5569\n",
      "\n",
      "Epoch 00015: val_acc improved from 0.54749 to 0.55686, saving model to model_weights.h5\n",
      "Epoch 16/50\n",
      "235/235 [==============================] - 555s 2s/step - loss: 1.1700 - acc: 0.5557 - val_loss: 1.1379 - val_acc: 0.5708\n",
      "\n",
      "Epoch 00016: val_acc improved from 0.55686 to 0.57076, saving model to model_weights.h5\n",
      "Epoch 17/50\n",
      "235/235 [==============================] - 554s 2s/step - loss: 1.1419 - acc: 0.5671 - val_loss: 1.1033 - val_acc: 0.5860\n",
      "\n",
      "Epoch 00017: val_acc improved from 0.57076 to 0.58604, saving model to model_weights.h5\n",
      "Epoch 18/50\n",
      "235/235 [==============================] - 553s 2s/step - loss: 1.1282 - acc: 0.5715 - val_loss: 1.1497 - val_acc: 0.5680\n",
      "\n",
      "Epoch 00018: val_acc did not improve from 0.58604\n",
      "Epoch 19/50\n",
      "235/235 [==============================] - 555s 2s/step - loss: 1.0969 - acc: 0.5866 - val_loss: 1.0971 - val_acc: 0.5918\n",
      "\n",
      "Epoch 00019: val_acc improved from 0.58604 to 0.59182, saving model to model_weights.h5\n",
      "Epoch 20/50\n",
      "235/235 [==============================] - 554s 2s/step - loss: 1.0876 - acc: 0.5851 - val_loss: 1.0730 - val_acc: 0.5968\n",
      "\n",
      "Epoch 00020: val_acc improved from 0.59182 to 0.59678, saving model to model_weights.h5\n",
      "Epoch 21/50\n",
      "235/235 [==============================] - 555s 2s/step - loss: 1.0663 - acc: 0.5967 - val_loss: 1.1193 - val_acc: 0.5854\n",
      "\n",
      "Epoch 00021: val_acc did not improve from 0.59678\n",
      "Epoch 22/50\n",
      "235/235 [==============================] - 555s 2s/step - loss: 1.0460 - acc: 0.6034 - val_loss: 1.0575 - val_acc: 0.6067\n",
      "\n",
      "Epoch 00022: val_acc improved from 0.59678 to 0.60669, saving model to model_weights.h5\n",
      "Epoch 23/50\n",
      "235/235 [==============================] - 555s 2s/step - loss: 1.0336 - acc: 0.6126 - val_loss: 1.0520 - val_acc: 0.6086\n",
      "\n",
      "Epoch 00023: val_acc improved from 0.60669 to 0.60862, saving model to model_weights.h5\n",
      "Epoch 24/50\n",
      "235/235 [==============================] - 555s 2s/step - loss: 1.0055 - acc: 0.6232 - val_loss: 1.0447 - val_acc: 0.6147\n",
      "\n",
      "Epoch 00024: val_acc improved from 0.60862 to 0.61468, saving model to model_weights.h5\n",
      "Epoch 25/50\n",
      "235/235 [==============================] - 558s 2s/step - loss: 0.9943 - acc: 0.6285 - val_loss: 1.0671 - val_acc: 0.5984\n",
      "\n",
      "Epoch 00025: val_acc did not improve from 0.61468\n",
      "Epoch 26/50\n",
      "235/235 [==============================] - 555s 2s/step - loss: 0.9750 - acc: 0.6341 - val_loss: 1.0520 - val_acc: 0.6060\n",
      "\n",
      "Epoch 00026: val_acc did not improve from 0.61468\n",
      "Epoch 27/50\n",
      "235/235 [==============================] - 555s 2s/step - loss: 0.9598 - acc: 0.6391 - val_loss: 1.0476 - val_acc: 0.6132\n",
      "\n",
      "Epoch 00027: val_acc did not improve from 0.61468\n",
      "Epoch 28/50\n",
      "235/235 [==============================] - 556s 2s/step - loss: 0.9441 - acc: 0.6460 - val_loss: 1.0760 - val_acc: 0.6031\n",
      "\n",
      "Epoch 00028: val_acc did not improve from 0.61468\n",
      "Epoch 29/50\n",
      "235/235 [==============================] - 556s 2s/step - loss: 0.9246 - acc: 0.6533 - val_loss: 1.0611 - val_acc: 0.6129\n",
      "\n",
      "Epoch 00029: val_acc did not improve from 0.61468\n",
      "Epoch 30/50\n",
      "235/235 [==============================] - 557s 2s/step - loss: 0.9184 - acc: 0.6558 - val_loss: 1.0739 - val_acc: 0.6086\n",
      "\n",
      "Epoch 00030: val_acc did not improve from 0.61468\n",
      "Epoch 31/50\n",
      "235/235 [==============================] - 556s 2s/step - loss: 0.8963 - acc: 0.6650 - val_loss: 1.0077 - val_acc: 0.6308\n",
      "\n",
      "Epoch 00031: val_acc improved from 0.61468 to 0.63078, saving model to model_weights.h5\n",
      "Epoch 32/50\n",
      "235/235 [==============================] - 556s 2s/step - loss: 0.8716 - acc: 0.6735 - val_loss: 1.0322 - val_acc: 0.6207\n",
      "\n",
      "Epoch 00033: val_acc did not improve from 0.63078\n",
      "Epoch 34/50\n",
      "235/235 [==============================] - 559s 2s/step - loss: 0.8564 - acc: 0.6814 - val_loss: 1.0195 - val_acc: 0.6338\n",
      "\n",
      "Epoch 00034: val_acc improved from 0.63078 to 0.63381, saving model to model_weights.h5\n",
      "Epoch 35/50\n",
      "235/235 [==============================] - 554s 2s/step - loss: 0.8387 - acc: 0.6864 - val_loss: 1.0388 - val_acc: 0.6284\n",
      "\n",
      "Epoch 00035: val_acc did not improve from 0.63381\n",
      "Epoch 36/50\n",
      "235/235 [==============================] - 557s 2s/step - loss: 0.8221 - acc: 0.6924 - val_loss: 1.0160 - val_acc: 0.6345\n",
      "\n",
      "Epoch 00036: val_acc improved from 0.63381 to 0.63450, saving model to model_weights.h5\n",
      "Epoch 37/50\n",
      "235/235 [==============================] - 557s 2s/step - loss: 0.8071 - acc: 0.6986 - val_loss: 1.0422 - val_acc: 0.6346\n",
      "\n",
      "Epoch 00037: val_acc improved from 0.63450 to 0.63464, saving model to model_weights.h5\n",
      "Epoch 38/50\n",
      "235/235 [==============================] - 557s 2s/step - loss: 0.8011 - acc: 0.6981 - val_loss: 1.0437 - val_acc: 0.6339\n",
      "\n",
      "Epoch 00038: val_acc did not improve from 0.63464\n",
      "Epoch 39/50\n",
      "235/235 [==============================] - 555s 2s/step - loss: 0.7736 - acc: 0.7114 - val_loss: 0.9860 - val_acc: 0.6455\n",
      "\n",
      "Epoch 00039: val_acc improved from 0.63464 to 0.64551, saving model to model_weights.h5\n",
      "Epoch 40/50\n",
      "235/235 [==============================] - 556s 2s/step - loss: 0.7598 - acc: 0.7176 - val_loss: 0.9885 - val_acc: 0.6513\n",
      "\n",
      "Epoch 00040: val_acc improved from 0.64551 to 0.65129, saving model to model_weights.h5\n",
      "Epoch 41/50\n",
      "235/235 [==============================] - 554s 2s/step - loss: 0.7530 - acc: 0.7195 - val_loss: 0.9885 - val_acc: 0.6512\n",
      "\n",
      "Epoch 00041: val_acc did not improve from 0.65129\n",
      "Epoch 42/50\n",
      "235/235 [==============================] - 555s 2s/step - loss: 0.7359 - acc: 0.7265 - val_loss: 1.0119 - val_acc: 0.6433\n",
      "\n",
      "Epoch 00042: val_acc did not improve from 0.65129\n",
      "Epoch 43/50\n",
      "235/235 [==============================] - 556s 2s/step - loss: 0.7132 - acc: 0.7347 - val_loss: 1.0123 - val_acc: 0.6428\n",
      "\n",
      "Epoch 00043: val_acc did not improve from 0.65129\n",
      "Epoch 44/50\n",
      "235/235 [==============================] - 556s 2s/step - loss: 0.7137 - acc: 0.7334 - val_loss: 0.9963 - val_acc: 0.6578\n",
      "\n",
      "Epoch 00044: val_acc improved from 0.65129 to 0.65776, saving model to model_weights.h5\n",
      "Epoch 45/50\n",
      "235/235 [==============================] - 557s 2s/step - loss: 0.6933 - acc: 0.7396 - val_loss: 1.0266 - val_acc: 0.6513\n",
      "\n",
      "Epoch 00045: val_acc did not improve from 0.65776\n",
      "Epoch 46/50\n",
      "235/235 [==============================] - 567s 2s/step - loss: 0.6827 - acc: 0.7465 - val_loss: 1.0229 - val_acc: 0.6502\n",
      "\n",
      "Epoch 00046: val_acc did not improve from 0.65776\n",
      "Epoch 47/50\n",
      "235/235 [==============================] - 566s 2s/step - loss: 0.6685 - acc: 0.7493 - val_loss: 1.0058 - val_acc: 0.6613\n",
      "\n",
      "Epoch 00047: val_acc improved from 0.65776 to 0.66134, saving model to model_weights.h5\n",
      "Epoch 48/50\n",
      "235/235 [==============================] - 565s 2s/step - loss: 0.6542 - acc: 0.7593 - val_loss: 1.0483 - val_acc: 0.6401\n",
      "\n",
      "Epoch 00048: val_acc did not improve from 0.66134\n",
      "Epoch 49/50\n",
      "235/235 [==============================] - 565s 2s/step - loss: 0.6319 - acc: 0.7664 - val_loss: 1.0263 - val_acc: 0.6564\n",
      "\n",
      "Epoch 00049: val_acc did not improve from 0.66134\n",
      "Epoch 50/50\n",
      "235/235 [==============================] - 565s 2s/step - loss: 0.6304 - acc: 0.7649 - val_loss: 1.0386 - val_acc: 0.6499\n",
      "\n",
      "Epoch 00050: val_acc did not improve from 0.66134\n",
      "CPU times: user 1d 21h 53min 39s, sys: 5h 2min 39s, total: 2d 2h 56min 19s\n",
      "Wall time: 7h 43min 58s\n"
     ]
    }
   ],
   "source": [
    "%%time\n",
    "\n",
    "# number of epochs to train the NN\n",
    "epochs = 50\n",
    "\n",
    "from keras.callbacks import ModelCheckpoint\n",
    "\n",
    "checkpoint = ModelCheckpoint(\"model_weights.h5\", monitor='val_acc', verbose=1, save_best_only=True, mode='max')\n",
    "callbacks_list = [checkpoint]\n",
    "\n",
    "history = model.fit_generator(generator=train_generator,\n",
    "                                steps_per_epoch=train_generator.n//train_generator.batch_size,\n",
    "                                epochs=epochs,\n",
    "                                validation_data = validation_generator,\n",
    "                                validation_steps = validation_generator.n//validation_generator.batch_size,\n",
    "                                callbacks=callbacks_list\n",
    "                                )"
   ]
  },
  {
   "cell_type": "code",
   "execution_count": 10,
   "metadata": {},
   "outputs": [],
   "source": [
    "#model save\n",
    "SAVER = \"../notebooks/model_save\"\n",
    "model.save(os.path.join(SAVER, \"kaggle_model_9cls.h5\"))"
   ]
  },
  {
   "cell_type": "code",
   "execution_count": 209,
   "metadata": {},
   "outputs": [],
   "source": [
    "# serialize model structure to JSON\n",
    "# model_json = model.to_json()\n",
    "# with open(\"model.json\", \"w\") as json_file:\n",
    "#     json_file.write(model_json)"
   ]
  },
  {
   "cell_type": "markdown",
   "metadata": {},
   "source": [
    "## Analyze the result"
   ]
  },
  {
   "cell_type": "code",
   "execution_count": 11,
   "metadata": {},
   "outputs": [
    {
     "data": {
      "image/png": "[encoded data removed]",
      "text/plain": [
       "<Figure size 1440x720 with 2 Axes>"
      ]
     },
     "metadata": {
      "needs_background": "light"
     },
     "output_type": "display_data"
    }
   ],
   "source": [
    "# plot the evolution of Loss and Acuracy on the train and validation sets\n",
    "\n",
    "import matplotlib.pyplot as plt\n",
    "\n",
    "plt.figure(figsize=(20,10))\n",
    "plt.subplot(1, 2, 1)\n",
    "plt.suptitle('Optimizer : Adam', fontsize=10)\n",
    "plt.ylabel('Loss', fontsize=16)\n",
    "plt.plot(history.history['loss'], label='Training Loss')\n",
    "plt.plot(history.history['val_loss'], label='Validation Loss')\n",
    "plt.legend(loc='upper right')\n",
    "\n",
    "plt.subplot(1, 2, 2)\n",
    "plt.ylabel('Accuracy', fontsize=16)\n",
    "plt.plot(history.history['acc'], label='Training Accuracy')\n",
    "plt.plot(history.history['val_acc'], label='Validation Accuracy')\n",
    "plt.legend(loc='lower right')\n",
    "plt.show()\n"
   ]
  },
  {
   "cell_type": "markdown",
   "metadata": {},
   "source": [
    "## Confusion Matrix"
   ]
  },
  {
   "cell_type": "code",
   "execution_count": 13,
   "metadata": {},
   "outputs": [
    {
     "data": {
      "text/plain": [
       "array([[ 54,   0,   1,   1,  55, 354, 341, 139,  15],\n",
       "       [ 13,   0,   0,   0,  10,  23,  80,  35,   1],\n",
       "       [  9,   0,   0,   0,   9,   7,  57,  28,   1],\n",
       "       [ 14,   0,   0,   1,  12,  16,  94,  26,   1],\n",
       "       [ 70,   1,   3,   1, 111,  40, 248, 535,   9],\n",
       "       [405,   0,  14,   1, 210, 103, 149, 338, 605],\n",
       "       [219, 172,  73, 149, 274,  32,  68, 194,  35],\n",
       "       [ 58,   2,   4,   0, 289, 535,  75, 139,  37],\n",
       "       [ 16,   0,   1,   0,  15, 668,  28,  55,  14]])"
      ]
     },
     "execution_count": 13,
     "metadata": {},
     "output_type": "execute_result"
    }
   ],
   "source": [
    "from sklearn.metrics import classification_report, confusion_matrix\n",
    "steps = validation_generator.n//validation_generator.batch_size +1\n",
    "predictions = model.predict_generator(generator=validation_generator, steps=steps)\n",
    "y_pred = [np.argmax(probas) for probas in predictions]\n",
    "y_test = validation_generator.classes\n",
    "\n",
    "cnf_matrix = confusion_matrix(y_test, y_pred)\n",
    "\n",
    "cnf_matrix"
   ]
  },
  {
   "cell_type": "code",
   "execution_count": 14,
   "metadata": {
    "scrolled": true
   },
   "outputs": [
    {
     "name": "stdout",
     "output_type": "stream",
     "text": [
      "{'confused': 1, 'distracted': 3, 'neutral': 6, 'happy': 5, 'angry': 0, 'surprise': 8, 'fear': 4, 'sad': 7, 'disgust': 2}\n"
     ]
    }
   ],
   "source": [
    "print(validation_generator.class_indices)"
   ]
  },
  {
   "cell_type": "code",
   "execution_count": 16,
   "metadata": {},
   "outputs": [
    {
     "data": {
      "text/plain": [
       "array([[ 54,   0,   1,   1,  55, 354, 341, 139,  15],\n",
       "       [ 13,   0,   0,   0,  10,  23,  80,  35,   1],\n",
       "       [  9,   0,   0,   0,   9,   7,  57,  28,   1],\n",
       "       [ 14,   0,   0,   1,  12,  16,  94,  26,   1],\n",
       "       [ 70,   1,   3,   1, 111,  40, 248, 535,   9],\n",
       "       [405,   0,  14,   1, 210, 103, 149, 338, 605],\n",
       "       [219, 172,  73, 149, 274,  32,  68, 194,  35],\n",
       "       [ 58,   2,   4,   0, 289, 535,  75, 139,  37],\n",
       "       [ 16,   0,   1,   0,  15, 668,  28,  55,  14]])"
      ]
     },
     "execution_count": 16,
     "metadata": {},
     "output_type": "execute_result"
    }
   ],
   "source": [
    "cnf_matrix"
   ]
  },
  {
   "cell_type": "code",
   "execution_count": 18,
   "metadata": {},
   "outputs": [
    {
     "data": {
      "text/plain": [
       "['angry',\n",
       " 'confused',\n",
       " 'disgust',\n",
       " 'distracted',\n",
       " 'fear',\n",
       " 'happy',\n",
       " 'neutral',\n",
       " 'sad',\n",
       " 'surprise']"
      ]
     },
     "execution_count": 18,
     "metadata": {},
     "output_type": "execute_result"
    }
   ],
   "source": [
    "class_labels = validation_generator.class_indices\n",
    "class_labels = {v: k for k, v in class_labels.items()}\n",
    "classes = list(class_labels.values())\n",
    "classes"
   ]
  },
  {
   "cell_type": "code",
   "execution_count": 20,
   "metadata": {},
   "outputs": [
    {
     "data": {
      "image/png": "[encoded data removed]",
      "text/plain": [
       "<Figure size 720x720 with 2 Axes>"
      ]
     },
     "metadata": {
      "needs_background": "light"
     },
     "output_type": "display_data"
    }
   ],
   "source": [
    "## July 6 --> Tracey kick off the run till here.... continue below once training is done....\n",
    "# import itertools\n",
    "# cm=cnf_matrix\n",
    "# cm = cm.astype('float') / cm.sum(axis=1)[:,None]\n",
    "# plt.figure(figsize=(10,10))\n",
    "# plt.imshow(cm, interpolation='nearest', cmap=plt.cm.Blues)\n",
    "# plt.colorbar()\n",
    "# tick_marks = np.arange(len(classes))\n",
    "# _ = plt.xticks(tick_marks, classes, rotation=90)\n",
    "# _ = plt.yticks(tick_marks, classes)\n",
    "\n",
    "# fmt = '.2f'\n",
    "# thresh = cm.max() / 2.\n",
    "# for i, j in itertools.product(range(cm.shape[0]), range(cm.shape[1])):\n",
    "#     plt.text(j, i, format(cm[i, j], fmt),horizontalalignment=\"center\",color=\"white\" if cm[i, j] > thresh else \"black\")"
   ]
  },
  {
   "cell_type": "code",
   "execution_count": 198,
   "metadata": {
    "scrolled": true
   },
   "outputs": [
    {
     "data": {
      "text/plain": [
       "array([[0.05, 0.  , 0.02, 0.  , 0.03, 0.04, 0.15, 0.29, 0.37],\n",
       "       [0.01, 0.  , 0.  , 0.  , 0.01, 0.01, 0.01, 0.01, 0.14],\n",
       "       [0.  , 0.  , 0.  , 0.  , 0.01, 0.  , 0.01, 0.  , 0.09],\n",
       "       [0.01, 0.  , 0.  , 0.  , 0.01, 0.01, 0.01, 0.01, 0.1 ],\n",
       "       [0.39, 0.46, 0.23, 0.01, 0.02, 0.05, 0.16, 0.18, 0.03],\n",
       "       [0.15, 0.57, 0.54, 0.92, 0.15, 0.27, 0.21, 0.32, 0.18],\n",
       "       [0.03, 0.  , 0.02, 0.  , 0.01, 0.55, 0.06, 0.08, 0.03],\n",
       "       [0.06, 0.  , 0.04, 0.01, 0.01, 0.12, 0.53, 0.17, 0.02],\n",
       "       [0.04, 0.  , 0.07, 0.  , 0.01, 0.04, 0.22, 0.34, 0.01]])"
      ]
     },
     "execution_count": 198,
     "metadata": {},
     "output_type": "execute_result"
    }
   ],
   "source": [
    "# test=cnf_matrix\n",
    "# test1 = test / test.sum(axis=1)\n",
    "# test1"
   ]
  },
  {
   "cell_type": "code",
   "execution_count": 171,
   "metadata": {},
   "outputs": [
    {
     "name": "stdout",
     "output_type": "stream",
     "text": [
      "{'neutral': 6, 'angry': 0, 'happy': 5, 'distracted': 3, 'confused': 1, 'disgust': 2, 'fear': 4, 'sad': 7, 'surprise': 8}\n"
     ]
    }
   ],
   "source": [
    "print(validation_generator.class_indices)"
   ]
  },
  {
   "cell_type": "code",
   "execution_count": 21,
   "metadata": {},
   "outputs": [
    {
     "name": "stdout",
     "output_type": "stream",
     "text": [
      "Classification Report\n",
      "              precision    recall  f1-score   support\n",
      "\n",
      "       angry       0.06      0.06      0.06       960\n",
      "    confused       0.00      0.00      0.00       162\n",
      "     disgust       0.00      0.00      0.00       111\n",
      "  distracted       0.01      0.01      0.01       164\n",
      "        fear       0.11      0.11      0.11      1018\n",
      "       happy       0.06      0.06      0.06      1825\n",
      "     neutral       0.06      0.06      0.06      1216\n",
      "         sad       0.09      0.12      0.11      1139\n",
      "    surprise       0.02      0.02      0.02       797\n",
      "\n",
      "    accuracy                           0.07      7392\n",
      "   macro avg       0.05      0.05      0.05      7392\n",
      "weighted avg       0.06      0.07      0.07      7392\n",
      "\n"
     ]
    }
   ],
   "source": [
    "from sklearn.metrics import classification_report, confusion_matrix\n",
    "class_labels = validation_generator.class_indices\n",
    "class_labels = {v: k for k, v in class_labels.items()}\n",
    "classes = list(class_labels.values())\n",
    "print('Classification Report')\n",
    "target_names = list(class_labels.values())\n",
    "print(classification_report(validation_generator.classes, y_pred, target_names=target_names))"
   ]
  },
  {
   "cell_type": "code",
   "execution_count": 23,
   "metadata": {},
   "outputs": [
    {
     "ename": "NameError",
     "evalue": "name 'class_names' is not defined",
     "output_type": "error",
     "traceback": [
      "\u001b[0;31m---------------------------------------------------------------------------\u001b[0m",
      "\u001b[0;31mNameError\u001b[0m                                 Traceback (most recent call last)",
      "\u001b[0;32m<ipython-input-23-a16db3680254>\u001b[0m in \u001b[0;36m<module>\u001b[0;34m\u001b[0m\n\u001b[1;32m     37\u001b[0m \u001b[0;31m# plot normalized confusion matrix\u001b[0m\u001b[0;34m\u001b[0m\u001b[0;34m\u001b[0m\u001b[0m\n\u001b[1;32m     38\u001b[0m \u001b[0mplt\u001b[0m\u001b[0;34m.\u001b[0m\u001b[0mfigure\u001b[0m\u001b[0;34m(\u001b[0m\u001b[0;34m)\u001b[0m\u001b[0;34m\u001b[0m\u001b[0m\n\u001b[0;32m---> 39\u001b[0;31m \u001b[0mplot_confusion_matrix\u001b[0m\u001b[0;34m(\u001b[0m\u001b[0mcnf_matrix\u001b[0m\u001b[0;34m,\u001b[0m \u001b[0mclasses\u001b[0m\u001b[0;34m=\u001b[0m\u001b[0mclass_names\u001b[0m\u001b[0;34m,\u001b[0m \u001b[0mtitle\u001b[0m\u001b[0;34m=\u001b[0m\u001b[0;34m'Normalized confusion matrix'\u001b[0m\u001b[0;34m)\u001b[0m\u001b[0;34m\u001b[0m\u001b[0m\n\u001b[0m\u001b[1;32m     40\u001b[0m \u001b[0mplt\u001b[0m\u001b[0;34m.\u001b[0m\u001b[0mshow\u001b[0m\u001b[0;34m(\u001b[0m\u001b[0;34m)\u001b[0m\u001b[0;34m\u001b[0m\u001b[0m\n",
      "\u001b[0;31mNameError\u001b[0m: name 'class_names' is not defined"
     ]
    },
    {
     "data": {
      "text/plain": [
       "<Figure size 432x288 with 0 Axes>"
      ]
     },
     "metadata": {},
     "output_type": "display_data"
    }
   ],
   "source": [
    "# show the confusion matrix of our predictions\n",
    "\n",
    "# compute predictions\n",
    "# predictions = model.predict_generator(generator=validation_generator, steps=57.484375)\n",
    "# y_pred = [np.argmax(probas) for probas in predictions]\n",
    "# y_test = validation_generator.classes\n",
    "# class_names = validation_generator.class_indices.keys()\n",
    "\n",
    "# from sklearn.metrics import confusion_matrix\n",
    "# import itertools\n",
    "\n",
    "def plot_confusion_matrix(cm, classes, title='Confusion matrix', cmap=plt.cm.Blues):\n",
    "    cm = cm.astype('float') / cm.sum(axis=1)[:, np.newaxis]\n",
    "    plt.figure(figsize=(10,10))\n",
    "    plt.imshow(cm, interpolation='nearest', cmap=cmap)\n",
    "    plt.title(title)\n",
    "    plt.colorbar()\n",
    "    tick_marks = np.arange(len(classes))\n",
    "    plt.xticks(tick_marks, classes, rotation=45)\n",
    "    plt.yticks(tick_marks, classes)\n",
    "\n",
    "    fmt = '.2f'\n",
    "    thresh = cm.max() / 2.\n",
    "    for i, j in itertools.product(range(cm.shape[0]), range(cm.shape[1])):\n",
    "        plt.text(j, i, format(cm[i, j], fmt),\n",
    "                 horizontalalignment=\"center\",\n",
    "                 color=\"white\" if cm[i, j] > thresh else \"black\")\n",
    "\n",
    "    plt.ylabel('True label')\n",
    "    plt.xlabel('Predicted label')\n",
    "    plt.tight_layout()\n",
    "    \n",
    "# compute confusion matrix\n",
    "# cnf_matrix = confusion_matrix(y_test, y_pred)\n",
    "np.set_printoptions(precision=2)\n",
    "\n",
    "# plot normalized confusion matrix\n",
    "plt.figure()\n",
    "plot_confusion_matrix(cnf_matrix, classes=class_names, title='Normalized confusion matrix')\n",
    "plt.show()"
   ]
  },
  {
   "cell_type": "code",
   "execution_count": null,
   "metadata": {},
   "outputs": [],
   "source": []
  }
 ],
 "metadata": {
  "kernelspec": {
   "display_name": "Python 3",
   "language": "python",
   "name": "python3"
  },
  "language_info": {
   "codemirror_mode": {
    "name": "ipython",
    "version": 3
   },
   "file_extension": ".py",
   "mimetype": "text/x-python",
   "name": "python",
   "nbconvert_exporter": "python",
   "pygments_lexer": "ipython3",
   "version": "3.5.2"
  }
 },
 "nbformat": 4,
 "nbformat_minor": 2
}
