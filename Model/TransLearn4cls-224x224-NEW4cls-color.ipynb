{
 "cells": [
  {
   "cell_type": "markdown",
   "metadata": {},
   "source": [
    "### 4 classes - Confused and Happy and Surprise and Neutral- 224x224 Res\n",
    "https://www.kaggle.com/suniliitb96/tutorial-keras-transfer-learning-with-resnet50?select=resnet50_weights_tf_dim_ordering_tf_kernels_notop.h5"
   ]
  },
  {
   "cell_type": "code",
   "execution_count": 1,
   "metadata": {},
   "outputs": [],
   "source": [
    "import numpy as np\n",
    "import pandas as pd\n",
    "import matplotlib.pyplot as plt\n",
    "%matplotlib inline \n",
    "import cv2\n",
    "import os"
   ]
  },
  {
   "cell_type": "code",
   "execution_count": 2,
   "metadata": {},
   "outputs": [],
   "source": [
    "from tensorflow.python.keras.applications import ResNet50\n",
    "from tensorflow.python.keras.models import Sequential\n",
    "from tensorflow.python.keras.layers import Dense"
   ]
  },
  {
   "cell_type": "code",
   "execution_count": 3,
   "metadata": {},
   "outputs": [],
   "source": [
    "%mkdir data4cls224_color_newimg_ORIGINAL"
   ]
  },
  {
   "cell_type": "code",
   "execution_count": 4,
   "metadata": {},
   "outputs": [],
   "source": [
    "%cp -r /notebooks/data3cls224_color_newimg_ORIGINAL/train /notebooks/data4cls224_color_newimg_ORIGINAL\n",
    "%cp -r /notebooks/data3cls224_color_newimg_ORIGINAL/validation /notebooks/data4cls224_color_newimg_ORIGINAL"
   ]
  },
  {
   "cell_type": "code",
   "execution_count": 3,
   "metadata": {},
   "outputs": [
    {
     "name": "stdout",
     "output_type": "stream",
     "text": [
      "/notebooks\r\n"
     ]
    }
   ],
   "source": [
    "!pwd"
   ]
  },
  {
   "cell_type": "code",
   "execution_count": 4,
   "metadata": {},
   "outputs": [
    {
     "name": "stdout",
     "output_type": "stream",
     "text": [
      "/notebooks/data4cls224_color_newimg_ORIGINAL/train\n"
     ]
    }
   ],
   "source": [
    "%cd data4cls224_color_newimg_ORIGINAL/train"
   ]
  },
  {
   "cell_type": "code",
   "execution_count": 17,
   "metadata": {},
   "outputs": [],
   "source": [
    "%mkdir neutral"
   ]
  },
  {
   "cell_type": "code",
   "execution_count": 11,
   "metadata": {},
   "outputs": [],
   "source": [
    "#!unzip train_neu.zip"
   ]
  },
  {
   "cell_type": "code",
   "execution_count": 16,
   "metadata": {},
   "outputs": [
    {
     "name": "stdout",
     "output_type": "stream",
     "text": [
      "/notebooks/data4cls224_color_newimg_ORIGINAL/validation\n"
     ]
    }
   ],
   "source": [
    "%cd data4cls224_color_newimg_ORIGINAL/validation"
   ]
  },
  {
   "cell_type": "code",
   "execution_count": 18,
   "metadata": {},
   "outputs": [
    {
     "name": "stdout",
     "output_type": "stream",
     "text": [
      "/notebooks/data4cls224_color_newimg_ORIGINAL/validation/neutral\n"
     ]
    }
   ],
   "source": [
    "%cd neutral"
   ]
  },
  {
   "cell_type": "code",
   "execution_count": 20,
   "metadata": {},
   "outputs": [],
   "source": [
    "#!unzip test_neu.zip"
   ]
  },
  {
   "cell_type": "code",
   "execution_count": 81,
   "metadata": {},
   "outputs": [
    {
     "name": "stdout",
     "output_type": "stream",
     "text": [
      "/notebooks/data4cls224_color_newimg_ORIGINAL/train\n",
      "/notebooks/data4cls224_color_newimg_ORIGINAL\n"
     ]
    }
   ],
   "source": [
    "%pwd\n",
    "%cd ..\n",
    "%cd .."
   ]
  },
  {
   "cell_type": "code",
   "execution_count": 83,
   "metadata": {},
   "outputs": [
    {
     "name": "stdout",
     "output_type": "stream",
     "text": [
      "/notebooks/data4cls224_color_newimg_ORIGINAL/validation/neutral\n"
     ]
    }
   ],
   "source": [
    "%cd validation/neutral\n",
    "#%cd .."
   ]
  },
  {
   "cell_type": "code",
   "execution_count": 29,
   "metadata": {},
   "outputs": [
    {
     "name": "stdout",
     "output_type": "stream",
     "text": [
      "/notebooks/data4cls224_color_newimg_ORIGINAL/validation/neutral\n"
     ]
    }
   ],
   "source": [
    "#%cd validation/neutral"
   ]
  },
  {
   "cell_type": "code",
   "execution_count": 85,
   "metadata": {},
   "outputs": [],
   "source": [
    "#!unzip test_tan_neu.zip"
   ]
  },
  {
   "cell_type": "code",
   "execution_count": 86,
   "metadata": {},
   "outputs": [],
   "source": [
    "# Fixed classes\n",
    "NUM_CLASSES = 4\n",
    "CHANNELS = 3\n",
    "\n",
    "IMAGE_RESIZE = 224\n",
    "RESNET50_POOLING_AVERAGE = 'avg'\n",
    "DENSE_LAYER_ACTIVATION = 'softmax'\n",
    "OBJECTIVE_FUNCTION = 'categorical_crossentropy'\n",
    "\n",
    "# Common accuracy metric for all outputs, but can use different metrics for different output\n",
    "LOSS_METRICS = ['accuracy']\n",
    "\n",
    "# EARLY_STOP_PATIENCE must be < NUM_EPOCHS\n",
    "NUM_EPOCHS = 10\n",
    "EARLY_STOP_PATIENCE = 3\n",
    "\n",
    "# These steps value should be proper FACTOR of no.-of-images in train & valid folders respectively\n",
    "# Training images processed in each step would be no.-of-train-images / STEPS_PER_EPOCH_TRAINING\n",
    "STEPS_PER_EPOCH_TRAINING = 10\n",
    "STEPS_PER_EPOCH_VALIDATION = 10\n",
    "\n",
    "# These steps value should be proper FACTOR of no.-of-images in train & valid folders respectively\n",
    "# NOTE that these BATCH* are for Keras ImageDataGenerator batching to fill epoch step input\n",
    "BATCH_SIZE_TRAINING = 100\n",
    "BATCH_SIZE_VALIDATION = 100\n",
    "\n",
    "# Using 1 to easily manage mapping between test_generator & prediction for submission preparation\n",
    "BATCH_SIZE_TESTING = 1"
   ]
  },
  {
   "cell_type": "code",
   "execution_count": 87,
   "metadata": {},
   "outputs": [],
   "source": [
    "resnet_weights_path = '/notebooks/W251_FinalProject/resnet50_weights_tf_dim_ordering_tf_kernels_notop.h5'\n",
    "#download = 'https://github.com/fchollet/deep-learning-models/releases/download/v0.2/resnet50_weights_tf_dim_ordering_tf_kernels_notop.h5'"
   ]
  },
  {
   "cell_type": "code",
   "execution_count": 88,
   "metadata": {},
   "outputs": [],
   "source": [
    "#Still not talking about our train/test data or any pre-processing.\n",
    "model = Sequential()\n",
    "\n",
    "# 1st layer as the lumpsum weights from resnet50_weights_tf_dim_ordering_tf_kernels_notop.h5\n",
    "# NOTE that this layer will be set below as NOT TRAINABLE, i.e., use it as is\n",
    "model.add(ResNet50(include_top = False, pooling = RESNET50_POOLING_AVERAGE, weights = resnet_weights_path))\n",
    "\n",
    "# 2nd layer as Dense for 7-class classification, i.e., dog or cat using SoftMax activation\n",
    "model.add(Dense(NUM_CLASSES, activation = DENSE_LAYER_ACTIVATION))\n",
    "\n",
    "# Say not to train first layer (ResNet) model as it is already trained\n",
    "model.layers[0].trainable = False"
   ]
  },
  {
   "cell_type": "code",
   "execution_count": 89,
   "metadata": {},
   "outputs": [
    {
     "name": "stdout",
     "output_type": "stream",
     "text": [
      "_________________________________________________________________\n",
      "Layer (type)                 Output Shape              Param #   \n",
      "=================================================================\n",
      "resnet50 (Model)             (None, 2048)              23587712  \n",
      "_________________________________________________________________\n",
      "dense_2 (Dense)              (None, 4)                 8196      \n",
      "=================================================================\n",
      "Total params: 23,595,908\n",
      "Trainable params: 8,196\n",
      "Non-trainable params: 23,587,712\n",
      "_________________________________________________________________\n"
     ]
    }
   ],
   "source": [
    "model.summary()"
   ]
  },
  {
   "cell_type": "code",
   "execution_count": 90,
   "metadata": {},
   "outputs": [],
   "source": [
    "from tensorflow.python.keras import optimizers\n",
    "\n",
    "sgd = optimizers.SGD(lr = 0.01, decay = 1e-6, momentum = 0.9, nesterov = True)\n",
    "\n",
    "#previous code it is just optimizer=sgd, here i have to use 'sgd' with quotaiton, otherwise the code is not running at fit)\n",
    "#for this part, i think i am using default sgd??\n",
    "model.compile(optimizer = sgd, loss = OBJECTIVE_FUNCTION, metrics = LOSS_METRICS)"
   ]
  },
  {
   "cell_type": "code",
   "execution_count": 91,
   "metadata": {},
   "outputs": [
    {
     "name": "stdout",
     "output_type": "stream",
     "text": [
      "Found 4459 images belonging to 4 classes.\n",
      "Found 1187 images belonging to 4 classes.\n"
     ]
    }
   ],
   "source": [
    "from keras.applications.resnet50 import preprocess_input\n",
    "from keras.preprocessing.image import ImageDataGenerator\n",
    "image_size = IMAGE_RESIZE\n",
    "\n",
    "train_dir1 = \"/notebooks/data4cls224_color_newimg_ORIGINAL/train/\"\n",
    "valid_dir1 = \"/notebooks/data4cls224_color_newimg_ORIGINAL/validation/\"\n",
    "\n",
    "data_generator = ImageDataGenerator(preprocessing_function=preprocess_input)\n",
    "\n",
    "#preprocess_input is the same input as resnet50\n",
    "\n",
    "train_generator = data_generator.flow_from_directory(\n",
    "        train_dir1,\n",
    "        target_size=(image_size, image_size),\n",
    "        batch_size=BATCH_SIZE_TRAINING,\n",
    "        class_mode='categorical')\n",
    "\n",
    "validation_generator = data_generator.flow_from_directory(\n",
    "        valid_dir1,\n",
    "        target_size=(image_size, image_size),\n",
    "        batch_size=BATCH_SIZE_VALIDATION,\n",
    "        class_mode='categorical') "
   ]
  },
  {
   "cell_type": "code",
   "execution_count": 12,
   "metadata": {},
   "outputs": [],
   "source": [
    "!rmdir /notebooks/data3cls224_color_newimg_ORIGINAL/train/.ipynb_checkpoints\n",
    "!rmdir /notebooks/data3cls224_color_newimg_ORIGINAL/validation/.ipynb_checkpoints"
   ]
  },
  {
   "cell_type": "code",
   "execution_count": 92,
   "metadata": {},
   "outputs": [
    {
     "name": "stdout",
     "output_type": "stream",
     "text": [
      "{'neutral': 2, 'surprise': 3, 'happy': 1, 'confused': 0}\n"
     ]
    }
   ],
   "source": [
    "print(validation_generator.class_indices)"
   ]
  },
  {
   "cell_type": "code",
   "execution_count": 93,
   "metadata": {},
   "outputs": [
    {
     "data": {
      "text/plain": [
       "(100, 45, 100, 12)"
      ]
     },
     "execution_count": 93,
     "metadata": {},
     "output_type": "execute_result"
    }
   ],
   "source": [
    "(BATCH_SIZE_TRAINING, len(train_generator), BATCH_SIZE_VALIDATION, len(validation_generator))"
   ]
  },
  {
   "cell_type": "code",
   "execution_count": 94,
   "metadata": {},
   "outputs": [],
   "source": [
    "from tensorflow.python.keras.callbacks import EarlyStopping, ModelCheckpoint\n",
    "\n",
    "cb_early_stopper = EarlyStopping(monitor = 'val_loss', patience = EARLY_STOP_PATIENCE)\n",
    "#cb_checkpointer = ModelCheckpoint(filepath = '/notebooks/W251_FinalProject/best.hdf5', monitor = 'val_loss', save_best_only = True, mode = 'auto')\n",
    "cb_checkpointer = ModelCheckpoint(filepath = '/notebooks/model_save/4cls_224_ConfHappySurNeu_Color_newimg_1.hdf5', monitor = 'val_loss', save_best_only = True, mode = 'auto')"
   ]
  },
  {
   "cell_type": "code",
   "execution_count": 95,
   "metadata": {},
   "outputs": [
    {
     "name": "stdout",
     "output_type": "stream",
     "text": [
      "Epoch 1/10\n",
      "12/12 [==============================] - 71s 6s/step - loss: 0.6003 - acc: 0.7254\n",
      "45/45 [==============================] - 414s 9s/step - loss: 0.3472 - acc: 0.8847 - val_loss: 0.6003 - val_acc: 0.7254\n",
      "Epoch 2/10\n",
      "12/12 [==============================] - 70s 6s/step - loss: 0.2558 - acc: 0.9048\n",
      "45/45 [==============================] - 412s 9s/step - loss: 0.0644 - acc: 0.9906 - val_loss: 0.2558 - val_acc: 0.9048\n",
      "Epoch 3/10\n",
      "12/12 [==============================] - 70s 6s/step - loss: 0.0959 - acc: 0.9773\n",
      "45/45 [==============================] - 412s 9s/step - loss: 0.0434 - acc: 0.9946 - val_loss: 0.0959 - val_acc: 0.9773\n",
      "Epoch 4/10\n",
      "12/12 [==============================] - 70s 6s/step - loss: 0.0488 - acc: 0.9899\n",
      "45/45 [==============================] - 412s 9s/step - loss: 0.0339 - acc: 0.9973 - val_loss: 0.0488 - val_acc: 0.9899\n",
      "Epoch 5/10\n",
      "12/12 [==============================] - 70s 6s/step - loss: 0.0301 - acc: 0.9975\n",
      "45/45 [==============================] - 412s 9s/step - loss: 0.0287 - acc: 0.9982 - val_loss: 0.0301 - val_acc: 0.9975\n",
      "Epoch 6/10\n",
      "12/12 [==============================] - 70s 6s/step - loss: 0.0204 - acc: 0.9992\n",
      "45/45 [==============================] - 411s 9s/step - loss: 0.0252 - acc: 0.9971 - val_loss: 0.0204 - val_acc: 0.9992\n",
      "Epoch 7/10\n",
      "12/12 [==============================] - 70s 6s/step - loss: 0.0159 - acc: 1.0000\n",
      "45/45 [==============================] - 411s 9s/step - loss: 0.0198 - acc: 0.9993 - val_loss: 0.0159 - val_acc: 1.0000\n",
      "Epoch 8/10\n",
      "12/12 [==============================] - 70s 6s/step - loss: 0.0145 - acc: 1.0000\n",
      "45/45 [==============================] - 411s 9s/step - loss: 0.0183 - acc: 0.9989 - val_loss: 0.0145 - val_acc: 1.0000\n",
      "Epoch 9/10\n",
      "12/12 [==============================] - 70s 6s/step - loss: 0.0138 - acc: 1.0000\n",
      "45/45 [==============================] - 411s 9s/step - loss: 0.0170 - acc: 0.9993 - val_loss: 0.0138 - val_acc: 1.0000\n",
      "Epoch 10/10\n",
      "12/12 [==============================] - 70s 6s/step - loss: 0.0112 - acc: 1.0000\n",
      "45/45 [==============================] - 411s 9s/step - loss: 0.0160 - acc: 0.9998 - val_loss: 0.0112 - val_acc: 1.0000\n"
     ]
    }
   ],
   "source": [
    "# import keras\n",
    "# filepath = os.path.join(\"/notebooks/littleVGG7cls/model_transferlearn_{epoch}.hdf5\")\n",
    "\n",
    "# checkpoint = keras.callbacks.ModelCheckpoint(filepath,\n",
    "#                                              monitor='val_acc',\n",
    "#                                              verbose=1,\n",
    "#                                              save_best_only=True,\n",
    "#                                              mode='max')\n",
    "# callbacks = [checkpoint]\n",
    "\n",
    "fit_history = model.fit_generator(\n",
    "        train_generator,\n",
    "        steps_per_epoch=STEPS_PER_EPOCH_TRAINING,\n",
    "        epochs = NUM_EPOCHS,\n",
    "        validation_data=validation_generator,\n",
    "        validation_steps=STEPS_PER_EPOCH_VALIDATION,\n",
    "        callbacks=[cb_checkpointer, cb_early_stopper]\n",
    "\n",
    ")\n",
    "#model.load_weights('/notebooks/model_save/3cls_224_ConfHappySur_Color_newimg.hdf5')\n",
    "\n"
   ]
  },
  {
   "cell_type": "code",
   "execution_count": 96,
   "metadata": {},
   "outputs": [
    {
     "name": "stdout",
     "output_type": "stream",
     "text": [
      "/notebooks/data4cls224_color_newimg_ORIGINAL/validation/neutral\r\n"
     ]
    }
   ],
   "source": [
    "!pwd"
   ]
  },
  {
   "cell_type": "code",
   "execution_count": 98,
   "metadata": {},
   "outputs": [
    {
     "name": "stdout",
     "output_type": "stream",
     "text": [
      "/notebooks\n"
     ]
    }
   ],
   "source": [
    "%cd .."
   ]
  },
  {
   "cell_type": "code",
   "execution_count": 99,
   "metadata": {},
   "outputs": [],
   "source": [
    "SAVER = \"../notebooks/model_save/\"\n",
    "model.save(os.path.join(SAVER, \"4cls_224_ConfHappySurNeu_Color_newimg_1.h5\"))  #saving the model on each epoc\n",
    "#model.save_weights(os.path.join(SAVER, \"model_weights.h5\")) #saving the weights of model on each epoch"
   ]
  },
  {
   "cell_type": "code",
   "execution_count": 100,
   "metadata": {},
   "outputs": [],
   "source": [
    "model.load_weights('/notebooks/model_save/4cls_224_ConfHappySurNeu_Color_newimg_1.hdf5')\n",
    "model.save(os.path.join(SAVER, \"4cls_224_ConfHappySurNeu_Color_newimg_load_1.h5\"))\n",
    "# so far with and without the load are the same, both are with load"
   ]
  },
  {
   "cell_type": "code",
   "execution_count": 101,
   "metadata": {},
   "outputs": [
    {
     "name": "stdout",
     "output_type": "stream",
     "text": [
      "Found 1187 images belonging to 4 classes.\n",
      "Confusion Matrix\n",
      "[[228   0   0   0]\n",
      " [  0 396   0   0]\n",
      " [  0   0 390   0]\n",
      " [  0   0   0 173]]\n",
      "Classification Report\n",
      "              precision    recall  f1-score   support\n",
      "\n",
      "    confused       1.00      1.00      1.00       228\n",
      "       happy       1.00      1.00      1.00       396\n",
      "     neutral       1.00      1.00      1.00       390\n",
      "    surprise       1.00      1.00      1.00       173\n",
      "\n",
      "    accuracy                           1.00      1187\n",
      "   macro avg       1.00      1.00      1.00      1187\n",
      "weighted avg       1.00      1.00      1.00      1187\n",
      "\n"
     ]
    },
    {
     "data": {
      "image/png": "[encoded data removed]",
      "text/plain": [
       "<Figure size 576x576 with 2 Axes>"
      ]
     },
     "metadata": {
      "needs_background": "light"
     },
     "output_type": "display_data"
    }
   ],
   "source": [
    "import sklearn\n",
    "from sklearn.metrics import classification_report, confusion_matrix\n",
    "import numpy as np\n",
    "#Found 4459 images belonging to 4 classes.\n",
    "#Found 1187 images belonging to 4 classes..\n",
    "nb_train_samples = 4559\n",
    "nb_validation_samples = 1187\n",
    "batch_size=BATCH_SIZE_TESTING\n",
    "# We need to recreate our validation generator with shuffle = false\n",
    "validation_generator = data_generator.flow_from_directory(\n",
    "        directory = '/notebooks/data4cls224_color_newimg_ORIGINAL/validation/',\n",
    "        #color_mode = 'grayscale',\n",
    "        target_size=(image_size, image_size),\n",
    "        batch_size=BATCH_SIZE_TESTING,\n",
    "        class_mode='categorical',\n",
    "        shuffle=False,\n",
    "        seed=123)\n",
    "\n",
    "class_labels = validation_generator.class_indices\n",
    "class_labels = {v: k for k, v in class_labels.items()}\n",
    "classes = list(class_labels.values())\n",
    "\n",
    "#Confution Matrix and Classification Report\n",
    "Y_pred = model.predict_generator(validation_generator, 1187)\n",
    "                                 #nb_validation_samples /batch_size)\n",
    "y_pred = np.argmax(Y_pred, axis=1)\n",
    "\n",
    "print('Confusion Matrix')\n",
    "print(confusion_matrix(validation_generator.classes, y_pred))\n",
    "print('Classification Report')\n",
    "target_names = list(class_labels.values())\n",
    "print(classification_report(validation_generator.classes, y_pred, target_names=target_names))\n",
    "\n",
    "plt.figure(figsize=(8,8))\n",
    "cnf_matrix = confusion_matrix(validation_generator.classes, y_pred)\n",
    "\n",
    "plt.imshow(cnf_matrix, interpolation='nearest')\n",
    "plt.colorbar()\n",
    "tick_marks = np.arange(len(classes))\n",
    "_ = plt.xticks(tick_marks, classes, rotation=90)\n",
    "_ = plt.yticks(tick_marks, classes)"
   ]
  },
  {
   "cell_type": "code",
   "execution_count": 59,
   "metadata": {
    "scrolled": true
   },
   "outputs": [
    {
     "data": {
      "text/plain": [
       "array([[228,   0,   0,   0],\n",
       "       [  0, 396,   0,   0],\n",
       "       [  0,   0, 291,   0],\n",
       "       [  0,   0,   0, 173]])"
      ]
     },
     "execution_count": 59,
     "metadata": {},
     "output_type": "execute_result"
    }
   ],
   "source": [
    "cnf_matrix"
   ]
  },
  {
   "cell_type": "code",
   "execution_count": 24,
   "metadata": {},
   "outputs": [
    {
     "data": {
      "text/plain": [
       "array([[1., 0., 0.],\n",
       "       [0., 1., 0.],\n",
       "       [0., 0., 1.]])"
      ]
     },
     "execution_count": 24,
     "metadata": {},
     "output_type": "execute_result"
    }
   ],
   "source": [
    "cm=cnf_matrix\n",
    "cm = cm.astype('float') / cm.sum(axis=1)[:,None]\n",
    "cm"
   ]
  },
  {
   "cell_type": "code",
   "execution_count": 102,
   "metadata": {},
   "outputs": [
    {
     "data": {
      "image/png": "[encoded data removed]",
      "text/plain": [
       "<Figure size 1080x576 with 2 Axes>"
      ]
     },
     "metadata": {
      "needs_background": "light"
     },
     "output_type": "display_data"
    }
   ],
   "source": [
    " plt.figure(1, figsize = (15,8)) \n",
    "    \n",
    "plt.subplot(221)  \n",
    "plt.plot(fit_history.history['acc'])  \n",
    "plt.plot(fit_history.history['val_acc'])  \n",
    "plt.title('model accuracy')  \n",
    "plt.ylabel('accuracy')  \n",
    "plt.xlabel('epoch')  \n",
    "plt.legend(['train', 'valid']) \n",
    "    \n",
    "plt.subplot(222)  \n",
    "plt.plot(fit_history.history['loss'])  \n",
    "plt.plot(fit_history.history['val_loss'])  \n",
    "plt.title('model loss')  \n",
    "plt.ylabel('loss')  \n",
    "plt.xlabel('epoch')  \n",
    "plt.legend(['train', 'valid']) \n",
    "\n",
    "plt.show()"
   ]
  },
  {
   "cell_type": "code",
   "execution_count": 103,
   "metadata": {
    "scrolled": true
   },
   "outputs": [
    {
     "data": {
      "image/png": "[encoded data removed]",
      "text/plain": [
       "<Figure size 720x720 with 2 Axes>"
      ]
     },
     "metadata": {
      "needs_background": "light"
     },
     "output_type": "display_data"
    }
   ],
   "source": [
    "import itertools\n",
    "cm=cnf_matrix\n",
    "cm = cm.astype('float') / cm.sum(axis=1)[:,None]\n",
    "plt.figure(figsize=(10,10))\n",
    "plt.imshow(cm, interpolation='nearest', cmap=plt.cm.Blues)\n",
    "plt.colorbar()\n",
    "tick_marks = np.arange(len(classes))\n",
    "_ = plt.xticks(tick_marks, classes, rotation=90)\n",
    "_ = plt.yticks(tick_marks, classes)\n",
    "\n",
    "fmt = '.2f'\n",
    "thresh = cm.max() / 2.\n",
    "for i, j in itertools.product(range(cm.shape[0]), range(cm.shape[1])):\n",
    "    plt.text(j, i, format(cm[i, j], fmt),horizontalalignment=\"center\",color=\"white\" if cm[i, j] > thresh else \"black\")"
   ]
  },
  {
   "cell_type": "markdown",
   "metadata": {},
   "source": [
    "# load model and check"
   ]
  },
  {
   "cell_type": "code",
   "execution_count": 27,
   "metadata": {},
   "outputs": [
    {
     "name": "stdout",
     "output_type": "stream",
     "text": [
      "WARNING:tensorflow:Error in loading the saved optimizer state. As a result, your model is starting with a freshly initialized optimizer.\n",
      "_________________________________________________________________\n",
      "Layer (type)                 Output Shape              Param #   \n",
      "=================================================================\n",
      "resnet50 (Model)             (None, 2048)              23587712  \n",
      "_________________________________________________________________\n",
      "dense_1 (Dense)              (None, 2)                 4098      \n",
      "=================================================================\n",
      "Total params: 23,591,810\n",
      "Trainable params: 23,538,690\n",
      "Non-trainable params: 53,120\n",
      "_________________________________________________________________\n"
     ]
    }
   ],
   "source": [
    "\n",
    "# load and evaluate a saved model\n",
    "from numpy import loadtxt\n",
    "from tensorflow.keras.models import load_model\n",
    "\n",
    "# load model\n",
    "model = load_model('/notebooks/model_save/2clsmodel_highres.h5')\n",
    "# summarize model.\n",
    "model.summary()\n",
    "\n"
   ]
  },
  {
   "cell_type": "code",
   "execution_count": 31,
   "metadata": {},
   "outputs": [
    {
     "name": "stdout",
     "output_type": "stream",
     "text": [
      "CPU times: user 5 µs, sys: 1e+03 ns, total: 6 µs\n",
      "Wall time: 13.4 µs\n",
      "(224, 224, 3)\n",
      "[[0.3512877  0.64871234]]\n",
      "1\n"
     ]
    }
   ],
   "source": [
    "%time\n",
    "from keras.preprocessing.image import load_img, img_to_array\n",
    "base_path='/notebooks/data224x224_color/train/distracted/lm_dstr-122.jpg'\n",
    "read_image = cv2.imread(base_path)\n",
    "print(read_image.shape)\n",
    "read_image = read_image.reshape(1,read_image.shape[0], read_image.shape[1], 3)\n",
    "top_pred = model.predict(read_image)\n",
    "print(top_pred)\n",
    "#emotion_label = top_pred[0].argmax()\n",
    "emotion_label = top_pred[0].argmax()\n",
    "print(emotion_label)"
   ]
  }
 ],
 "metadata": {
  "kernelspec": {
   "display_name": "Python 3",
   "language": "python",
   "name": "python3"
  },
  "language_info": {
   "codemirror_mode": {
    "name": "ipython",
    "version": 3
   },
   "file_extension": ".py",
   "mimetype": "text/x-python",
   "name": "python",
   "nbconvert_exporter": "python",
   "pygments_lexer": "ipython3",
   "version": "3.5.2"
  }
 },
 "nbformat": 4,
 "nbformat_minor": 2
}
