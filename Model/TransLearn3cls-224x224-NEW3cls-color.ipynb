{
 "cells": [
  {
   "cell_type": "markdown",
   "metadata": {},
   "source": [
    "### 3 classes - Confused and Happy and Surprise- 224x224 Res\n",
    "https://www.kaggle.com/suniliitb96/tutorial-keras-transfer-learning-with-resnet50?select=resnet50_weights_tf_dim_ordering_tf_kernels_notop.h5"
   ]
  },
  {
   "cell_type": "code",
   "execution_count": 3,
   "metadata": {},
   "outputs": [],
   "source": [
    "import numpy as np\n",
    "import pandas as pd\n",
    "import matplotlib.pyplot as plt\n",
    "%matplotlib inline \n",
    "import cv2\n",
    "import os"
   ]
  },
  {
   "cell_type": "code",
   "execution_count": 4,
   "metadata": {},
   "outputs": [],
   "source": [
    "from tensorflow.python.keras.applications import ResNet50\n",
    "from tensorflow.python.keras.models import Sequential\n",
    "from tensorflow.python.keras.layers import Dense"
   ]
  },
  {
   "cell_type": "code",
   "execution_count": 27,
   "metadata": {},
   "outputs": [],
   "source": [
    "#%mkdir data3cls224_color_newimg_ORIGINAL"
   ]
  },
  {
   "cell_type": "code",
   "execution_count": 28,
   "metadata": {},
   "outputs": [],
   "source": [
    "\n",
    "#%cp -r /notebooks/data3cls224_color_newimg_ORIGINAL/train /notebooks/data4cls224_color_newimg_ORIGINAL\n",
    "#%cp -r /notebooks/data3cls224_color_newimg_ORIGINAL/validation /notebooks/data4cls224_color_newimg_ORIGINAL"
   ]
  },
  {
   "cell_type": "code",
   "execution_count": 6,
   "metadata": {},
   "outputs": [],
   "source": [
    "# Fixed classes\n",
    "NUM_CLASSES = 3\n",
    "CHANNELS = 3\n",
    "\n",
    "IMAGE_RESIZE = 224\n",
    "RESNET50_POOLING_AVERAGE = 'avg'\n",
    "DENSE_LAYER_ACTIVATION = 'softmax'\n",
    "OBJECTIVE_FUNCTION = 'categorical_crossentropy'\n",
    "\n",
    "# Common accuracy metric for all outputs, but can use different metrics for different output\n",
    "LOSS_METRICS = ['accuracy']\n",
    "\n",
    "# EARLY_STOP_PATIENCE must be < NUM_EPOCHS\n",
    "NUM_EPOCHS = 10\n",
    "EARLY_STOP_PATIENCE = 3\n",
    "\n",
    "# These steps value should be proper FACTOR of no.-of-images in train & valid folders respectively\n",
    "# Training images processed in each step would be no.-of-train-images / STEPS_PER_EPOCH_TRAINING\n",
    "STEPS_PER_EPOCH_TRAINING = 10\n",
    "STEPS_PER_EPOCH_VALIDATION = 10\n",
    "\n",
    "# These steps value should be proper FACTOR of no.-of-images in train & valid folders respectively\n",
    "# NOTE that these BATCH* are for Keras ImageDataGenerator batching to fill epoch step input\n",
    "BATCH_SIZE_TRAINING = 100\n",
    "BATCH_SIZE_VALIDATION = 100\n",
    "\n",
    "# Using 1 to easily manage mapping between test_generator & prediction for submission preparation\n",
    "BATCH_SIZE_TESTING = 1"
   ]
  },
  {
   "cell_type": "code",
   "execution_count": 7,
   "metadata": {},
   "outputs": [],
   "source": [
    "resnet_weights_path = '/notebooks/W251_FinalProject/resnet50_weights_tf_dim_ordering_tf_kernels_notop.h5'\n",
    "#download = 'https://github.com/fchollet/deep-learning-models/releases/download/v0.2/resnet50_weights_tf_dim_ordering_tf_kernels_notop.h5'"
   ]
  },
  {
   "cell_type": "code",
   "execution_count": 8,
   "metadata": {},
   "outputs": [
    {
     "name": "stdout",
     "output_type": "stream",
     "text": [
      "WARNING:tensorflow:From /usr/local/lib/python3.5/dist-packages/tensorflow/python/ops/resource_variable_ops.py:435: colocate_with (from tensorflow.python.framework.ops) is deprecated and will be removed in a future version.\n",
      "Instructions for updating:\n",
      "Colocations handled automatically by placer.\n"
     ]
    }
   ],
   "source": [
    "#Still not talking about our train/test data or any pre-processing.\n",
    "model = Sequential()\n",
    "\n",
    "# 1st layer as the lumpsum weights from resnet50_weights_tf_dim_ordering_tf_kernels_notop.h5\n",
    "# NOTE that this layer will be set below as NOT TRAINABLE, i.e., use it as is\n",
    "model.add(ResNet50(include_top = False, pooling = RESNET50_POOLING_AVERAGE, weights = resnet_weights_path))\n",
    "\n",
    "# 2nd layer as Dense for 7-class classification, i.e., dog or cat using SoftMax activation\n",
    "model.add(Dense(NUM_CLASSES, activation = DENSE_LAYER_ACTIVATION))\n",
    "\n",
    "# Say not to train first layer (ResNet) model as it is already trained\n",
    "model.layers[0].trainable = False"
   ]
  },
  {
   "cell_type": "code",
   "execution_count": 9,
   "metadata": {},
   "outputs": [
    {
     "name": "stdout",
     "output_type": "stream",
     "text": [
      "_________________________________________________________________\n",
      "Layer (type)                 Output Shape              Param #   \n",
      "=================================================================\n",
      "resnet50 (Model)             (None, 2048)              23587712  \n",
      "_________________________________________________________________\n",
      "dense (Dense)                (None, 3)                 6147      \n",
      "=================================================================\n",
      "Total params: 23,593,859\n",
      "Trainable params: 6,147\n",
      "Non-trainable params: 23,587,712\n",
      "_________________________________________________________________\n"
     ]
    }
   ],
   "source": [
    "model.summary()"
   ]
  },
  {
   "cell_type": "code",
   "execution_count": 10,
   "metadata": {},
   "outputs": [],
   "source": [
    "from tensorflow.python.keras import optimizers\n",
    "\n",
    "sgd = optimizers.SGD(lr = 0.01, decay = 1e-6, momentum = 0.9, nesterov = True)\n",
    "\n",
    "#previous code it is just optimizer=sgd, here i have to use 'sgd' with quotaiton, otherwise the code is not running at fit)\n",
    "#for this part, i think i am using default sgd??\n",
    "model.compile(optimizer = sgd, loss = OBJECTIVE_FUNCTION, metrics = LOSS_METRICS)"
   ]
  },
  {
   "cell_type": "code",
   "execution_count": 14,
   "metadata": {},
   "outputs": [
    {
     "name": "stdout",
     "output_type": "stream",
     "text": [
      "Found 3150 images belonging to 3 classes.\n",
      "Found 797 images belonging to 3 classes.\n"
     ]
    }
   ],
   "source": [
    "from keras.applications.resnet50 import preprocess_input\n",
    "from keras.preprocessing.image import ImageDataGenerator\n",
    "image_size = IMAGE_RESIZE\n",
    "\n",
    "train_dir1 = \"/notebooks/data3cls224_color_newimg_ORIGINAL/train/\"\n",
    "valid_dir1 = \"/notebooks/data3cls224_color_newimg_ORIGINAL/validation/\"\n",
    "\n",
    "data_generator = ImageDataGenerator(preprocessing_function=preprocess_input)\n",
    "\n",
    "#preprocess_input is the same input as resnet50\n",
    "\n",
    "train_generator = data_generator.flow_from_directory(\n",
    "        train_dir1,\n",
    "        target_size=(image_size, image_size),\n",
    "        batch_size=BATCH_SIZE_TRAINING,\n",
    "        class_mode='categorical')\n",
    "\n",
    "validation_generator = data_generator.flow_from_directory(\n",
    "        valid_dir1,\n",
    "        target_size=(image_size, image_size),\n",
    "        batch_size=BATCH_SIZE_VALIDATION,\n",
    "        class_mode='categorical') "
   ]
  },
  {
   "cell_type": "code",
   "execution_count": 12,
   "metadata": {},
   "outputs": [],
   "source": [
    "!rmdir /notebooks/data3cls224_color_newimg_ORIGINAL/train/.ipynb_checkpoints\n",
    "!rmdir /notebooks/data3cls224_color_newimg_ORIGINAL/validation/.ipynb_checkpoints"
   ]
  },
  {
   "cell_type": "code",
   "execution_count": 15,
   "metadata": {},
   "outputs": [
    {
     "name": "stdout",
     "output_type": "stream",
     "text": [
      "{'happy': 1, 'surprise': 2, 'confused': 0}\n"
     ]
    }
   ],
   "source": [
    "print(validation_generator.class_indices)"
   ]
  },
  {
   "cell_type": "code",
   "execution_count": 16,
   "metadata": {},
   "outputs": [
    {
     "data": {
      "text/plain": [
       "(100, 32, 100, 8)"
      ]
     },
     "execution_count": 16,
     "metadata": {},
     "output_type": "execute_result"
    }
   ],
   "source": [
    "(BATCH_SIZE_TRAINING, len(train_generator), BATCH_SIZE_VALIDATION, len(validation_generator))"
   ]
  },
  {
   "cell_type": "code",
   "execution_count": 18,
   "metadata": {},
   "outputs": [],
   "source": [
    "from tensorflow.python.keras.callbacks import EarlyStopping, ModelCheckpoint\n",
    "\n",
    "cb_early_stopper = EarlyStopping(monitor = 'val_loss', patience = EARLY_STOP_PATIENCE)\n",
    "#cb_checkpointer = ModelCheckpoint(filepath = '/notebooks/W251_FinalProject/best.hdf5', monitor = 'val_loss', save_best_only = True, mode = 'auto')\n",
    "cb_checkpointer = ModelCheckpoint(filepath = '/notebooks/model_save/3cls_224_ConfHappySur_Color_newimg.hdf5', monitor = 'val_loss', save_best_only = True, mode = 'auto')"
   ]
  },
  {
   "cell_type": "code",
   "execution_count": 19,
   "metadata": {},
   "outputs": [
    {
     "name": "stdout",
     "output_type": "stream",
     "text": [
      "WARNING:tensorflow:From /usr/local/lib/python3.5/dist-packages/tensorflow/python/ops/math_ops.py:3066: to_int32 (from tensorflow.python.ops.math_ops) is deprecated and will be removed in a future version.\n",
      "Instructions for updating:\n",
      "Use tf.cast instead.\n",
      "Epoch 1/10\n",
      "8/8 [==============================] - 48s 6s/step - loss: 0.6461 - acc: 0.6976\n",
      "32/32 [==============================] - 295s 9s/step - loss: 0.3140 - acc: 0.8768 - val_loss: 0.6461 - val_acc: 0.6976\n",
      "Epoch 2/10\n",
      "8/8 [==============================] - 47s 6s/step - loss: 0.2041 - acc: 0.9222\n",
      "32/32 [==============================] - 294s 9s/step - loss: 0.0434 - acc: 0.9937 - val_loss: 0.2041 - val_acc: 0.9222\n",
      "Epoch 3/10\n",
      "8/8 [==============================] - 47s 6s/step - loss: 0.1309 - acc: 0.9573\n",
      "32/32 [==============================] - 293s 9s/step - loss: 0.0318 - acc: 0.9965 - val_loss: 0.1309 - val_acc: 0.9573\n",
      "Epoch 4/10\n",
      "8/8 [==============================] - 48s 6s/step - loss: 0.0616 - acc: 0.9875\n",
      "32/32 [==============================] - 294s 9s/step - loss: 0.0219 - acc: 0.9981 - val_loss: 0.0616 - val_acc: 0.9875\n",
      "Epoch 5/10\n",
      "8/8 [==============================] - 47s 6s/step - loss: 0.0373 - acc: 0.9912\n",
      "32/32 [==============================] - 294s 9s/step - loss: 0.0186 - acc: 0.9984 - val_loss: 0.0373 - val_acc: 0.9912\n",
      "Epoch 6/10\n",
      "8/8 [==============================] - 47s 6s/step - loss: 0.0285 - acc: 0.9950\n",
      "32/32 [==============================] - 293s 9s/step - loss: 0.0162 - acc: 0.9984 - val_loss: 0.0285 - val_acc: 0.9950\n",
      "Epoch 7/10\n",
      "8/8 [==============================] - 48s 6s/step - loss: 0.0256 - acc: 0.9950\n",
      "32/32 [==============================] - 296s 9s/step - loss: 0.0131 - acc: 0.9987 - val_loss: 0.0256 - val_acc: 0.9950\n",
      "Epoch 8/10\n",
      "8/8 [==============================] - 48s 6s/step - loss: 0.0142 - acc: 1.0000\n",
      "32/32 [==============================] - 298s 9s/step - loss: 0.0123 - acc: 0.9994 - val_loss: 0.0142 - val_acc: 1.0000\n",
      "Epoch 9/10\n",
      "8/8 [==============================] - 47s 6s/step - loss: 0.0109 - acc: 1.0000\n",
      "32/32 [==============================] - 297s 9s/step - loss: 0.0114 - acc: 0.9997 - val_loss: 0.0109 - val_acc: 1.0000\n",
      "Epoch 10/10\n",
      "8/8 [==============================] - 48s 6s/step - loss: 0.0125 - acc: 0.9987\n",
      "32/32 [==============================] - 297s 9s/step - loss: 0.0109 - acc: 0.9994 - val_loss: 0.0125 - val_acc: 0.9987\n"
     ]
    }
   ],
   "source": [
    "# import keras\n",
    "# filepath = os.path.join(\"/notebooks/littleVGG7cls/model_transferlearn_{epoch}.hdf5\")\n",
    "\n",
    "# checkpoint = keras.callbacks.ModelCheckpoint(filepath,\n",
    "#                                              monitor='val_acc',\n",
    "#                                              verbose=1,\n",
    "#                                              save_best_only=True,\n",
    "#                                              mode='max')\n",
    "# callbacks = [checkpoint]\n",
    "\n",
    "fit_history = model.fit_generator(\n",
    "        train_generator,\n",
    "        steps_per_epoch=STEPS_PER_EPOCH_TRAINING,\n",
    "        epochs = NUM_EPOCHS,\n",
    "        validation_data=validation_generator,\n",
    "        validation_steps=STEPS_PER_EPOCH_VALIDATION,\n",
    "        callbacks=[cb_checkpointer, cb_early_stopper]\n",
    "\n",
    ")\n",
    "#model.load_weights('/notebooks/model_save/3cls_224_ConfHappySur_Color_newimg.hdf5')\n",
    "\n"
   ]
  },
  {
   "cell_type": "code",
   "execution_count": 20,
   "metadata": {},
   "outputs": [],
   "source": [
    "SAVER = \"../notebooks/model_save\"\n",
    "model.save(os.path.join(SAVER, \"3cls_224_ConfHappySur_Color_newimg.h5\"))  #saving the model on each epoc\n",
    "#model.save_weights(os.path.join(SAVER, \"model_weights.h5\")) #saving the weights of model on each epoch"
   ]
  },
  {
   "cell_type": "code",
   "execution_count": 29,
   "metadata": {},
   "outputs": [],
   "source": [
    "model.load_weights('/notebooks/model_save/3cls_224_ConfHappySur_Color_newimg.hdf5')\n",
    "model.save(os.path.join(SAVER, \"3cls_224_ConfHappySur_Color_newimg_load.h5\"))"
   ]
  },
  {
   "cell_type": "code",
   "execution_count": 31,
   "metadata": {},
   "outputs": [
    {
     "name": "stdout",
     "output_type": "stream",
     "text": [
      "Found 797 images belonging to 3 classes.\n",
      "Confusion Matrix\n",
      "[[228   0   0]\n",
      " [  0 396   0]\n",
      " [  0   0 173]]\n",
      "Classification Report\n",
      "              precision    recall  f1-score   support\n",
      "\n",
      "    confused       1.00      1.00      1.00       228\n",
      "       happy       1.00      1.00      1.00       396\n",
      "    surprise       1.00      1.00      1.00       173\n",
      "\n",
      "    accuracy                           1.00       797\n",
      "   macro avg       1.00      1.00      1.00       797\n",
      "weighted avg       1.00      1.00      1.00       797\n",
      "\n"
     ]
    },
    {
     "data": {
      "image/png": "[encoded data removed]",
      "text/plain": [
       "<Figure size 576x576 with 2 Axes>"
      ]
     },
     "metadata": {
      "needs_background": "light"
     },
     "output_type": "display_data"
    }
   ],
   "source": [
    "import sklearn\n",
    "from sklearn.metrics import classification_report, confusion_matrix\n",
    "import numpy as np\n",
    "#Found 3150 images belonging to 3 classes.\n",
    "#Found 797 images belonging to 3 classes.\n",
    "nb_train_samples = 3150\n",
    "nb_validation_samples = 797\n",
    "batch_size=BATCH_SIZE_TESTING\n",
    "# We need to recreate our validation generator with shuffle = false\n",
    "validation_generator = data_generator.flow_from_directory(\n",
    "        directory = '/notebooks/data3cls224_color_newimg_ORIGINAL/validation/',\n",
    "        #color_mode = 'grayscale',\n",
    "        target_size=(image_size, image_size),\n",
    "        batch_size=BATCH_SIZE_TESTING,\n",
    "        class_mode='categorical',\n",
    "        shuffle=False,\n",
    "        seed=123)\n",
    "\n",
    "class_labels = validation_generator.class_indices\n",
    "class_labels = {v: k for k, v in class_labels.items()}\n",
    "classes = list(class_labels.values())\n",
    "\n",
    "#Confution Matrix and Classification Report\n",
    "Y_pred = model.predict_generator(validation_generator, 797)\n",
    "                                 #nb_validation_samples /batch_size)\n",
    "y_pred = np.argmax(Y_pred, axis=1)\n",
    "\n",
    "print('Confusion Matrix')\n",
    "print(confusion_matrix(validation_generator.classes, y_pred))\n",
    "print('Classification Report')\n",
    "target_names = list(class_labels.values())\n",
    "print(classification_report(validation_generator.classes, y_pred, target_names=target_names))\n",
    "\n",
    "plt.figure(figsize=(8,8))\n",
    "cnf_matrix = confusion_matrix(validation_generator.classes, y_pred)\n",
    "\n",
    "plt.imshow(cnf_matrix, interpolation='nearest')\n",
    "plt.colorbar()\n",
    "tick_marks = np.arange(len(classes))\n",
    "_ = plt.xticks(tick_marks, classes, rotation=90)\n",
    "_ = plt.yticks(tick_marks, classes)"
   ]
  },
  {
   "cell_type": "code",
   "execution_count": 23,
   "metadata": {
    "scrolled": true
   },
   "outputs": [
    {
     "data": {
      "text/plain": [
       "array([[228,   0,   0],\n",
       "       [  0, 396,   0],\n",
       "       [  0,   0, 173]])"
      ]
     },
     "execution_count": 23,
     "metadata": {},
     "output_type": "execute_result"
    }
   ],
   "source": [
    "cnf_matrix"
   ]
  },
  {
   "cell_type": "code",
   "execution_count": 24,
   "metadata": {},
   "outputs": [
    {
     "data": {
      "text/plain": [
       "array([[1., 0., 0.],\n",
       "       [0., 1., 0.],\n",
       "       [0., 0., 1.]])"
      ]
     },
     "execution_count": 24,
     "metadata": {},
     "output_type": "execute_result"
    }
   ],
   "source": [
    "cm=cnf_matrix\n",
    "cm = cm.astype('float') / cm.sum(axis=1)[:,None]\n",
    "cm"
   ]
  },
  {
   "cell_type": "code",
   "execution_count": 25,
   "metadata": {},
   "outputs": [
    {
     "data": {
      "image/png": "[encoded data removed]",
      "text/plain": [
       "<Figure size 1080x576 with 2 Axes>"
      ]
     },
     "metadata": {
      "needs_background": "light"
     },
     "output_type": "display_data"
    }
   ],
   "source": [
    " plt.figure(1, figsize = (15,8)) \n",
    "    \n",
    "plt.subplot(221)  \n",
    "plt.plot(fit_history.history['acc'])  \n",
    "plt.plot(fit_history.history['val_acc'])  \n",
    "plt.title('model accuracy')  \n",
    "plt.ylabel('accuracy')  \n",
    "plt.xlabel('epoch')  \n",
    "plt.legend(['train', 'valid']) \n",
    "    \n",
    "plt.subplot(222)  \n",
    "plt.plot(fit_history.history['loss'])  \n",
    "plt.plot(fit_history.history['val_loss'])  \n",
    "plt.title('model loss')  \n",
    "plt.ylabel('loss')  \n",
    "plt.xlabel('epoch')  \n",
    "plt.legend(['train', 'valid']) \n",
    "\n",
    "plt.show()"
   ]
  },
  {
   "cell_type": "code",
   "execution_count": 26,
   "metadata": {
    "scrolled": true
   },
   "outputs": [
    {
     "data": {
      "image/png": "[encoded data removed]",
      "text/plain": [
       "<Figure size 720x720 with 2 Axes>"
      ]
     },
     "metadata": {
      "needs_background": "light"
     },
     "output_type": "display_data"
    }
   ],
   "source": [
    "import itertools\n",
    "cm=cnf_matrix\n",
    "cm = cm.astype('float') / cm.sum(axis=1)[:,None]\n",
    "plt.figure(figsize=(10,10))\n",
    "plt.imshow(cm, interpolation='nearest', cmap=plt.cm.Blues)\n",
    "plt.colorbar()\n",
    "tick_marks = np.arange(len(classes))\n",
    "_ = plt.xticks(tick_marks, classes, rotation=90)\n",
    "_ = plt.yticks(tick_marks, classes)\n",
    "\n",
    "fmt = '.2f'\n",
    "thresh = cm.max() / 2.\n",
    "for i, j in itertools.product(range(cm.shape[0]), range(cm.shape[1])):\n",
    "    plt.text(j, i, format(cm[i, j], fmt),horizontalalignment=\"center\",color=\"white\" if cm[i, j] > thresh else \"black\")"
   ]
  },
  {
   "cell_type": "markdown",
   "metadata": {},
   "source": [
    "# load model and check"
   ]
  },
  {
   "cell_type": "code",
   "execution_count": 27,
   "metadata": {},
   "outputs": [
    {
     "name": "stdout",
     "output_type": "stream",
     "text": [
      "WARNING:tensorflow:Error in loading the saved optimizer state. As a result, your model is starting with a freshly initialized optimizer.\n",
      "_________________________________________________________________\n",
      "Layer (type)                 Output Shape              Param #   \n",
      "=================================================================\n",
      "resnet50 (Model)             (None, 2048)              23587712  \n",
      "_________________________________________________________________\n",
      "dense_1 (Dense)              (None, 2)                 4098      \n",
      "=================================================================\n",
      "Total params: 23,591,810\n",
      "Trainable params: 23,538,690\n",
      "Non-trainable params: 53,120\n",
      "_________________________________________________________________\n"
     ]
    }
   ],
   "source": [
    "\n",
    "# load and evaluate a saved model\n",
    "from numpy import loadtxt\n",
    "from tensorflow.keras.models import load_model\n",
    "\n",
    "# load model\n",
    "model = load_model('/notebooks/model_save/2clsmodel_highres.h5')\n",
    "# summarize model.\n",
    "model.summary()\n",
    "\n"
   ]
  },
  {
   "cell_type": "code",
   "execution_count": 31,
   "metadata": {},
   "outputs": [
    {
     "name": "stdout",
     "output_type": "stream",
     "text": [
      "CPU times: user 5 µs, sys: 1e+03 ns, total: 6 µs\n",
      "Wall time: 13.4 µs\n",
      "(224, 224, 3)\n",
      "[[0.3512877  0.64871234]]\n",
      "1\n"
     ]
    }
   ],
   "source": [
    "%time\n",
    "from keras.preprocessing.image import load_img, img_to_array\n",
    "base_path='/notebooks/data224x224_color/train/distracted/lm_dstr-122.jpg'\n",
    "read_image = cv2.imread(base_path)\n",
    "print(read_image.shape)\n",
    "read_image = read_image.reshape(1,read_image.shape[0], read_image.shape[1], 3)\n",
    "top_pred = model.predict(read_image)\n",
    "print(top_pred)\n",
    "#emotion_label = top_pred[0].argmax()\n",
    "emotion_label = top_pred[0].argmax()\n",
    "print(emotion_label)"
   ]
  }
 ],
 "metadata": {
  "kernelspec": {
   "display_name": "Python 3",
   "language": "python",
   "name": "python3"
  },
  "language_info": {
   "codemirror_mode": {
    "name": "ipython",
    "version": 3
   },
   "file_extension": ".py",
   "mimetype": "text/x-python",
   "name": "python",
   "nbconvert_exporter": "python",
   "pygments_lexer": "ipython3",
   "version": "3.5.2"
  }
 },
 "nbformat": 4,
 "nbformat_minor": 2
}
