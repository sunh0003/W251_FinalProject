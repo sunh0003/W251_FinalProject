{
 "cells": [
  {
   "cell_type": "markdown",
   "metadata": {},
   "source": [
    "## Load data"
   ]
  },
  {
   "cell_type": "code",
   "execution_count": 1,
   "metadata": {},
   "outputs": [
    {
     "name": "stdout",
     "output_type": "stream",
     "text": [
      "/notebooks\r\n"
     ]
    }
   ],
   "source": [
    "!pwd"
   ]
  },
  {
   "cell_type": "code",
   "execution_count": 2,
   "metadata": {},
   "outputs": [
    {
     "name": "stdout",
     "output_type": "stream",
     "text": [
      "fatal: destination path 'W251_FinalProject' already exists and is not an empty directory.\r\n"
     ]
    }
   ],
   "source": [
    "!git clone https://github.com/sunh0003/W251_FinalProject.git"
   ]
  },
  {
   "cell_type": "code",
   "execution_count": 3,
   "metadata": {},
   "outputs": [
    {
     "name": "stdout",
     "output_type": "stream",
     "text": [
      "mkdir: cannot create directory ‘data’: File exists\r\n"
     ]
    }
   ],
   "source": [
    "%mkdir data"
   ]
  },
  {
   "cell_type": "code",
   "execution_count": 4,
   "metadata": {},
   "outputs": [
    {
     "name": "stdout",
     "output_type": "stream",
     "text": [
      "/notebooks/W251_FinalProject\n"
     ]
    }
   ],
   "source": [
    "%cd W251_FinalProject"
   ]
  },
  {
   "cell_type": "code",
   "execution_count": 5,
   "metadata": {},
   "outputs": [
    {
     "name": "stdout",
     "output_type": "stream",
     "text": [
      "/notebooks/W251_FinalProject/Kaggle\n"
     ]
    }
   ],
   "source": [
    "%cd Kaggle"
   ]
  },
  {
   "cell_type": "code",
   "execution_count": 6,
   "metadata": {},
   "outputs": [
    {
     "name": "stdout",
     "output_type": "stream",
     "text": [
      "mkdir: cannot create directory ‘/notebooks/data/train’: File exists\r\n"
     ]
    }
   ],
   "source": [
    "%mkdir /notebooks/data/train"
   ]
  },
  {
   "cell_type": "code",
   "execution_count": 7,
   "metadata": {},
   "outputs": [],
   "source": [
    "from shutil import unpack_archive\n",
    "unpack_archive('train1.zip', '/notebooks')\n",
    "unpack_archive('train2.zip', '/notebooks')\n",
    "unpack_archive('train3.zip', '/notebooks')\n",
    "unpack_archive('validation.zip', '/notebooks')"
   ]
  },
  {
   "cell_type": "code",
   "execution_count": 8,
   "metadata": {},
   "outputs": [
    {
     "name": "stdout",
     "output_type": "stream",
     "text": [
      "mv: cannot move '/notebooks/train1/fear' to '/notebooks/data/train/fear': Directory not empty\n",
      "mv: cannot move '/notebooks/train1/happy' to '/notebooks/data/train/happy': Directory not empty\n",
      "mv: cannot stat '/notebooks/train2/netural': No such file or directory\n",
      "mv: cannot move '/notebooks/train2/sad' to '/notebooks/data/train/sad': Directory not empty\n",
      "mv: cannot stat '/notebooks/train2/suprise': No such file or directory\n",
      "mv: cannot move '/notebooks/train3/angry' to '/notebooks/data/train/angry': Directory not empty\n",
      "mv: cannot move '/notebooks/train3/disgust' to '/notebooks/data/train/disgust': Directory not empty\n",
      "mv: cannot move '/notebooks/validation' to '/notebooks/data/validation': Directory not empty\n"
     ]
    }
   ],
   "source": [
    "%mv /notebooks/train1/fear /notebooks/data/train\n",
    "%mv /notebooks/train1/happy /notebooks/data/train\n",
    "%mv /notebooks/train2/netural /notebooks/data/train\n",
    "%mv /notebooks/train2/sad /notebooks/data/train\n",
    "%mv /notebooks/train2/suprise /notebooks/data/train\n",
    "%mv /notebooks/train3/angry /notebooks/data/train\n",
    "%mv /notebooks/train3/disgust /notebooks/data/train\n",
    "%mv /notebooks/validation /notebooks/data"
   ]
  },
  {
   "cell_type": "code",
   "execution_count": 1,
   "metadata": {},
   "outputs": [
    {
     "name": "stdout",
     "output_type": "stream",
     "text": [
      "/notebooks\r\n"
     ]
    }
   ],
   "source": [
    "!pwd"
   ]
  },
  {
   "cell_type": "markdown",
   "metadata": {},
   "source": [
    "## Model"
   ]
  },
  {
   "cell_type": "code",
   "execution_count": 10,
   "metadata": {},
   "outputs": [
    {
     "name": "stdout",
     "output_type": "stream",
     "text": [
      "Requirement already up-to-date: pip in /usr/local/lib/python3.5/dist-packages (20.1.1)\r\n"
     ]
    }
   ],
   "source": [
    "!pip install --upgrade pip"
   ]
  },
  {
   "cell_type": "code",
   "execution_count": 11,
   "metadata": {},
   "outputs": [
    {
     "name": "stdout",
     "output_type": "stream",
     "text": [
      "Requirement already satisfied: pillow in /usr/local/lib/python3.5/dist-packages (7.2.0)\r\n"
     ]
    }
   ],
   "source": [
    "!pip3 install pillow"
   ]
  },
  {
   "cell_type": "markdown",
   "metadata": {},
   "source": []
  },
  {
   "cell_type": "code",
   "execution_count": 69,
   "metadata": {},
   "outputs": [
    {
     "name": "stdout",
     "output_type": "stream",
     "text": [
      "rmdir: failed to remove '/notebooks/data/validation/.ipynb_checkpoints': No such file or directory\r\n"
     ]
    }
   ],
   "source": [
    "! rmdir /notebooks/data/validation/.ipynb_checkpoints"
   ]
  },
  {
   "cell_type": "markdown",
   "metadata": {},
   "source": [
    "# run littleVGG"
   ]
  },
  {
   "cell_type": "code",
   "execution_count": 2,
   "metadata": {},
   "outputs": [
    {
     "name": "stderr",
     "output_type": "stream",
     "text": [
      "Using TensorFlow backend.\n"
     ]
    }
   ],
   "source": [
    "from __future__ import print_function\n",
    "import keras\n",
    "from keras.preprocessing.image import ImageDataGenerator\n",
    "from keras.models import Sequential\n",
    "from keras.layers import Dense, Dropout, Activation, Flatten, BatchNormalization\n",
    "from keras.layers import Conv2D, MaxPooling2D\n",
    "from keras.preprocessing.image import ImageDataGenerator\n",
    "import os\n",
    "from keras.models import Sequential\n",
    "from keras.layers.normalization import BatchNormalization\n",
    "from keras.layers.convolutional import Conv2D, MaxPooling2D\n",
    "from keras.layers.advanced_activations import ELU\n",
    "from keras.layers.core import Activation, Flatten, Dropout, Dense\n",
    "from keras.optimizers import RMSprop, SGD, Adam\n",
    "from keras.callbacks import ModelCheckpoint, EarlyStopping, ReduceLROnPlateau\n",
    "from keras import regularizers\n",
    "from keras.regularizers import l1"
   ]
  },
  {
   "cell_type": "code",
   "execution_count": 3,
   "metadata": {},
   "outputs": [],
   "source": [
    "num_classes = 9\n",
    "img_rows, img_cols = 48, 48\n",
    "batch_size = 512\n",
    "\n",
    "train_data_dir = '/notebooks/data/train'\n",
    "validation_data_dir = '/notebooks/data/validation'"
   ]
  },
  {
   "cell_type": "code",
   "execution_count": 4,
   "metadata": {},
   "outputs": [
    {
     "name": "stdout",
     "output_type": "stream",
     "text": [
      "Found 29992 images belonging to 9 classes.\n",
      "Found 7358 images belonging to 9 classes.\n"
     ]
    }
   ],
   "source": [
    "# Let's use some data augmentaiton \n",
    "# train_datagen = ImageDataGenerator(rescale=1./255)\n",
    "val_datagen = ImageDataGenerator(rescale=1./255)\n",
    "train_datagen = ImageDataGenerator(\n",
    "        rescale=1./255,\n",
    "      rotation_range=30,\n",
    "      shear_range=0.3,\n",
    "      zoom_range=0.3,\n",
    "      horizontal_flip=True,\n",
    "      fill_mode='nearest')\n",
    "train_generator = train_datagen.flow_from_directory(\n",
    "        train_data_dir,\n",
    "        target_size=(48,48),\n",
    "        batch_size=batch_size,\n",
    "        color_mode=\"grayscale\",\n",
    "        class_mode='categorical')\n",
    "\n",
    "validation_generator = val_datagen.flow_from_directory(\n",
    "        validation_data_dir,\n",
    "        target_size=(48,48),\n",
    "        batch_size=batch_size,\n",
    "        color_mode=\"grayscale\",\n",
    "        class_mode='categorical')"
   ]
  },
  {
   "cell_type": "code",
   "execution_count": 5,
   "metadata": {},
   "outputs": [
    {
     "name": "stdout",
     "output_type": "stream",
     "text": [
      "{'happy': 5, 'surprise': 8, 'confused': 1, 'neutral': 6, 'angry': 0, 'distracted': 3, 'fear': 4, 'disgust': 2, 'sad': 7}\n"
     ]
    }
   ],
   "source": [
    "print(validation_generator.class_indices)"
   ]
  },
  {
   "cell_type": "code",
   "execution_count": 9,
   "metadata": {},
   "outputs": [
    {
     "name": "stdout",
     "output_type": "stream",
     "text": [
      "_________________________________________________________________\n",
      "Layer (type)                 Output Shape              Param #   \n",
      "=================================================================\n",
      "conv2d_7 (Conv2D)            (None, 46, 46, 32)        320       \n",
      "_________________________________________________________________\n",
      "conv2d_8 (Conv2D)            (None, 44, 44, 64)        18496     \n",
      "_________________________________________________________________\n",
      "max_pooling2d_4 (MaxPooling2 (None, 22, 22, 64)        0         \n",
      "_________________________________________________________________\n",
      "conv2d_9 (Conv2D)            (None, 20, 20, 128)       73856     \n",
      "_________________________________________________________________\n",
      "max_pooling2d_5 (MaxPooling2 (None, 10, 10, 128)       0         \n",
      "_________________________________________________________________\n",
      "conv2d_10 (Conv2D)           (None, 8, 8, 128)         147584    \n",
      "_________________________________________________________________\n",
      "max_pooling2d_6 (MaxPooling2 (None, 4, 4, 128)         0         \n",
      "_________________________________________________________________\n",
      "conv2d_11 (Conv2D)           (None, 4, 4, 9)           1161      \n",
      "_________________________________________________________________\n",
      "conv2d_12 (Conv2D)           (None, 1, 1, 9)           1305      \n",
      "_________________________________________________________________\n",
      "flatten_2 (Flatten)          (None, 9)                 0         \n",
      "_________________________________________________________________\n",
      "activation_2 (Activation)    (None, 9)                 0         \n",
      "=================================================================\n",
      "Total params: 242,722\n",
      "Trainable params: 242,722\n",
      "Non-trainable params: 0\n",
      "_________________________________________________________________\n"
     ]
    }
   ],
   "source": [
    "# Create the model\n",
    "model = Sequential()\n",
    "\n",
    "model.add(Conv2D(32, kernel_size=(3, 3), activation='relu',kernel_regularizer=regularizers.l2(0.0001),input_shape=(48,48,1)))\n",
    "# model.add(BatchNormalization())\n",
    "\n",
    "model.add(Conv2D(64, kernel_size=(3, 3), activation='relu',kernel_regularizer=regularizers.l2(0.0001)))\n",
    "# model.add(BatchNormalization())\n",
    "model.add(MaxPooling2D(pool_size=(2, 2)))\n",
    "\n",
    "model.add(Conv2D(128, kernel_size=(3, 3), activation='relu', kernel_regularizer=regularizers.l2(0.0001)))\n",
    "# model.add(BatchNormalization())\n",
    "model.add(MaxPooling2D(pool_size=(2, 2)))\n",
    "\n",
    "model.add(Conv2D(128, kernel_size=(3, 3), activation='relu', kernel_regularizer=regularizers.l2(0.0001)))\n",
    "# model.add(BatchNormalization())\n",
    "model.add(MaxPooling2D(pool_size=(2, 2)))\n",
    "\n",
    "model.add(Conv2D(9, kernel_size=(1, 1), activation='relu', kernel_regularizer=regularizers.l2(0.0001)))\n",
    "# # model.add(BatchNormalization())\n",
    "\n",
    "model.add(Conv2D(9, kernel_size=(4, 4), activation='relu', kernel_regularizer=regularizers.l2(0.0001)))\n",
    "# model.add(BatchNormalization())\n",
    "\n",
    "model.add(Flatten())\n",
    "\n",
    "model.add(Activation(\"softmax\"))\n",
    "\n",
    "model.summary()\n",
    "# model.add(Dense(1024, activation='relu'))\n",
    "# model.add(Dropout(0.5))\n",
    "# model.add(Dense(7, activation='softmax'))"
   ]
  },
  {
   "cell_type": "code",
   "execution_count": 7,
   "metadata": {},
   "outputs": [],
   "source": [
    "%mkdir littleVGG"
   ]
  },
  {
   "cell_type": "code",
   "execution_count": null,
   "metadata": {},
   "outputs": [
    {
     "name": "stdout",
     "output_type": "stream",
     "text": [
      "Epoch 1/150\n",
      "58/58 [==============================] - 300s 5s/step - loss: 1.8755 - acc: 0.2675 - val_loss: 1.8631 - val_acc: 0.2937\n",
      "\n",
      "Epoch 00001: val_acc improved from -inf to 0.29375, saving model to /notebooks/littleVGG/model_littleVGG_1.hdf5\n",
      "Epoch 2/150\n",
      "58/58 [==============================] - 300s 5s/step - loss: 1.8771 - acc: 0.2660 - val_loss: 1.8629 - val_acc: 0.2916\n",
      "\n",
      "Epoch 00002: val_acc did not improve from 0.29375\n",
      "Epoch 3/150\n",
      "58/58 [==============================] - 300s 5s/step - loss: 1.8684 - acc: 0.2684 - val_loss: 1.8652 - val_acc: 0.2876\n",
      "\n",
      "Epoch 00003: val_acc did not improve from 0.29375\n",
      "Epoch 4/150\n",
      "58/58 [==============================] - 296s 5s/step - loss: 1.8688 - acc: 0.2683 - val_loss: 1.8585 - val_acc: 0.2956\n",
      "\n",
      "Epoch 00004: val_acc improved from 0.29375 to 0.29565, saving model to /notebooks/littleVGG/model_littleVGG_4.hdf5\n",
      "Epoch 5/150\n",
      "58/58 [==============================] - 298s 5s/step - loss: 1.8644 - acc: 0.2702 - val_loss: 1.8560 - val_acc: 0.2961\n",
      "\n",
      "Epoch 00005: val_acc improved from 0.29565 to 0.29609, saving model to /notebooks/littleVGG/model_littleVGG_5.hdf5\n",
      "Epoch 6/150\n",
      "58/58 [==============================] - 300s 5s/step - loss: 1.8621 - acc: 0.2719 - val_loss: 1.8497 - val_acc: 0.2978\n",
      "\n",
      "Epoch 00006: val_acc improved from 0.29609 to 0.29784, saving model to /notebooks/littleVGG/model_littleVGG_6.hdf5\n",
      "Epoch 7/150\n",
      "58/58 [==============================] - 317s 5s/step - loss: 1.8583 - acc: 0.2711 - val_loss: 1.8489 - val_acc: 0.3016\n",
      "\n",
      "Epoch 00007: val_acc improved from 0.29784 to 0.30164, saving model to /notebooks/littleVGG/model_littleVGG_7.hdf5\n",
      "Epoch 8/150\n",
      "58/58 [==============================] - 278s 5s/step - loss: 1.8583 - acc: 0.2734 - val_loss: 1.8425 - val_acc: 0.3028\n",
      "\n",
      "Epoch 00008: val_acc improved from 0.30164 to 0.30280, saving model to /notebooks/littleVGG/model_littleVGG_8.hdf5\n",
      "Epoch 9/150\n",
      "58/58 [==============================] - 233s 4s/step - loss: 1.8523 - acc: 0.2750 - val_loss: 1.8439 - val_acc: 0.2990\n",
      "\n",
      "Epoch 00009: val_acc did not improve from 0.30280\n",
      "Epoch 10/150\n",
      "58/58 [==============================] - 229s 4s/step - loss: 1.8534 - acc: 0.2755 - val_loss: 1.8389 - val_acc: 0.2984\n",
      "\n",
      "Epoch 00010: val_acc did not improve from 0.30280\n",
      "Epoch 11/150\n",
      "58/58 [==============================] - 232s 4s/step - loss: 1.8465 - acc: 0.2795 - val_loss: 1.8299 - val_acc: 0.3084\n",
      "\n",
      "Epoch 00011: val_acc improved from 0.30280 to 0.30836, saving model to /notebooks/littleVGG/model_littleVGG_11.hdf5\n",
      "Epoch 12/150\n",
      "58/58 [==============================] - 206s 4s/step - loss: 1.8461 - acc: 0.2783 - val_loss: 1.8265 - val_acc: 0.3084\n",
      "\n",
      "Epoch 00012: val_acc did not improve from 0.30836\n",
      "Epoch 13/150\n",
      "58/58 [==============================] - 205s 4s/step - loss: 1.8455 - acc: 0.2802 - val_loss: 1.8380 - val_acc: 0.2967\n",
      "\n",
      "Epoch 00013: val_acc did not improve from 0.30836\n",
      "Epoch 14/150\n",
      "58/58 [==============================] - 221s 4s/step - loss: 1.8390 - acc: 0.2823 - val_loss: 1.8195 - val_acc: 0.3019\n",
      "\n",
      "Epoch 00014: val_acc did not improve from 0.30836\n",
      "Epoch 15/150\n",
      "58/58 [==============================] - 221s 4s/step - loss: 1.8359 - acc: 0.2839 - val_loss: 1.8247 - val_acc: 0.3100\n",
      "\n",
      "Epoch 00015: val_acc improved from 0.30836 to 0.30996, saving model to /notebooks/littleVGG/model_littleVGG_15.hdf5\n",
      "Epoch 16/150\n",
      "58/58 [==============================] - 205s 4s/step - loss: 1.8313 - acc: 0.2857 - val_loss: 1.8071 - val_acc: 0.3114\n",
      "\n",
      "Epoch 00016: val_acc improved from 0.30996 to 0.31142, saving model to /notebooks/littleVGG/model_littleVGG_16.hdf5\n",
      "Epoch 17/150\n",
      "58/58 [==============================] - 232s 4s/step - loss: 1.8281 - acc: 0.2892 - val_loss: 1.8056 - val_acc: 0.3116\n",
      "\n",
      "Epoch 00017: val_acc improved from 0.31142 to 0.31157, saving model to /notebooks/littleVGG/model_littleVGG_17.hdf5\n",
      "Epoch 18/150\n",
      "58/58 [==============================] - 234s 4s/step - loss: 1.8226 - acc: 0.2920 - val_loss: 1.7965 - val_acc: 0.3164\n",
      "\n",
      "Epoch 00018: val_acc improved from 0.31157 to 0.31639, saving model to /notebooks/littleVGG/model_littleVGG_18.hdf5\n",
      "Epoch 19/150\n",
      "58/58 [==============================] - 253s 4s/step - loss: 1.8182 - acc: 0.2923 - val_loss: 1.7924 - val_acc: 0.3105\n",
      "\n",
      "Epoch 00019: val_acc did not improve from 0.31639\n",
      "Epoch 20/150\n",
      "58/58 [==============================] - 245s 4s/step - loss: 1.8120 - acc: 0.2953 - val_loss: 1.7898 - val_acc: 0.3160\n",
      "\n",
      "Epoch 00020: val_acc did not improve from 0.31639\n",
      "Epoch 21/150\n",
      "58/58 [==============================] - 227s 4s/step - loss: 1.8114 - acc: 0.2954 - val_loss: 1.7831 - val_acc: 0.3195\n",
      "\n",
      "Epoch 00021: val_acc improved from 0.31639 to 0.31946, saving model to /notebooks/littleVGG/model_littleVGG_21.hdf5\n",
      "Epoch 22/150\n",
      "58/58 [==============================] - 206s 4s/step - loss: 1.7992 - acc: 0.3020 - val_loss: 1.7627 - val_acc: 0.3300\n",
      "\n",
      "Epoch 00022: val_acc improved from 0.31946 to 0.32997, saving model to /notebooks/littleVGG/model_littleVGG_22.hdf5\n",
      "Epoch 23/150\n",
      "58/58 [==============================] - 208s 4s/step - loss: 1.7992 - acc: 0.3022 - val_loss: 1.7585 - val_acc: 0.3241\n",
      "\n",
      "Epoch 00023: val_acc did not improve from 0.32997\n",
      "Epoch 24/150\n",
      "58/58 [==============================] - 206s 4s/step - loss: 1.7898 - acc: 0.3069 - val_loss: 1.7519 - val_acc: 0.3280\n",
      "\n",
      "Epoch 00024: val_acc did not improve from 0.32997\n",
      "Epoch 25/150\n",
      "58/58 [==============================] - 206s 4s/step - loss: 1.7806 - acc: 0.3130 - val_loss: 1.7420 - val_acc: 0.3298\n",
      "\n",
      "Epoch 00025: val_acc did not improve from 0.32997\n",
      "Epoch 26/150\n",
      "58/58 [==============================] - 205s 4s/step - loss: 1.7848 - acc: 0.3135 - val_loss: 1.7394 - val_acc: 0.3344\n",
      "\n",
      "Epoch 00026: val_acc improved from 0.32997 to 0.33436, saving model to /notebooks/littleVGG/model_littleVGG_26.hdf5\n",
      "Epoch 27/150\n",
      "58/58 [==============================] - 207s 4s/step - loss: 1.7777 - acc: 0.3133 - val_loss: 1.7339 - val_acc: 0.3332\n",
      "\n",
      "Epoch 00027: val_acc did not improve from 0.33436\n",
      "Epoch 28/150\n",
      "58/58 [==============================] - 207s 4s/step - loss: 1.7728 - acc: 0.3168 - val_loss: 1.7107 - val_acc: 0.3363\n",
      "\n",
      "Epoch 00028: val_acc improved from 0.33436 to 0.33625, saving model to /notebooks/littleVGG/model_littleVGG_28.hdf5\n",
      "Epoch 29/150\n",
      "58/58 [==============================] - 206s 4s/step - loss: 1.7630 - acc: 0.3182 - val_loss: 1.7210 - val_acc: 0.3389\n",
      "\n",
      "Epoch 00029: val_acc improved from 0.33625 to 0.33888, saving model to /notebooks/littleVGG/model_littleVGG_29.hdf5\n",
      "Epoch 30/150\n",
      "58/58 [==============================] - 206s 4s/step - loss: 1.7605 - acc: 0.3205 - val_loss: 1.7245 - val_acc: 0.3428\n",
      "\n",
      "Epoch 00030: val_acc improved from 0.33888 to 0.34283, saving model to /notebooks/littleVGG/model_littleVGG_30.hdf5\n",
      "Epoch 31/150\n",
      "58/58 [==============================] - 206s 4s/step - loss: 1.7593 - acc: 0.3194 - val_loss: 1.7076 - val_acc: 0.3481\n",
      "\n",
      "Epoch 00031: val_acc improved from 0.34283 to 0.34809, saving model to /notebooks/littleVGG/model_littleVGG_31.hdf5\n",
      "Epoch 32/150\n",
      "58/58 [==============================] - 209s 4s/step - loss: 1.7537 - acc: 0.3286 - val_loss: 1.7031 - val_acc: 0.3450\n",
      "\n",
      "Epoch 00032: val_acc did not improve from 0.34809\n",
      "Epoch 33/150\n",
      "58/58 [==============================] - 206s 4s/step - loss: 1.7542 - acc: 0.3241 - val_loss: 1.6916 - val_acc: 0.3512\n",
      "\n",
      "Epoch 00033: val_acc improved from 0.34809 to 0.35115, saving model to /notebooks/littleVGG/model_littleVGG_33.hdf5\n",
      "Epoch 34/150\n",
      "58/58 [==============================] - 205s 4s/step - loss: 1.7411 - acc: 0.3319 - val_loss: 1.6864 - val_acc: 0.3523\n",
      "\n",
      "Epoch 00034: val_acc improved from 0.35115 to 0.35232, saving model to /notebooks/littleVGG/model_littleVGG_34.hdf5\n",
      "Epoch 35/150\n",
      "58/58 [==============================] - 206s 4s/step - loss: 1.7489 - acc: 0.3300 - val_loss: 1.6968 - val_acc: 0.3548\n",
      "\n",
      "Epoch 00035: val_acc improved from 0.35232 to 0.35481, saving model to /notebooks/littleVGG/model_littleVGG_35.hdf5\n",
      "Epoch 36/150\n",
      "58/58 [==============================] - 208s 4s/step - loss: 1.7393 - acc: 0.3307 - val_loss: 1.6722 - val_acc: 0.3637\n",
      "\n",
      "Epoch 00036: val_acc improved from 0.35481 to 0.36372, saving model to /notebooks/littleVGG/model_littleVGG_36.hdf5\n",
      "Epoch 37/150\n",
      "58/58 [==============================] - 207s 4s/step - loss: 1.7359 - acc: 0.3334 - val_loss: 1.6657 - val_acc: 0.3590\n",
      "\n",
      "Epoch 00037: val_acc did not improve from 0.36372\n",
      "Epoch 38/150\n"
     ]
    },
    {
     "name": "stdout",
     "output_type": "stream",
     "text": [
      "58/58 [==============================] - 206s 4s/step - loss: 1.7323 - acc: 0.3359 - val_loss: 1.6759 - val_acc: 0.3625\n",
      "\n",
      "Epoch 00038: val_acc did not improve from 0.36372\n",
      "Epoch 39/150\n",
      "58/58 [==============================] - 206s 4s/step - loss: 1.7234 - acc: 0.3414 - val_loss: 1.6686 - val_acc: 0.3675\n",
      "\n",
      "Epoch 00039: val_acc improved from 0.36372 to 0.36747, saving model to /notebooks/littleVGG/model_littleVGG_39.hdf5\n",
      "Epoch 40/150\n",
      "58/58 [==============================] - 207s 4s/step - loss: 1.7288 - acc: 0.3405 - val_loss: 1.6594 - val_acc: 0.3634\n",
      "\n",
      "Epoch 00040: val_acc did not improve from 0.36747\n",
      "Epoch 41/150\n",
      "58/58 [==============================] - 208s 4s/step - loss: 1.7260 - acc: 0.3370 - val_loss: 1.6576 - val_acc: 0.3576\n",
      "\n",
      "Epoch 00041: val_acc did not improve from 0.36747\n",
      "Epoch 42/150\n",
      "58/58 [==============================] - 210s 4s/step - loss: 1.6876 - acc: 0.3603 - val_loss: 1.6206 - val_acc: 0.3932\n",
      "\n",
      "Epoch 00062: val_acc did not improve from 0.40038\n",
      "Epoch 63/150\n",
      "58/58 [==============================] - 125s 2s/step - loss: 1.5829 - acc: 0.4140 - val_loss: 1.4862 - val_acc: 0.4566\n",
      "\n",
      "Epoch 00138: val_acc did not improve from 0.46699\n",
      "Epoch 139/150\n",
      "58/58 [==============================] - 125s 2s/step - loss: 1.5753 - acc: 0.4196 - val_loss: 1.4961 - val_acc: 0.4552\n",
      "\n",
      "Epoch 00139: val_acc did not improve from 0.46699\n",
      "Epoch 140/150\n",
      "58/58 [==============================] - 125s 2s/step - loss: 1.5798 - acc: 0.4151 - val_loss: 1.4725 - val_acc: 0.4684\n",
      "\n",
      "Epoch 00140: val_acc improved from 0.46699 to 0.46845, saving model to /notebooks/littleVGG/model_littleVGG_140.hdf5\n",
      "Epoch 141/150\n",
      "58/58 [==============================] - 125s 2s/step - loss: 1.5775 - acc: 0.4162 - val_loss: 1.5068 - val_acc: 0.4540\n",
      "\n",
      "Epoch 00141: val_acc did not improve from 0.46845\n",
      "Epoch 142/150\n",
      "58/58 [==============================] - 125s 2s/step - loss: 1.5744 - acc: 0.4202 - val_loss: 1.4657 - val_acc: 0.4644\n",
      "\n",
      "Epoch 00142: val_acc did not improve from 0.46845\n",
      "Epoch 143/150\n",
      "55/58 [===========================>..] - ETA: 6s - loss: 1.5717 - acc: 0.4195"
     ]
    }
   ],
   "source": [
    "%%time\n",
    "filepath = os.path.join(\"/notebooks/littleVGG/model_littleVGG_{epoch}.hdf5\")\n",
    "\n",
    "checkpoint = keras.callbacks.ModelCheckpoint(filepath,\n",
    "                                             monitor='val_acc',\n",
    "                                             verbose=1,\n",
    "                                             save_best_only=True,\n",
    "                                             mode='max')\n",
    "callbacks = [checkpoint]\n",
    "# if mode == \"train\":\n",
    "model.compile(loss='categorical_crossentropy',optimizer=Adam(lr=0.0001, decay=1e-6),metrics=['accuracy'])\n",
    "nb_train_samples = 29992\n",
    "nb_validation_samples = 7358\n",
    "epochs = 150\n",
    "model_info = model.fit_generator(\n",
    "            train_generator,\n",
    "            steps_per_epoch=nb_train_samples // batch_size,\n",
    "            epochs=epochs,\n",
    "            callbacks = callbacks,\n",
    "            validation_data=validation_generator,\n",
    "            validation_steps=nb_validation_samples // batch_size)"
   ]
  },
  {
   "cell_type": "markdown",
   "metadata": {},
   "source": [
    "## Analyze the result"
   ]
  },
  {
   "cell_type": "code",
   "execution_count": 14,
   "metadata": {},
   "outputs": [
    {
     "name": "stdout",
     "output_type": "stream",
     "text": [
      "dict_keys(['acc', 'loss', 'val_loss', 'val_acc'])\n"
     ]
    },
    {
     "data": {
      "text/plain": [
       "<Figure size 640x480 with 1 Axes>"
      ]
     },
     "metadata": {},
     "output_type": "display_data"
    }
   ],
   "source": [
    "print(model_info.history.keys())\n",
    "\n",
    "import matplotlib.pyplot as plt\n",
    "plt.plot(model_info.history['loss'])\n",
    "plt.plot(model_info.history['val_loss'])\n",
    "plt.title('model loss')\n",
    "plt.ylabel('loss')\n",
    "plt.xlabel('epoch')\n",
    "plt.legend(['train', 'test'], loc='upper left')\n",
    "plt.show()"
   ]
  },
  {
   "cell_type": "markdown",
   "metadata": {},
   "source": [
    "## Confusion Matrix"
   ]
  },
  {
   "cell_type": "code",
   "execution_count": 17,
   "metadata": {},
   "outputs": [
    {
     "name": "stdout",
     "output_type": "stream",
     "text": [
      "Found 7358 images belonging to 9 classes.\n",
      "Confusion Matrix\n",
      "[[ 239    6    0    0   70  174  260  149   62]\n",
      " [   0  158    0    0    0    0    4    0    0]\n",
      " [  25    0    0    0    9   34   25   13    5]\n",
      " [   0  116    0    0    0    0   10    0    4]\n",
      " [ 116    2    0    0  123  192  232  147  206]\n",
      " [  91    9    0    0   34 1343  182   95   71]\n",
      " [  62    5    0    0   42  194  702  154   57]\n",
      " [ 119    8    0    0   63  196  369  329   55]\n",
      " [  26    1    0    0   50   80   71   31  538]]\n",
      "Classification Report\n",
      "              precision    recall  f1-score   support\n",
      "\n",
      "       angry       0.35      0.25      0.29       960\n",
      "    confused       0.52      0.98      0.68       162\n",
      "     disgust       0.00      0.00      0.00       111\n",
      "  distracted       0.00      0.00      0.00       130\n",
      "        fear       0.31      0.12      0.17      1018\n",
      "       happy       0.61      0.74      0.67      1825\n",
      "     neutral       0.38      0.58      0.46      1216\n",
      "         sad       0.36      0.29      0.32      1139\n",
      "    surprise       0.54      0.68      0.60       797\n",
      "\n",
      "    accuracy                           0.47      7358\n",
      "   macro avg       0.34      0.40      0.35      7358\n",
      "weighted avg       0.43      0.47      0.43      7358\n",
      "\n"
     ]
    },
    {
     "name": "stderr",
     "output_type": "stream",
     "text": [
      "/usr/local/lib/python3.5/dist-packages/sklearn/metrics/classification.py:1437: UndefinedMetricWarning: Precision and F-score are ill-defined and being set to 0.0 in labels with no predicted samples.\n",
      "  'precision', 'predicted', average, warn_for)\n"
     ]
    },
    {
     "data": {
      "image/png": "[encoded data removed]",
      "text/plain": [
       "<Figure size 576x576 with 2 Axes>"
      ]
     },
     "metadata": {
      "needs_background": "light"
     },
     "output_type": "display_data"
    }
   ],
   "source": [
    "import sklearn\n",
    "from sklearn.metrics import classification_report, confusion_matrix\n",
    "import numpy as np\n",
    "\n",
    "#Found 29992 images belonging to 9 classes.\n",
    "#Found 7358 images belonging to 9 classes.\n",
    "\n",
    "nb_train_samples = 29992\n",
    "nb_validation_samples = 7358\n",
    "\n",
    "# We need to recreate our validation generator with shuffle = false\n",
    "validation_generator = val_datagen.flow_from_directory(\n",
    "        validation_data_dir,\n",
    "        color_mode = 'grayscale',\n",
    "        target_size=(img_rows, img_cols),\n",
    "        batch_size=batch_size,\n",
    "        class_mode='categorical',\n",
    "        shuffle=False)\n",
    "\n",
    "class_labels = validation_generator.class_indices\n",
    "class_labels = {v: k for k, v in class_labels.items()}\n",
    "classes = list(class_labels.values())\n",
    "\n",
    "#Confution Matrix and Classification Report\n",
    "Y_pred = model.predict_generator(validation_generator, nb_validation_samples // batch_size+1)\n",
    "y_pred = np.argmax(Y_pred, axis=1)\n",
    "\n",
    "print('Confusion Matrix')\n",
    "print(confusion_matrix(validation_generator.classes, y_pred))\n",
    "print('Classification Report')\n",
    "target_names = list(class_labels.values())\n",
    "print(classification_report(validation_generator.classes, y_pred, target_names=target_names))\n",
    "\n",
    "plt.figure(figsize=(8,8))\n",
    "cnf_matrix = confusion_matrix(validation_generator.classes, y_pred)\n",
    "\n",
    "plt.imshow(cnf_matrix, interpolation='nearest')\n",
    "plt.colorbar()\n",
    "tick_marks = np.arange(len(classes))\n",
    "_ = plt.xticks(tick_marks, classes, rotation=90)\n",
    "_ = plt.yticks(tick_marks, classes)"
   ]
  },
  {
   "cell_type": "code",
   "execution_count": null,
   "metadata": {},
   "outputs": [],
   "source": [
    "def plot_confusion_matrix(cm, classes, title='Confusion matrix', cmap=plt.cm.Blues):\n",
    "    cm = cm.astype('float') / cm.sum(axis=1)#[:, np.newaxis]\n",
    "    plt.figure(figsize=(10,10))\n",
    "    plt.imshow(cm, interpolation='nearest', cmap=cmap)\n",
    "    plt.title(title)\n",
    "    plt.colorbar()\n",
    "    tick_marks = np.arange(len(classes))\n",
    "    plt.xticks(tick_marks, classes, rotation=45)\n",
    "    plt.yticks(tick_marks, classes)"
   ]
  },
  {
   "cell_type": "code",
   "execution_count": 22,
   "metadata": {},
   "outputs": [
    {
     "data": {
      "image/png": "[encoded data removed]",
      "text/plain": [
       "<Figure size 720x720 with 2 Axes>"
      ]
     },
     "metadata": {
      "needs_background": "light"
     },
     "output_type": "display_data"
    }
   ],
   "source": [
    "import itertools\n",
    "cm=cnf_matrix\n",
    "cm = cm.astype('float') / cm.sum(axis=1)\n",
    "plt.figure(figsize=(10,10))\n",
    "plt.imshow(cm, interpolation='nearest', cmap=plt.cm.Blues)\n",
    "plt.colorbar()\n",
    "tick_marks = np.arange(len(classes))\n",
    "_ = plt.xticks(tick_marks, classes, rotation=90)\n",
    "_ = plt.yticks(tick_marks, classes)\n",
    "\n",
    "fmt = '.2f'\n",
    "thresh = cm.max() / 2.\n",
    "for i, j in itertools.product(range(cm.shape[0]), range(cm.shape[1])):\n",
    "    plt.text(j, i, format(cm[i, j], fmt),horizontalalignment=\"center\",color=\"white\" if cm[i, j] > thresh else \"black\")"
   ]
  },
  {
   "cell_type": "code",
   "execution_count": null,
   "metadata": {},
   "outputs": [],
   "source": []
  },
  {
   "cell_type": "code",
   "execution_count": null,
   "metadata": {},
   "outputs": [],
   "source": []
  },
  {
   "cell_type": "code",
   "execution_count": null,
   "metadata": {},
   "outputs": [],
   "source": [
    "# option 2: setup transfer learning code, using 9 classes wts for 7 classes - Michelle"
   ]
  },
  {
   "cell_type": "code",
   "execution_count": null,
   "metadata": {},
   "outputs": [],
   "source": []
  },
  {
   "cell_type": "markdown",
   "metadata": {},
   "source": [
    "## Model 2 : littleVGG"
   ]
  },
  {
   "cell_type": "code",
   "execution_count": null,
   "metadata": {},
   "outputs": [],
   "source": []
  },
  {
   "cell_type": "code",
   "execution_count": null,
   "metadata": {},
   "outputs": [],
   "source": []
  }
 ],
 "metadata": {
  "kernelspec": {
   "display_name": "Python 3",
   "language": "python",
   "name": "python3"
  },
  "language_info": {
   "codemirror_mode": {
    "name": "ipython",
    "version": 3
   },
   "file_extension": ".py",
   "mimetype": "text/x-python",
   "name": "python",
   "nbconvert_exporter": "python",
   "pygments_lexer": "ipython3",
   "version": "3.5.2"
  }
 },
 "nbformat": 4,
 "nbformat_minor": 2
}
