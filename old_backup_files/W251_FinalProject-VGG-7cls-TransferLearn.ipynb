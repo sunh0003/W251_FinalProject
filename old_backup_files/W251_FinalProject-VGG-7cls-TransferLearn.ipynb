{
 "cells": [
  {
   "cell_type": "markdown",
   "metadata": {},
   "source": [
    "## Load data"
   ]
  },
  {
   "cell_type": "code",
   "execution_count": 1,
   "metadata": {},
   "outputs": [
    {
     "name": "stdout",
     "output_type": "stream",
     "text": [
      "/notebooks\r\n"
     ]
    }
   ],
   "source": [
    "!pwd"
   ]
  },
  {
   "cell_type": "code",
   "execution_count": 2,
   "metadata": {},
   "outputs": [
    {
     "name": "stdout",
     "output_type": "stream",
     "text": [
      "fatal: destination path 'W251_FinalProject' already exists and is not an empty directory.\r\n"
     ]
    }
   ],
   "source": [
    "!git clone https://github.com/sunh0003/W251_FinalProject.git"
   ]
  },
  {
   "cell_type": "code",
   "execution_count": 3,
   "metadata": {},
   "outputs": [
    {
     "name": "stdout",
     "output_type": "stream",
     "text": [
      "mkdir: cannot create directory ‘data’: File exists\r\n"
     ]
    }
   ],
   "source": [
    "%mkdir data"
   ]
  },
  {
   "cell_type": "code",
   "execution_count": 4,
   "metadata": {},
   "outputs": [
    {
     "name": "stdout",
     "output_type": "stream",
     "text": [
      "/notebooks/W251_FinalProject\n"
     ]
    }
   ],
   "source": [
    "%cd W251_FinalProject"
   ]
  },
  {
   "cell_type": "code",
   "execution_count": 5,
   "metadata": {},
   "outputs": [
    {
     "name": "stdout",
     "output_type": "stream",
     "text": [
      "/notebooks/W251_FinalProject/Kaggle\n"
     ]
    }
   ],
   "source": [
    "%cd Kaggle"
   ]
  },
  {
   "cell_type": "code",
   "execution_count": 6,
   "metadata": {},
   "outputs": [
    {
     "name": "stdout",
     "output_type": "stream",
     "text": [
      "mkdir: cannot create directory ‘/notebooks/data/train’: File exists\r\n"
     ]
    }
   ],
   "source": [
    "%mkdir /notebooks/data/train"
   ]
  },
  {
   "cell_type": "code",
   "execution_count": 7,
   "metadata": {},
   "outputs": [],
   "source": [
    "from shutil import unpack_archive\n",
    "unpack_archive('train1.zip', '/notebooks')\n",
    "unpack_archive('train2.zip', '/notebooks')\n",
    "unpack_archive('train3.zip', '/notebooks')\n",
    "unpack_archive('validation.zip', '/notebooks')"
   ]
  },
  {
   "cell_type": "code",
   "execution_count": 8,
   "metadata": {},
   "outputs": [
    {
     "name": "stdout",
     "output_type": "stream",
     "text": [
      "mv: cannot move '/notebooks/train1/fear' to '/notebooks/data/train/fear': Directory not empty\n",
      "mv: cannot move '/notebooks/train1/happy' to '/notebooks/data/train/happy': Directory not empty\n",
      "mv: cannot stat '/notebooks/train2/netural': No such file or directory\n",
      "mv: cannot move '/notebooks/train2/sad' to '/notebooks/data/train/sad': Directory not empty\n",
      "mv: cannot stat '/notebooks/train2/suprise': No such file or directory\n",
      "mv: cannot move '/notebooks/train3/angry' to '/notebooks/data/train/angry': Directory not empty\n",
      "mv: cannot move '/notebooks/train3/disgust' to '/notebooks/data/train/disgust': Directory not empty\n",
      "mv: cannot move '/notebooks/validation' to '/notebooks/data/validation': Directory not empty\n"
     ]
    }
   ],
   "source": [
    "%mv /notebooks/train1/fear /notebooks/data/train\n",
    "%mv /notebooks/train1/happy /notebooks/data/train\n",
    "%mv /notebooks/train2/netural /notebooks/data/train\n",
    "%mv /notebooks/train2/sad /notebooks/data/train\n",
    "%mv /notebooks/train2/suprise /notebooks/data/train\n",
    "%mv /notebooks/train3/angry /notebooks/data/train\n",
    "%mv /notebooks/train3/disgust /notebooks/data/train\n",
    "%mv /notebooks/validation /notebooks/data"
   ]
  },
  {
   "cell_type": "code",
   "execution_count": 1,
   "metadata": {},
   "outputs": [
    {
     "name": "stdout",
     "output_type": "stream",
     "text": [
      "/notebooks\r\n"
     ]
    }
   ],
   "source": [
    "!pwd"
   ]
  },
  {
   "cell_type": "markdown",
   "metadata": {},
   "source": [
    "## Model"
   ]
  },
  {
   "cell_type": "code",
   "execution_count": 10,
   "metadata": {},
   "outputs": [
    {
     "name": "stdout",
     "output_type": "stream",
     "text": [
      "Requirement already up-to-date: pip in /usr/local/lib/python3.5/dist-packages (20.1.1)\r\n"
     ]
    }
   ],
   "source": [
    "!pip install --upgrade pip"
   ]
  },
  {
   "cell_type": "code",
   "execution_count": 11,
   "metadata": {},
   "outputs": [
    {
     "name": "stdout",
     "output_type": "stream",
     "text": [
      "Requirement already satisfied: pillow in /usr/local/lib/python3.5/dist-packages (7.2.0)\r\n"
     ]
    }
   ],
   "source": [
    "!pip3 install pillow"
   ]
  },
  {
   "cell_type": "markdown",
   "metadata": {},
   "source": []
  },
  {
   "cell_type": "code",
   "execution_count": 69,
   "metadata": {},
   "outputs": [
    {
     "name": "stdout",
     "output_type": "stream",
     "text": [
      "rmdir: failed to remove '/notebooks/data/validation/.ipynb_checkpoints': No such file or directory\r\n"
     ]
    }
   ],
   "source": [
    "! rmdir /notebooks/data/validation/.ipynb_checkpoints"
   ]
  },
  {
   "cell_type": "markdown",
   "metadata": {},
   "source": [
    "# VGG transfer learning - NOT working"
   ]
  },
  {
   "cell_type": "code",
   "execution_count": 43,
   "metadata": {},
   "outputs": [],
   "source": [
    "import  PIL\n",
    "from PIL import Image"
   ]
  },
  {
   "cell_type": "code",
   "execution_count": 48,
   "metadata": {},
   "outputs": [
    {
     "data": {
      "text/plain": [
       "(48, 48)"
      ]
     },
     "execution_count": 48,
     "metadata": {},
     "output_type": "execute_result"
    }
   ],
   "source": [
    "im=image.load_img(train_paths[0])\n",
    "im.size"
   ]
  },
  {
   "cell_type": "code",
   "execution_count": 1,
   "metadata": {},
   "outputs": [
    {
     "name": "stderr",
     "output_type": "stream",
     "text": [
      "Using TensorFlow backend.\n"
     ]
    }
   ],
   "source": [
    "from __future__ import print_function\n",
    "import keras\n",
    "from keras.preprocessing.image import ImageDataGenerator\n",
    "from keras.models import Sequential\n",
    "from keras.layers import Dense, Dropout, Activation, Flatten, BatchNormalization\n",
    "from keras.layers import Conv2D, MaxPooling2D\n",
    "from keras.preprocessing.image import ImageDataGenerator\n",
    "import os\n",
    "from keras.models import Sequential\n",
    "from keras.layers.normalization import BatchNormalization\n",
    "from keras.layers.convolutional import Conv2D, MaxPooling2D\n",
    "from keras.layers.advanced_activations import ELU\n",
    "from keras.layers.core import Activation, Flatten, Dropout, Dense\n",
    "from keras.optimizers import RMSprop, SGD, Adam\n",
    "from keras.callbacks import ModelCheckpoint, EarlyStopping, ReduceLROnPlateau\n",
    "from keras import regularizers\n",
    "from keras.regularizers import l1"
   ]
  },
  {
   "cell_type": "code",
   "execution_count": 4,
   "metadata": {},
   "outputs": [],
   "source": [
    "#https://github.com/Tahsin-Mayeesha/udacity-mlnd-deeplearning-capstone/blob/master/Notebooks/Feature%20extraction.ipynb\n",
    "import h5py\n",
    "import os\n",
    "import numpy as np\n",
    "from keras.applications import VGG16\n",
    "from keras.preprocessing import image\n",
    "from keras.applications.vgg16 import preprocess_input\n",
    "from keras.models import Model"
   ]
  },
  {
   "cell_type": "code",
   "execution_count": 13,
   "metadata": {},
   "outputs": [
    {
     "data": {
      "text/plain": [
       "['distracted', 'sad', 'confused', 'angry', 'surprise', 'happy', 'neutral']"
      ]
     },
     "execution_count": 13,
     "metadata": {},
     "output_type": "execute_result"
    }
   ],
   "source": [
    "\n",
    "train_dir = \"/notebooks/data7cls_randomsplit/train/\"\n",
    "valid_dir = \"/notebooks/data7cls_randomsplit/validation/\"\n",
    "classes = os.listdir(train_dir)\n",
    "classes"
   ]
  },
  {
   "cell_type": "code",
   "execution_count": 10,
   "metadata": {},
   "outputs": [],
   "source": [
    "train_paths = []\n",
    "for c in classes:\n",
    "    train_images = [train_dir+c+'/'+item for item in os.listdir(train_dir+c+'/')]\n",
    "    train_paths.extend(train_images)"
   ]
  },
  {
   "cell_type": "code",
   "execution_count": 11,
   "metadata": {},
   "outputs": [
    {
     "data": {
      "text/plain": [
       "25447"
      ]
     },
     "execution_count": 11,
     "metadata": {},
     "output_type": "execute_result"
    }
   ],
   "source": [
    "len(train_paths)"
   ]
  },
  {
   "cell_type": "code",
   "execution_count": 25,
   "metadata": {},
   "outputs": [
    {
     "data": {
      "text/plain": [
       "25446"
      ]
     },
     "execution_count": 25,
     "metadata": {},
     "output_type": "execute_result"
    }
   ],
   "source": [
    "train_paths1=[]\n",
    "for i in train_paths:\n",
    "    if i.endswith(\".jpg\") or i.endswith(\".png\"):\n",
    "        train_paths1.append(i)\n",
    "len(train_paths1)"
   ]
  },
  {
   "cell_type": "code",
   "execution_count": 14,
   "metadata": {},
   "outputs": [
    {
     "data": {
      "text/plain": [
       "6238"
      ]
     },
     "execution_count": 14,
     "metadata": {},
     "output_type": "execute_result"
    }
   ],
   "source": [
    "valid_paths = []\n",
    "for c in classes:\n",
    "    valid_images = [valid_dir+c+'/'+item for item in os.listdir(valid_dir+c+'/')]\n",
    "    valid_paths.extend(valid_images)\n",
    "len(valid_paths)"
   ]
  },
  {
   "cell_type": "code",
   "execution_count": 28,
   "metadata": {},
   "outputs": [
    {
     "data": {
      "text/plain": [
       "6236"
      ]
     },
     "execution_count": 28,
     "metadata": {},
     "output_type": "execute_result"
    }
   ],
   "source": [
    "valid_paths1=[]\n",
    "for i in valid_paths:\n",
    "    if i.endswith(\".jpg\") or i.endswith(\".png\"):\n",
    "        valid_paths1.append(i)\n",
    "len(valid_paths1)"
   ]
  },
  {
   "cell_type": "code",
   "execution_count": 29,
   "metadata": {},
   "outputs": [
    {
     "name": "stdout",
     "output_type": "stream",
     "text": [
      "CPU times: user 4 µs, sys: 0 ns, total: 4 µs\n",
      "Wall time: 11.4 µs\n",
      "CPU times: user 4 µs, sys: 1 µs, total: 5 µs\n",
      "Wall time: 11.9 µs\n",
      "CPU times: user 0 ns, sys: 5 µs, total: 5 µs\n",
      "Wall time: 12.2 µs\n"
     ]
    },
    {
     "name": "stderr",
     "output_type": "stream",
     "text": [
      "/usr/local/lib/python3.5/dist-packages/ipykernel_launcher.py:13: FutureWarning: arrays to stack must be passed as a \"sequence\" type such as list or tuple. Support for non-sequence iterables such as generators is deprecated as of NumPy 1.16 and will raise an error in the future.\n",
      "  del sys.path[0]\n"
     ]
    },
    {
     "name": "stdout",
     "output_type": "stream",
     "text": [
      "CPU times: user 4 µs, sys: 1e+03 ns, total: 5 µs\n",
      "Wall time: 12.4 µs\n"
     ]
    }
   ],
   "source": [
    "def preprocess_image(path):\n",
    "    img = image.load_img(path, target_size = (height, width))\n",
    "    a = image.img_to_array(img)\n",
    "    a = np.expand_dims(a, axis = 0)\n",
    "    return preprocess_input(a)\n",
    "height,width=48,48\n",
    "%time\n",
    "preprocessed_images = np.vstack([preprocess_image(fn) for fn in train_paths1])\n",
    "%time\n",
    "np.save(\"train_preprocesed.npy\",preprocessed_images)\n",
    "\n",
    "%time\n",
    "valid_preprocessed_images = np.vstack(preprocess_image(fn) for fn in valid_paths1)\n",
    "%time\n",
    "np.save(\"valid_preprocessed.npy\",valid_preprocessed_images)"
   ]
  },
  {
   "cell_type": "code",
   "execution_count": 5,
   "metadata": {},
   "outputs": [
    {
     "name": "stdout",
     "output_type": "stream",
     "text": [
      "WARNING:tensorflow:From /usr/local/lib/python3.5/dist-packages/tensorflow/python/framework/op_def_library.py:263: colocate_with (from tensorflow.python.framework.ops) is deprecated and will be removed in a future version.\n",
      "Instructions for updating:\n",
      "Colocations handled automatically by placer.\n",
      "Downloading data from https://github.com/fchollet/deep-learning-models/releases/download/v0.1/vgg16_weights_tf_dim_ordering_tf_kernels_notop.h5\n",
      "58892288/58889256 [==============================] - 1s 0us/step\n"
     ]
    }
   ],
   "source": [
    "model = VGG16(weights=\"imagenet\",include_top=False)"
   ]
  },
  {
   "cell_type": "code",
   "execution_count": 49,
   "metadata": {},
   "outputs": [
    {
     "data": {
      "text/plain": [
       "['/notebooks/data7cls_randomsplit/train/neutral/30012.jpg',\n",
       " '/notebooks/data7cls_randomsplit/train/neutral/17749.jpg',\n",
       " '/notebooks/data7cls_randomsplit/train/neutral/27314.jpg',\n",
       " '/notebooks/data7cls_randomsplit/train/neutral/2000.jpg',\n",
       " '/notebooks/data7cls_randomsplit/train/neutral/23785.jpg',\n",
       " '/notebooks/data7cls_randomsplit/train/neutral/26466.jpg',\n",
       " '/notebooks/data7cls_randomsplit/train/neutral/10630.jpg',\n",
       " '/notebooks/data7cls_randomsplit/train/neutral/35674.jpg',\n",
       " '/notebooks/data7cls_randomsplit/train/neutral/4896.jpg',\n",
       " '/notebooks/data7cls_randomsplit/train/neutral/6545.jpg',\n",
       " '/notebooks/data7cls_randomsplit/train/neutral/10294.jpg',\n",
       " '/notebooks/data7cls_randomsplit/train/neutral/6953.jpg',\n",
       " '/notebooks/data7cls_randomsplit/train/neutral/9684.jpg',\n",
       " '/notebooks/data7cls_randomsplit/train/neutral/15609.jpg',\n",
       " '/notebooks/data7cls_randomsplit/train/neutral/18879.jpg',\n",
       " '/notebooks/data7cls_randomsplit/train/neutral/19787.jpg',\n",
       " '/notebooks/data7cls_randomsplit/train/neutral/1519.jpg',\n",
       " '/notebooks/data7cls_randomsplit/train/neutral/19540.jpg',\n",
       " '/notebooks/data7cls_randomsplit/train/neutral/25030.jpg',\n",
       " '/notebooks/data7cls_randomsplit/train/neutral/33495.jpg',\n",
       " '/notebooks/data7cls_randomsplit/train/neutral/29032.jpg',\n",
       " '/notebooks/data7cls_randomsplit/train/neutral/18295.jpg',\n",
       " '/notebooks/data7cls_randomsplit/train/neutral/19759.jpg',\n",
       " '/notebooks/data7cls_randomsplit/train/neutral/27223.jpg',\n",
       " '/notebooks/data7cls_randomsplit/train/neutral/2169.jpg',\n",
       " '/notebooks/data7cls_randomsplit/train/neutral/31507.jpg',\n",
       " '/notebooks/data7cls_randomsplit/train/neutral/991.jpg',\n",
       " '/notebooks/data7cls_randomsplit/train/neutral/15819.jpg',\n",
       " '/notebooks/data7cls_randomsplit/train/neutral/34831.jpg',\n",
       " '/notebooks/data7cls_randomsplit/train/neutral/33414.jpg',\n",
       " '/notebooks/data7cls_randomsplit/train/neutral/8750.jpg',\n",
       " '/notebooks/data7cls_randomsplit/train/neutral/20007.jpg',\n",
       " '/notebooks/data7cls_randomsplit/train/neutral/14660.jpg',\n",
       " '/notebooks/data7cls_randomsplit/train/neutral/13364.jpg',\n",
       " '/notebooks/data7cls_randomsplit/train/neutral/28834.jpg',\n",
       " '/notebooks/data7cls_randomsplit/train/neutral/34654.jpg',\n",
       " '/notebooks/data7cls_randomsplit/train/neutral/152.jpg',\n",
       " '/notebooks/data7cls_randomsplit/train/neutral/15184.jpg',\n",
       " '/notebooks/data7cls_randomsplit/train/neutral/15755.jpg',\n",
       " '/notebooks/data7cls_randomsplit/train/neutral/31647.jpg',\n",
       " '/notebooks/data7cls_randomsplit/train/neutral/29752.jpg',\n",
       " '/notebooks/data7cls_randomsplit/train/neutral/35286.jpg',\n",
       " '/notebooks/data7cls_randomsplit/train/neutral/25971.jpg',\n",
       " '/notebooks/data7cls_randomsplit/train/neutral/15242.jpg',\n",
       " '/notebooks/data7cls_randomsplit/train/neutral/20637.jpg',\n",
       " '/notebooks/data7cls_randomsplit/train/neutral/14607.jpg',\n",
       " '/notebooks/data7cls_randomsplit/train/neutral/30843.jpg',\n",
       " '/notebooks/data7cls_randomsplit/train/neutral/15045.jpg',\n",
       " '/notebooks/data7cls_randomsplit/train/neutral/28747.jpg',\n",
       " '/notebooks/data7cls_randomsplit/train/neutral/13882.jpg',\n",
       " '/notebooks/data7cls_randomsplit/train/neutral/27742.jpg',\n",
       " '/notebooks/data7cls_randomsplit/train/neutral/13434.jpg',\n",
       " '/notebooks/data7cls_randomsplit/train/neutral/14818.jpg',\n",
       " '/notebooks/data7cls_randomsplit/train/neutral/33130.jpg',\n",
       " '/notebooks/data7cls_randomsplit/train/neutral/12145.jpg',\n",
       " '/notebooks/data7cls_randomsplit/train/neutral/6806.jpg',\n",
       " '/notebooks/data7cls_randomsplit/train/neutral/27219.jpg',\n",
       " '/notebooks/data7cls_randomsplit/train/neutral/33403.jpg',\n",
       " '/notebooks/data7cls_randomsplit/train/neutral/32509.jpg',\n",
       " '/notebooks/data7cls_randomsplit/train/neutral/27170.jpg',\n",
       " '/notebooks/data7cls_randomsplit/train/neutral/5965.jpg',\n",
       " '/notebooks/data7cls_randomsplit/train/neutral/34642.jpg',\n",
       " '/notebooks/data7cls_randomsplit/train/neutral/26138.jpg',\n",
       " '/notebooks/data7cls_randomsplit/train/neutral/12227.jpg',\n",
       " '/notebooks/data7cls_randomsplit/train/neutral/22265.jpg',\n",
       " '/notebooks/data7cls_randomsplit/train/neutral/4924.jpg',\n",
       " '/notebooks/data7cls_randomsplit/train/neutral/11993.jpg',\n",
       " '/notebooks/data7cls_randomsplit/train/neutral/15960.jpg',\n",
       " '/notebooks/data7cls_randomsplit/train/neutral/3072.jpg',\n",
       " '/notebooks/data7cls_randomsplit/train/neutral/13960.jpg',\n",
       " '/notebooks/data7cls_randomsplit/train/neutral/28002.jpg',\n",
       " '/notebooks/data7cls_randomsplit/train/neutral/31284.jpg',\n",
       " '/notebooks/data7cls_randomsplit/train/neutral/15492.jpg',\n",
       " '/notebooks/data7cls_randomsplit/train/neutral/18516.jpg',\n",
       " '/notebooks/data7cls_randomsplit/train/neutral/1571.jpg',\n",
       " '/notebooks/data7cls_randomsplit/train/neutral/19715.jpg',\n",
       " '/notebooks/data7cls_randomsplit/train/neutral/30860.jpg',\n",
       " '/notebooks/data7cls_randomsplit/train/neutral/27827.jpg',\n",
       " '/notebooks/data7cls_randomsplit/train/neutral/19925.jpg',\n",
       " '/notebooks/data7cls_randomsplit/train/neutral/16582.jpg',\n",
       " '/notebooks/data7cls_randomsplit/train/neutral/19846.jpg',\n",
       " '/notebooks/data7cls_randomsplit/train/neutral/1636.jpg',\n",
       " '/notebooks/data7cls_randomsplit/train/neutral/23143.jpg',\n",
       " '/notebooks/data7cls_randomsplit/train/neutral/34646.jpg',\n",
       " '/notebooks/data7cls_randomsplit/train/neutral/32714.jpg',\n",
       " '/notebooks/data7cls_randomsplit/train/neutral/17564.jpg',\n",
       " '/notebooks/data7cls_randomsplit/train/neutral/17081.jpg',\n",
       " '/notebooks/data7cls_randomsplit/train/neutral/23308.jpg',\n",
       " '/notebooks/data7cls_randomsplit/train/neutral/29310.jpg',\n",
       " '/notebooks/data7cls_randomsplit/train/neutral/3809.jpg',\n",
       " '/notebooks/data7cls_randomsplit/train/neutral/35077.jpg',\n",
       " '/notebooks/data7cls_randomsplit/train/neutral/15828.jpg',\n",
       " '/notebooks/data7cls_randomsplit/train/neutral/23469.jpg',\n",
       " '/notebooks/data7cls_randomsplit/train/neutral/31608.jpg',\n",
       " '/notebooks/data7cls_randomsplit/train/neutral/23659.jpg',\n",
       " '/notebooks/data7cls_randomsplit/train/neutral/15424.jpg',\n",
       " '/notebooks/data7cls_randomsplit/train/neutral/11020.jpg',\n",
       " '/notebooks/data7cls_randomsplit/train/neutral/7043.jpg',\n",
       " '/notebooks/data7cls_randomsplit/train/neutral/4769.jpg',\n",
       " '/notebooks/data7cls_randomsplit/train/neutral/30990.jpg',\n",
       " '/notebooks/data7cls_randomsplit/train/neutral/14838.jpg',\n",
       " '/notebooks/data7cls_randomsplit/train/neutral/2631.jpg',\n",
       " '/notebooks/data7cls_randomsplit/train/neutral/20423.jpg',\n",
       " '/notebooks/data7cls_randomsplit/train/neutral/8757.jpg',\n",
       " '/notebooks/data7cls_randomsplit/train/neutral/29299.jpg',\n",
       " '/notebooks/data7cls_randomsplit/train/neutral/3510.jpg',\n",
       " '/notebooks/data7cls_randomsplit/train/neutral/28411.jpg',\n",
       " '/notebooks/data7cls_randomsplit/train/neutral/19328.jpg',\n",
       " '/notebooks/data7cls_randomsplit/train/neutral/14220.jpg',\n",
       " '/notebooks/data7cls_randomsplit/train/neutral/31909.jpg',\n",
       " '/notebooks/data7cls_randomsplit/train/neutral/7486.jpg',\n",
       " '/notebooks/data7cls_randomsplit/train/neutral/4463.jpg',\n",
       " '/notebooks/data7cls_randomsplit/train/neutral/10085.jpg',\n",
       " '/notebooks/data7cls_randomsplit/train/neutral/24937.jpg',\n",
       " '/notebooks/data7cls_randomsplit/train/neutral/21809.jpg',\n",
       " '/notebooks/data7cls_randomsplit/train/neutral/23733.jpg',\n",
       " '/notebooks/data7cls_randomsplit/train/neutral/5119.jpg',\n",
       " '/notebooks/data7cls_randomsplit/train/neutral/24994.jpg',\n",
       " '/notebooks/data7cls_randomsplit/train/neutral/24248.jpg',\n",
       " '/notebooks/data7cls_randomsplit/train/neutral/11798.jpg',\n",
       " '/notebooks/data7cls_randomsplit/train/neutral/12448.jpg',\n",
       " '/notebooks/data7cls_randomsplit/train/neutral/1895.jpg',\n",
       " '/notebooks/data7cls_randomsplit/train/neutral/8907.jpg',\n",
       " '/notebooks/data7cls_randomsplit/train/neutral/22063.jpg',\n",
       " '/notebooks/data7cls_randomsplit/train/neutral/6398.jpg',\n",
       " '/notebooks/data7cls_randomsplit/train/neutral/33821.jpg',\n",
       " '/notebooks/data7cls_randomsplit/train/neutral/23624.jpg',\n",
       " '/notebooks/data7cls_randomsplit/train/neutral/6289.jpg',\n",
       " '/notebooks/data7cls_randomsplit/train/neutral/30884.jpg',\n",
       " '/notebooks/data7cls_randomsplit/train/neutral/1323.jpg',\n",
       " '/notebooks/data7cls_randomsplit/train/neutral/17113.jpg',\n",
       " '/notebooks/data7cls_randomsplit/train/neutral/12251.jpg',\n",
       " '/notebooks/data7cls_randomsplit/train/neutral/2937.jpg',\n",
       " '/notebooks/data7cls_randomsplit/train/neutral/10684.jpg',\n",
       " '/notebooks/data7cls_randomsplit/train/neutral/9601.jpg',\n",
       " '/notebooks/data7cls_randomsplit/train/neutral/32840.jpg',\n",
       " '/notebooks/data7cls_randomsplit/train/neutral/22169.jpg',\n",
       " '/notebooks/data7cls_randomsplit/train/neutral/3258.jpg',\n",
       " '/notebooks/data7cls_randomsplit/train/neutral/4026.jpg',\n",
       " '/notebooks/data7cls_randomsplit/train/neutral/8533.jpg',\n",
       " '/notebooks/data7cls_randomsplit/train/neutral/22547.jpg',\n",
       " '/notebooks/data7cls_randomsplit/train/neutral/26401.jpg',\n",
       " '/notebooks/data7cls_randomsplit/train/neutral/11437.jpg',\n",
       " '/notebooks/data7cls_randomsplit/train/neutral/29711.jpg',\n",
       " '/notebooks/data7cls_randomsplit/train/neutral/3715.jpg',\n",
       " '/notebooks/data7cls_randomsplit/train/neutral/25629.jpg',\n",
       " '/notebooks/data7cls_randomsplit/train/neutral/26884.jpg',\n",
       " '/notebooks/data7cls_randomsplit/train/neutral/28075.jpg',\n",
       " '/notebooks/data7cls_randomsplit/train/neutral/9466.jpg',\n",
       " '/notebooks/data7cls_randomsplit/train/neutral/8894.jpg',\n",
       " '/notebooks/data7cls_randomsplit/train/neutral/24564.jpg',\n",
       " '/notebooks/data7cls_randomsplit/train/neutral/5376.jpg',\n",
       " '/notebooks/data7cls_randomsplit/train/neutral/33612.jpg',\n",
       " '/notebooks/data7cls_randomsplit/train/neutral/3505.jpg',\n",
       " '/notebooks/data7cls_randomsplit/train/neutral/23082.jpg',\n",
       " '/notebooks/data7cls_randomsplit/train/neutral/6102.jpg',\n",
       " '/notebooks/data7cls_randomsplit/train/neutral/3140.jpg',\n",
       " '/notebooks/data7cls_randomsplit/train/neutral/12665.jpg',\n",
       " '/notebooks/data7cls_randomsplit/train/neutral/14290.jpg',\n",
       " '/notebooks/data7cls_randomsplit/train/neutral/16026.jpg',\n",
       " '/notebooks/data7cls_randomsplit/train/neutral/32313.jpg',\n",
       " '/notebooks/data7cls_randomsplit/train/neutral/21905.jpg',\n",
       " '/notebooks/data7cls_randomsplit/train/neutral/4145.jpg',\n",
       " '/notebooks/data7cls_randomsplit/train/neutral/13213.jpg',\n",
       " '/notebooks/data7cls_randomsplit/train/neutral/8582.jpg',\n",
       " '/notebooks/data7cls_randomsplit/train/neutral/25900.jpg',\n",
       " '/notebooks/data7cls_randomsplit/train/neutral/16178.jpg',\n",
       " '/notebooks/data7cls_randomsplit/train/neutral/30457.jpg',\n",
       " '/notebooks/data7cls_randomsplit/train/neutral/24722.jpg',\n",
       " '/notebooks/data7cls_randomsplit/train/neutral/29760.jpg',\n",
       " '/notebooks/data7cls_randomsplit/train/neutral/19479.jpg',\n",
       " '/notebooks/data7cls_randomsplit/train/neutral/11511.jpg',\n",
       " '/notebooks/data7cls_randomsplit/train/neutral/24111.jpg',\n",
       " '/notebooks/data7cls_randomsplit/train/neutral/31898.jpg',\n",
       " '/notebooks/data7cls_randomsplit/train/neutral/2102.jpg',\n",
       " '/notebooks/data7cls_randomsplit/train/neutral/6705.jpg',\n",
       " '/notebooks/data7cls_randomsplit/train/neutral/12184.jpg',\n",
       " '/notebooks/data7cls_randomsplit/train/neutral/31169.jpg',\n",
       " '/notebooks/data7cls_randomsplit/train/neutral/26938.jpg',\n",
       " '/notebooks/data7cls_randomsplit/train/neutral/4307.jpg',\n",
       " '/notebooks/data7cls_randomsplit/train/neutral/32032.jpg',\n",
       " '/notebooks/data7cls_randomsplit/train/neutral/34518.jpg',\n",
       " '/notebooks/data7cls_randomsplit/train/neutral/13710.jpg',\n",
       " '/notebooks/data7cls_randomsplit/train/neutral/26342.jpg',\n",
       " '/notebooks/data7cls_randomsplit/train/neutral/15485.jpg',\n",
       " '/notebooks/data7cls_randomsplit/train/neutral/23262.jpg',\n",
       " '/notebooks/data7cls_randomsplit/train/neutral/19111.jpg',\n",
       " '/notebooks/data7cls_randomsplit/train/neutral/23367.jpg',\n",
       " '/notebooks/data7cls_randomsplit/train/neutral/29939.jpg',\n",
       " '/notebooks/data7cls_randomsplit/train/neutral/30157.jpg',\n",
       " '/notebooks/data7cls_randomsplit/train/neutral/3346.jpg',\n",
       " '/notebooks/data7cls_randomsplit/train/neutral/1754.jpg',\n",
       " '/notebooks/data7cls_randomsplit/train/neutral/16068.jpg',\n",
       " '/notebooks/data7cls_randomsplit/train/neutral/33733.jpg',\n",
       " '/notebooks/data7cls_randomsplit/train/neutral/3886.jpg',\n",
       " '/notebooks/data7cls_randomsplit/train/neutral/35107.jpg',\n",
       " '/notebooks/data7cls_randomsplit/train/neutral/34586.jpg',\n",
       " '/notebooks/data7cls_randomsplit/train/neutral/31960.jpg',\n",
       " '/notebooks/data7cls_randomsplit/train/neutral/14832.jpg',\n",
       " '/notebooks/data7cls_randomsplit/train/neutral/29144.jpg',\n",
       " '/notebooks/data7cls_randomsplit/train/neutral/177.jpg',\n",
       " '/notebooks/data7cls_randomsplit/train/neutral/32625.jpg',\n",
       " '/notebooks/data7cls_randomsplit/train/neutral/15272.jpg',\n",
       " '/notebooks/data7cls_randomsplit/train/neutral/33760.jpg',\n",
       " '/notebooks/data7cls_randomsplit/train/neutral/17110.jpg',\n",
       " '/notebooks/data7cls_randomsplit/train/neutral/6718.jpg',\n",
       " '/notebooks/data7cls_randomsplit/train/neutral/17064.jpg',\n",
       " '/notebooks/data7cls_randomsplit/train/neutral/17133.jpg',\n",
       " '/notebooks/data7cls_randomsplit/train/neutral/20392.jpg',\n",
       " '/notebooks/data7cls_randomsplit/train/neutral/18378.jpg',\n",
       " '/notebooks/data7cls_randomsplit/train/neutral/24424.jpg',\n",
       " '/notebooks/data7cls_randomsplit/train/neutral/7834.jpg',\n",
       " '/notebooks/data7cls_randomsplit/train/neutral/18024.jpg',\n",
       " '/notebooks/data7cls_randomsplit/train/neutral/22644.jpg',\n",
       " '/notebooks/data7cls_randomsplit/train/neutral/9805.jpg',\n",
       " '/notebooks/data7cls_randomsplit/train/neutral/29061.jpg',\n",
       " '/notebooks/data7cls_randomsplit/train/neutral/17284.jpg',\n",
       " '/notebooks/data7cls_randomsplit/train/neutral/15360.jpg',\n",
       " '/notebooks/data7cls_randomsplit/train/neutral/18625.jpg',\n",
       " '/notebooks/data7cls_randomsplit/train/neutral/7214.jpg',\n",
       " '/notebooks/data7cls_randomsplit/train/neutral/27221.jpg',\n",
       " '/notebooks/data7cls_randomsplit/train/neutral/14302.jpg',\n",
       " '/notebooks/data7cls_randomsplit/train/neutral/33235.jpg',\n",
       " '/notebooks/data7cls_randomsplit/train/neutral/6192.jpg',\n",
       " '/notebooks/data7cls_randomsplit/train/neutral/9092.jpg',\n",
       " '/notebooks/data7cls_randomsplit/train/neutral/30534.jpg',\n",
       " '/notebooks/data7cls_randomsplit/train/neutral/32008.jpg',\n",
       " '/notebooks/data7cls_randomsplit/train/neutral/8860.jpg',\n",
       " '/notebooks/data7cls_randomsplit/train/neutral/30677.jpg',\n",
       " '/notebooks/data7cls_randomsplit/train/neutral/29636.jpg',\n",
       " '/notebooks/data7cls_randomsplit/train/neutral/25976.jpg',\n",
       " '/notebooks/data7cls_randomsplit/train/neutral/15943.jpg',\n",
       " '/notebooks/data7cls_randomsplit/train/neutral/12168.jpg',\n",
       " '/notebooks/data7cls_randomsplit/train/neutral/27860.jpg',\n",
       " '/notebooks/data7cls_randomsplit/train/neutral/13436.jpg',\n",
       " '/notebooks/data7cls_randomsplit/train/neutral/22199.jpg',\n",
       " '/notebooks/data7cls_randomsplit/train/neutral/18435.jpg',\n",
       " '/notebooks/data7cls_randomsplit/train/neutral/30539.jpg',\n",
       " '/notebooks/data7cls_randomsplit/train/neutral/13982.jpg',\n",
       " '/notebooks/data7cls_randomsplit/train/neutral/23831.jpg',\n",
       " '/notebooks/data7cls_randomsplit/train/neutral/11434.jpg',\n",
       " '/notebooks/data7cls_randomsplit/train/neutral/14264.jpg',\n",
       " '/notebooks/data7cls_randomsplit/train/neutral/13734.jpg',\n",
       " '/notebooks/data7cls_randomsplit/train/neutral/29281.jpg',\n",
       " '/notebooks/data7cls_randomsplit/train/neutral/12716.jpg',\n",
       " '/notebooks/data7cls_randomsplit/train/neutral/30954.jpg',\n",
       " '/notebooks/data7cls_randomsplit/train/neutral/29725.jpg',\n",
       " '/notebooks/data7cls_randomsplit/train/neutral/28742.jpg',\n",
       " '/notebooks/data7cls_randomsplit/train/neutral/21634.jpg',\n",
       " '/notebooks/data7cls_randomsplit/train/neutral/8891.jpg',\n",
       " '/notebooks/data7cls_randomsplit/train/neutral/6825.jpg',\n",
       " '/notebooks/data7cls_randomsplit/train/neutral/4718.jpg',\n",
       " '/notebooks/data7cls_randomsplit/train/neutral/9484.jpg',\n",
       " '/notebooks/data7cls_randomsplit/train/neutral/17160.jpg',\n",
       " '/notebooks/data7cls_randomsplit/train/neutral/22295.jpg',\n",
       " '/notebooks/data7cls_randomsplit/train/neutral/27291.jpg',\n",
       " '/notebooks/data7cls_randomsplit/train/neutral/18741.jpg',\n",
       " '/notebooks/data7cls_randomsplit/train/neutral/35224.jpg',\n",
       " '/notebooks/data7cls_randomsplit/train/neutral/20995.jpg',\n",
       " '/notebooks/data7cls_randomsplit/train/neutral/32285.jpg',\n",
       " '/notebooks/data7cls_randomsplit/train/neutral/28991.jpg',\n",
       " '/notebooks/data7cls_randomsplit/train/neutral/26587.jpg',\n",
       " '/notebooks/data7cls_randomsplit/train/neutral/21873.jpg',\n",
       " '/notebooks/data7cls_randomsplit/train/neutral/33370.jpg',\n",
       " '/notebooks/data7cls_randomsplit/train/neutral/8752.jpg',\n",
       " '/notebooks/data7cls_randomsplit/train/neutral/29195.jpg',\n",
       " '/notebooks/data7cls_randomsplit/train/neutral/22239.jpg',\n",
       " '/notebooks/data7cls_randomsplit/train/neutral/35556.jpg',\n",
       " '/notebooks/data7cls_randomsplit/train/neutral/14286.jpg',\n",
       " '/notebooks/data7cls_randomsplit/train/neutral/2078.jpg',\n",
       " '/notebooks/data7cls_randomsplit/train/neutral/12468.jpg',\n",
       " '/notebooks/data7cls_randomsplit/train/neutral/8575.jpg',\n",
       " '/notebooks/data7cls_randomsplit/train/neutral/22105.jpg',\n",
       " '/notebooks/data7cls_randomsplit/train/neutral/14727.jpg',\n",
       " '/notebooks/data7cls_randomsplit/train/neutral/25718.jpg',\n",
       " '/notebooks/data7cls_randomsplit/train/neutral/1879.jpg',\n",
       " '/notebooks/data7cls_randomsplit/train/neutral/2977.jpg',\n",
       " '/notebooks/data7cls_randomsplit/train/neutral/22379.jpg',\n",
       " '/notebooks/data7cls_randomsplit/train/neutral/32239.jpg',\n",
       " '/notebooks/data7cls_randomsplit/train/neutral/18870.jpg',\n",
       " '/notebooks/data7cls_randomsplit/train/neutral/23250.jpg',\n",
       " '/notebooks/data7cls_randomsplit/train/neutral/31835.jpg',\n",
       " '/notebooks/data7cls_randomsplit/train/neutral/7118.jpg',\n",
       " '/notebooks/data7cls_randomsplit/train/neutral/28619.jpg',\n",
       " '/notebooks/data7cls_randomsplit/train/neutral/34668.jpg',\n",
       " '/notebooks/data7cls_randomsplit/train/neutral/15098.jpg',\n",
       " '/notebooks/data7cls_randomsplit/train/neutral/2359.jpg',\n",
       " '/notebooks/data7cls_randomsplit/train/neutral/12250.jpg',\n",
       " '/notebooks/data7cls_randomsplit/train/neutral/12015.jpg',\n",
       " '/notebooks/data7cls_randomsplit/train/neutral/30311.jpg',\n",
       " '/notebooks/data7cls_randomsplit/train/neutral/29948.jpg',\n",
       " '/notebooks/data7cls_randomsplit/train/neutral/22173.jpg',\n",
       " '/notebooks/data7cls_randomsplit/train/neutral/33983.jpg',\n",
       " '/notebooks/data7cls_randomsplit/train/neutral/25304.jpg',\n",
       " '/notebooks/data7cls_randomsplit/train/neutral/32874.jpg',\n",
       " '/notebooks/data7cls_randomsplit/train/neutral/2822.jpg',\n",
       " '/notebooks/data7cls_randomsplit/train/neutral/11780.jpg',\n",
       " '/notebooks/data7cls_randomsplit/train/neutral/9700.jpg',\n",
       " '/notebooks/data7cls_randomsplit/train/neutral/35208.jpg',\n",
       " '/notebooks/data7cls_randomsplit/train/neutral/26663.jpg',\n",
       " '/notebooks/data7cls_randomsplit/train/neutral/19635.jpg',\n",
       " '/notebooks/data7cls_randomsplit/train/neutral/12079.jpg',\n",
       " '/notebooks/data7cls_randomsplit/train/neutral/33199.jpg',\n",
       " '/notebooks/data7cls_randomsplit/train/neutral/30953.jpg',\n",
       " '/notebooks/data7cls_randomsplit/train/neutral/17244.jpg',\n",
       " '/notebooks/data7cls_randomsplit/train/neutral/23219.jpg',\n",
       " '/notebooks/data7cls_randomsplit/train/neutral/17701.jpg',\n",
       " '/notebooks/data7cls_randomsplit/train/neutral/22033.jpg',\n",
       " '/notebooks/data7cls_randomsplit/train/neutral/20581.jpg',\n",
       " '/notebooks/data7cls_randomsplit/train/neutral/33768.jpg',\n",
       " '/notebooks/data7cls_randomsplit/train/neutral/15936.jpg',\n",
       " '/notebooks/data7cls_randomsplit/train/neutral/32517.jpg',\n",
       " '/notebooks/data7cls_randomsplit/train/neutral/12266.jpg',\n",
       " '/notebooks/data7cls_randomsplit/train/neutral/5485.jpg',\n",
       " '/notebooks/data7cls_randomsplit/train/neutral/4213.jpg',\n",
       " '/notebooks/data7cls_randomsplit/train/neutral/9711.jpg',\n",
       " '/notebooks/data7cls_randomsplit/train/neutral/6156.jpg',\n",
       " '/notebooks/data7cls_randomsplit/train/neutral/34008.jpg',\n",
       " '/notebooks/data7cls_randomsplit/train/neutral/7946.jpg',\n",
       " '/notebooks/data7cls_randomsplit/train/neutral/29787.jpg',\n",
       " '/notebooks/data7cls_randomsplit/train/neutral/4166.jpg',\n",
       " '/notebooks/data7cls_randomsplit/train/neutral/29487.jpg',\n",
       " '/notebooks/data7cls_randomsplit/train/neutral/3924.jpg',\n",
       " '/notebooks/data7cls_randomsplit/train/neutral/5136.jpg',\n",
       " '/notebooks/data7cls_randomsplit/train/neutral/17370.jpg',\n",
       " '/notebooks/data7cls_randomsplit/train/neutral/25575.jpg',\n",
       " '/notebooks/data7cls_randomsplit/train/neutral/5231.jpg',\n",
       " '/notebooks/data7cls_randomsplit/train/neutral/14606.jpg',\n",
       " '/notebooks/data7cls_randomsplit/train/neutral/13211.jpg',\n",
       " '/notebooks/data7cls_randomsplit/train/neutral/23994.jpg',\n",
       " '/notebooks/data7cls_randomsplit/train/neutral/1218.jpg',\n",
       " '/notebooks/data7cls_randomsplit/train/neutral/21498.jpg',\n",
       " '/notebooks/data7cls_randomsplit/train/neutral/23954.jpg',\n",
       " '/notebooks/data7cls_randomsplit/train/neutral/11514.jpg',\n",
       " '/notebooks/data7cls_randomsplit/train/neutral/32269.jpg',\n",
       " '/notebooks/data7cls_randomsplit/train/neutral/3497.jpg',\n",
       " '/notebooks/data7cls_randomsplit/train/neutral/4083.jpg',\n",
       " '/notebooks/data7cls_randomsplit/train/neutral/26645.jpg',\n",
       " '/notebooks/data7cls_randomsplit/train/neutral/24684.jpg',\n",
       " '/notebooks/data7cls_randomsplit/train/neutral/3179.jpg',\n",
       " '/notebooks/data7cls_randomsplit/train/neutral/13865.jpg',\n",
       " '/notebooks/data7cls_randomsplit/train/neutral/16882.jpg',\n",
       " '/notebooks/data7cls_randomsplit/train/neutral/35017.jpg',\n",
       " '/notebooks/data7cls_randomsplit/train/neutral/28423.jpg',\n",
       " '/notebooks/data7cls_randomsplit/train/neutral/15351.jpg',\n",
       " '/notebooks/data7cls_randomsplit/train/neutral/19122.jpg',\n",
       " '/notebooks/data7cls_randomsplit/train/neutral/30007.jpg',\n",
       " '/notebooks/data7cls_randomsplit/train/neutral/15446.jpg',\n",
       " '/notebooks/data7cls_randomsplit/train/neutral/5716.jpg',\n",
       " '/notebooks/data7cls_randomsplit/train/neutral/14915.jpg',\n",
       " '/notebooks/data7cls_randomsplit/train/neutral/34322.jpg',\n",
       " '/notebooks/data7cls_randomsplit/train/neutral/25893.jpg',\n",
       " '/notebooks/data7cls_randomsplit/train/neutral/346.jpg',\n",
       " '/notebooks/data7cls_randomsplit/train/neutral/31287.jpg',\n",
       " '/notebooks/data7cls_randomsplit/train/neutral/10971.jpg',\n",
       " '/notebooks/data7cls_randomsplit/train/neutral/27163.jpg',\n",
       " '/notebooks/data7cls_randomsplit/train/neutral/26465.jpg',\n",
       " '/notebooks/data7cls_randomsplit/train/neutral/4409.jpg',\n",
       " '/notebooks/data7cls_randomsplit/train/neutral/10948.jpg',\n",
       " '/notebooks/data7cls_randomsplit/train/neutral/21273.jpg',\n",
       " '/notebooks/data7cls_randomsplit/train/neutral/6056.jpg',\n",
       " '/notebooks/data7cls_randomsplit/train/neutral/952.jpg',\n",
       " '/notebooks/data7cls_randomsplit/train/neutral/2882.jpg',\n",
       " '/notebooks/data7cls_randomsplit/train/neutral/1002.jpg',\n",
       " '/notebooks/data7cls_randomsplit/train/neutral/13994.jpg',\n",
       " '/notebooks/data7cls_randomsplit/train/neutral/35623.jpg',\n",
       " '/notebooks/data7cls_randomsplit/train/neutral/10271.jpg',\n",
       " '/notebooks/data7cls_randomsplit/train/neutral/13255.jpg',\n",
       " '/notebooks/data7cls_randomsplit/train/neutral/23887.jpg',\n",
       " '/notebooks/data7cls_randomsplit/train/neutral/12460.jpg',\n",
       " '/notebooks/data7cls_randomsplit/train/neutral/32009.jpg',\n",
       " '/notebooks/data7cls_randomsplit/train/neutral/3996.jpg',\n",
       " '/notebooks/data7cls_randomsplit/train/neutral/4790.jpg',\n",
       " '/notebooks/data7cls_randomsplit/train/neutral/8603.jpg',\n",
       " '/notebooks/data7cls_randomsplit/train/neutral/19852.jpg',\n",
       " '/notebooks/data7cls_randomsplit/train/neutral/3066.jpg',\n",
       " '/notebooks/data7cls_randomsplit/train/neutral/35306.jpg',\n",
       " '/notebooks/data7cls_randomsplit/train/neutral/32608.jpg',\n",
       " '/notebooks/data7cls_randomsplit/train/neutral/3677.jpg',\n",
       " '/notebooks/data7cls_randomsplit/train/neutral/10899.jpg',\n",
       " '/notebooks/data7cls_randomsplit/train/neutral/6093.jpg',\n",
       " '/notebooks/data7cls_randomsplit/train/neutral/31924.jpg',\n",
       " '/notebooks/data7cls_randomsplit/train/neutral/33424.jpg',\n",
       " '/notebooks/data7cls_randomsplit/train/neutral/23637.jpg',\n",
       " '/notebooks/data7cls_randomsplit/train/neutral/17435.jpg',\n",
       " '/notebooks/data7cls_randomsplit/train/neutral/24770.jpg',\n",
       " '/notebooks/data7cls_randomsplit/train/neutral/34017.jpg',\n",
       " '/notebooks/data7cls_randomsplit/train/neutral/12910.jpg',\n",
       " '/notebooks/data7cls_randomsplit/train/neutral/30844.jpg',\n",
       " '/notebooks/data7cls_randomsplit/train/neutral/24844.jpg',\n",
       " '/notebooks/data7cls_randomsplit/train/neutral/4211.jpg',\n",
       " '/notebooks/data7cls_randomsplit/train/neutral/6648.jpg',\n",
       " '/notebooks/data7cls_randomsplit/train/neutral/5499.jpg',\n",
       " '/notebooks/data7cls_randomsplit/train/neutral/15826.jpg',\n",
       " '/notebooks/data7cls_randomsplit/train/neutral/31981.jpg',\n",
       " '/notebooks/data7cls_randomsplit/train/neutral/5437.jpg',\n",
       " '/notebooks/data7cls_randomsplit/train/neutral/22507.jpg',\n",
       " '/notebooks/data7cls_randomsplit/train/neutral/2258.jpg',\n",
       " '/notebooks/data7cls_randomsplit/train/neutral/32358.jpg',\n",
       " '/notebooks/data7cls_randomsplit/train/neutral/35652.jpg',\n",
       " '/notebooks/data7cls_randomsplit/train/neutral/11936.jpg',\n",
       " '/notebooks/data7cls_randomsplit/train/neutral/17855.jpg',\n",
       " '/notebooks/data7cls_randomsplit/train/neutral/11314.jpg',\n",
       " '/notebooks/data7cls_randomsplit/train/neutral/30945.jpg',\n",
       " '/notebooks/data7cls_randomsplit/train/neutral/11563.jpg',\n",
       " '/notebooks/data7cls_randomsplit/train/neutral/33482.jpg',\n",
       " '/notebooks/data7cls_randomsplit/train/neutral/31435.jpg',\n",
       " '/notebooks/data7cls_randomsplit/train/neutral/22535.jpg',\n",
       " '/notebooks/data7cls_randomsplit/train/neutral/3830.jpg',\n",
       " '/notebooks/data7cls_randomsplit/train/neutral/27835.jpg',\n",
       " '/notebooks/data7cls_randomsplit/train/neutral/14079.jpg',\n",
       " '/notebooks/data7cls_randomsplit/train/neutral/35401.jpg',\n",
       " '/notebooks/data7cls_randomsplit/train/neutral/945.jpg',\n",
       " '/notebooks/data7cls_randomsplit/train/neutral/33694.jpg',\n",
       " '/notebooks/data7cls_randomsplit/train/neutral/24581.jpg',\n",
       " '/notebooks/data7cls_randomsplit/train/neutral/28364.jpg',\n",
       " '/notebooks/data7cls_randomsplit/train/neutral/27990.jpg',\n",
       " '/notebooks/data7cls_randomsplit/train/neutral/16225.jpg',\n",
       " '/notebooks/data7cls_randomsplit/train/neutral/20179.jpg',\n",
       " '/notebooks/data7cls_randomsplit/train/neutral/2493.jpg',\n",
       " '/notebooks/data7cls_randomsplit/train/neutral/35415.jpg',\n",
       " '/notebooks/data7cls_randomsplit/train/neutral/10709.jpg',\n",
       " '/notebooks/data7cls_randomsplit/train/neutral/6661.jpg',\n",
       " '/notebooks/data7cls_randomsplit/train/neutral/11655.jpg',\n",
       " '/notebooks/data7cls_randomsplit/train/neutral/18616.jpg',\n",
       " '/notebooks/data7cls_randomsplit/train/neutral/19687.jpg',\n",
       " '/notebooks/data7cls_randomsplit/train/neutral/20405.jpg',\n",
       " '/notebooks/data7cls_randomsplit/train/neutral/19994.jpg',\n",
       " '/notebooks/data7cls_randomsplit/train/neutral/21484.jpg',\n",
       " '/notebooks/data7cls_randomsplit/train/neutral/12256.jpg',\n",
       " '/notebooks/data7cls_randomsplit/train/neutral/32490.jpg',\n",
       " '/notebooks/data7cls_randomsplit/train/neutral/28630.jpg',\n",
       " '/notebooks/data7cls_randomsplit/train/neutral/785.jpg',\n",
       " '/notebooks/data7cls_randomsplit/train/neutral/26924.jpg',\n",
       " '/notebooks/data7cls_randomsplit/train/neutral/25195.jpg',\n",
       " '/notebooks/data7cls_randomsplit/train/neutral/29125.jpg',\n",
       " '/notebooks/data7cls_randomsplit/train/neutral/15377.jpg',\n",
       " '/notebooks/data7cls_randomsplit/train/neutral/570.jpg',\n",
       " '/notebooks/data7cls_randomsplit/train/neutral/11663.jpg',\n",
       " '/notebooks/data7cls_randomsplit/train/neutral/23872.jpg',\n",
       " '/notebooks/data7cls_randomsplit/train/neutral/30148.jpg',\n",
       " '/notebooks/data7cls_randomsplit/train/neutral/6587.jpg',\n",
       " '/notebooks/data7cls_randomsplit/train/neutral/29245.jpg',\n",
       " '/notebooks/data7cls_randomsplit/train/neutral/3371.jpg',\n",
       " '/notebooks/data7cls_randomsplit/train/neutral/32704.jpg',\n",
       " '/notebooks/data7cls_randomsplit/train/neutral/2887.jpg',\n",
       " '/notebooks/data7cls_randomsplit/train/neutral/15105.jpg',\n",
       " '/notebooks/data7cls_randomsplit/train/neutral/10496.jpg',\n",
       " '/notebooks/data7cls_randomsplit/train/neutral/31831.jpg',\n",
       " '/notebooks/data7cls_randomsplit/train/neutral/29890.jpg',\n",
       " '/notebooks/data7cls_randomsplit/train/neutral/1659.jpg',\n",
       " '/notebooks/data7cls_randomsplit/train/neutral/14468.jpg',\n",
       " '/notebooks/data7cls_randomsplit/train/neutral/7414.jpg',\n",
       " '/notebooks/data7cls_randomsplit/train/neutral/33503.jpg',\n",
       " '/notebooks/data7cls_randomsplit/train/neutral/11505.jpg',\n",
       " '/notebooks/data7cls_randomsplit/train/neutral/29441.jpg',\n",
       " '/notebooks/data7cls_randomsplit/train/neutral/14941.jpg',\n",
       " '/notebooks/data7cls_randomsplit/train/neutral/9029.jpg',\n",
       " '/notebooks/data7cls_randomsplit/train/neutral/4922.jpg',\n",
       " '/notebooks/data7cls_randomsplit/train/neutral/31841.jpg',\n",
       " '/notebooks/data7cls_randomsplit/train/neutral/26882.jpg',\n",
       " '/notebooks/data7cls_randomsplit/train/neutral/3098.jpg',\n",
       " '/notebooks/data7cls_randomsplit/train/neutral/15985.jpg',\n",
       " '/notebooks/data7cls_randomsplit/train/neutral/34223.jpg',\n",
       " '/notebooks/data7cls_randomsplit/train/neutral/32106.jpg',\n",
       " '/notebooks/data7cls_randomsplit/train/neutral/33712.jpg',\n",
       " '/notebooks/data7cls_randomsplit/train/neutral/23706.jpg',\n",
       " '/notebooks/data7cls_randomsplit/train/neutral/25079.jpg',\n",
       " '/notebooks/data7cls_randomsplit/train/neutral/34915.jpg',\n",
       " '/notebooks/data7cls_randomsplit/train/neutral/9609.jpg',\n",
       " '/notebooks/data7cls_randomsplit/train/neutral/13838.jpg',\n",
       " '/notebooks/data7cls_randomsplit/train/neutral/28027.jpg',\n",
       " '/notebooks/data7cls_randomsplit/train/neutral/901.jpg',\n",
       " '/notebooks/data7cls_randomsplit/train/neutral/26043.jpg',\n",
       " '/notebooks/data7cls_randomsplit/train/neutral/9793.jpg',\n",
       " '/notebooks/data7cls_randomsplit/train/neutral/18586.jpg',\n",
       " '/notebooks/data7cls_randomsplit/train/neutral/19964.jpg',\n",
       " '/notebooks/data7cls_randomsplit/train/neutral/26536.jpg',\n",
       " '/notebooks/data7cls_randomsplit/train/neutral/14415.jpg',\n",
       " '/notebooks/data7cls_randomsplit/train/neutral/14558.jpg',\n",
       " '/notebooks/data7cls_randomsplit/train/neutral/19326.jpg',\n",
       " '/notebooks/data7cls_randomsplit/train/neutral/28045.jpg',\n",
       " '/notebooks/data7cls_randomsplit/train/neutral/4138.jpg',\n",
       " '/notebooks/data7cls_randomsplit/train/neutral/22480.jpg',\n",
       " '/notebooks/data7cls_randomsplit/train/neutral/23045.jpg',\n",
       " '/notebooks/data7cls_randomsplit/train/neutral/27169.jpg',\n",
       " '/notebooks/data7cls_randomsplit/train/neutral/8697.jpg',\n",
       " '/notebooks/data7cls_randomsplit/train/neutral/20299.jpg',\n",
       " '/notebooks/data7cls_randomsplit/train/neutral/2104.jpg',\n",
       " '/notebooks/data7cls_randomsplit/train/neutral/136.jpg',\n",
       " '/notebooks/data7cls_randomsplit/train/neutral/2673.jpg',\n",
       " '/notebooks/data7cls_randomsplit/train/neutral/33058.jpg',\n",
       " '/notebooks/data7cls_randomsplit/train/neutral/8058.jpg',\n",
       " '/notebooks/data7cls_randomsplit/train/neutral/15751.jpg',\n",
       " '/notebooks/data7cls_randomsplit/train/neutral/14885.jpg',\n",
       " '/notebooks/data7cls_randomsplit/train/neutral/12998.jpg',\n",
       " '/notebooks/data7cls_randomsplit/train/neutral/4521.jpg',\n",
       " '/notebooks/data7cls_randomsplit/train/neutral/15598.jpg',\n",
       " '/notebooks/data7cls_randomsplit/train/neutral/14573.jpg',\n",
       " '/notebooks/data7cls_randomsplit/train/neutral/32615.jpg',\n",
       " '/notebooks/data7cls_randomsplit/train/neutral/27793.jpg',\n",
       " '/notebooks/data7cls_randomsplit/train/neutral/8073.jpg',\n",
       " '/notebooks/data7cls_randomsplit/train/neutral/10998.jpg',\n",
       " '/notebooks/data7cls_randomsplit/train/neutral/29151.jpg',\n",
       " '/notebooks/data7cls_randomsplit/train/neutral/7294.jpg',\n",
       " '/notebooks/data7cls_randomsplit/train/neutral/22873.jpg',\n",
       " '/notebooks/data7cls_randomsplit/train/neutral/19834.jpg',\n",
       " '/notebooks/data7cls_randomsplit/train/neutral/19936.jpg',\n",
       " '/notebooks/data7cls_randomsplit/train/neutral/33871.jpg',\n",
       " '/notebooks/data7cls_randomsplit/train/neutral/15341.jpg',\n",
       " '/notebooks/data7cls_randomsplit/train/neutral/4069.jpg',\n",
       " '/notebooks/data7cls_randomsplit/train/neutral/9580.jpg',\n",
       " '/notebooks/data7cls_randomsplit/train/neutral/3997.jpg',\n",
       " '/notebooks/data7cls_randomsplit/train/neutral/2739.jpg',\n",
       " '/notebooks/data7cls_randomsplit/train/neutral/21870.jpg',\n",
       " '/notebooks/data7cls_randomsplit/train/neutral/8386.jpg',\n",
       " '/notebooks/data7cls_randomsplit/train/neutral/12897.jpg',\n",
       " '/notebooks/data7cls_randomsplit/train/neutral/1779.jpg',\n",
       " '/notebooks/data7cls_randomsplit/train/neutral/17798.jpg',\n",
       " '/notebooks/data7cls_randomsplit/train/neutral/20842.jpg',\n",
       " '/notebooks/data7cls_randomsplit/train/neutral/14269.jpg',\n",
       " '/notebooks/data7cls_randomsplit/train/neutral/12866.jpg',\n",
       " '/notebooks/data7cls_randomsplit/train/neutral/31701.jpg',\n",
       " '/notebooks/data7cls_randomsplit/train/neutral/28304.jpg',\n",
       " '/notebooks/data7cls_randomsplit/train/neutral/13392.jpg',\n",
       " '/notebooks/data7cls_randomsplit/train/neutral/9807.jpg',\n",
       " '/notebooks/data7cls_randomsplit/train/neutral/30072.jpg',\n",
       " '/notebooks/data7cls_randomsplit/train/neutral/12242.jpg',\n",
       " '/notebooks/data7cls_randomsplit/train/neutral/33716.jpg',\n",
       " '/notebooks/data7cls_randomsplit/train/neutral/6838.jpg',\n",
       " '/notebooks/data7cls_randomsplit/train/neutral/15887.jpg',\n",
       " '/notebooks/data7cls_randomsplit/train/neutral/25799.jpg',\n",
       " '/notebooks/data7cls_randomsplit/train/neutral/17101.jpg',\n",
       " '/notebooks/data7cls_randomsplit/train/neutral/16548.jpg',\n",
       " '/notebooks/data7cls_randomsplit/train/neutral/22579.jpg',\n",
       " '/notebooks/data7cls_randomsplit/train/neutral/9396.jpg',\n",
       " '/notebooks/data7cls_randomsplit/train/neutral/25912.jpg',\n",
       " '/notebooks/data7cls_randomsplit/train/neutral/34199.jpg',\n",
       " '/notebooks/data7cls_randomsplit/train/neutral/2295.jpg',\n",
       " '/notebooks/data7cls_randomsplit/train/neutral/35487.jpg',\n",
       " '/notebooks/data7cls_randomsplit/train/neutral/28786.jpg',\n",
       " '/notebooks/data7cls_randomsplit/train/neutral/8213.jpg',\n",
       " '/notebooks/data7cls_randomsplit/train/neutral/24307.jpg',\n",
       " '/notebooks/data7cls_randomsplit/train/neutral/2440.jpg',\n",
       " '/notebooks/data7cls_randomsplit/train/neutral/35642.jpg',\n",
       " '/notebooks/data7cls_randomsplit/train/neutral/7769.jpg',\n",
       " '/notebooks/data7cls_randomsplit/train/neutral/30707.jpg',\n",
       " '/notebooks/data7cls_randomsplit/train/neutral/22956.jpg',\n",
       " '/notebooks/data7cls_randomsplit/train/neutral/11985.jpg',\n",
       " '/notebooks/data7cls_randomsplit/train/neutral/9451.jpg',\n",
       " '/notebooks/data7cls_randomsplit/train/neutral/21724.jpg',\n",
       " '/notebooks/data7cls_randomsplit/train/neutral/25307.jpg',\n",
       " '/notebooks/data7cls_randomsplit/train/neutral/7909.jpg',\n",
       " '/notebooks/data7cls_randomsplit/train/neutral/18163.jpg',\n",
       " '/notebooks/data7cls_randomsplit/train/neutral/14068.jpg',\n",
       " '/notebooks/data7cls_randomsplit/train/neutral/7443.jpg',\n",
       " '/notebooks/data7cls_randomsplit/train/neutral/4160.jpg',\n",
       " '/notebooks/data7cls_randomsplit/train/neutral/25962.jpg',\n",
       " '/notebooks/data7cls_randomsplit/train/neutral/30877.jpg',\n",
       " '/notebooks/data7cls_randomsplit/train/neutral/19984.jpg',\n",
       " '/notebooks/data7cls_randomsplit/train/neutral/9768.jpg',\n",
       " '/notebooks/data7cls_randomsplit/train/neutral/35876.jpg',\n",
       " '/notebooks/data7cls_randomsplit/train/neutral/2127.jpg',\n",
       " '/notebooks/data7cls_randomsplit/train/neutral/6203.jpg',\n",
       " '/notebooks/data7cls_randomsplit/train/neutral/21197.jpg',\n",
       " '/notebooks/data7cls_randomsplit/train/neutral/28195.jpg',\n",
       " '/notebooks/data7cls_randomsplit/train/neutral/12963.jpg',\n",
       " '/notebooks/data7cls_randomsplit/train/neutral/2429.jpg',\n",
       " '/notebooks/data7cls_randomsplit/train/neutral/29891.jpg',\n",
       " '/notebooks/data7cls_randomsplit/train/neutral/24091.jpg',\n",
       " '/notebooks/data7cls_randomsplit/train/neutral/9831.jpg',\n",
       " '/notebooks/data7cls_randomsplit/train/neutral/14099.jpg',\n",
       " '/notebooks/data7cls_randomsplit/train/neutral/17162.jpg',\n",
       " '/notebooks/data7cls_randomsplit/train/neutral/15452.jpg',\n",
       " '/notebooks/data7cls_randomsplit/train/neutral/22915.jpg',\n",
       " '/notebooks/data7cls_randomsplit/train/neutral/12099.jpg',\n",
       " '/notebooks/data7cls_randomsplit/train/neutral/21088.jpg',\n",
       " '/notebooks/data7cls_randomsplit/train/neutral/20057.jpg',\n",
       " '/notebooks/data7cls_randomsplit/train/neutral/26680.jpg',\n",
       " '/notebooks/data7cls_randomsplit/train/neutral/27549.jpg',\n",
       " '/notebooks/data7cls_randomsplit/train/neutral/5457.jpg',\n",
       " '/notebooks/data7cls_randomsplit/train/neutral/22316.jpg',\n",
       " '/notebooks/data7cls_randomsplit/train/neutral/35373.jpg',\n",
       " '/notebooks/data7cls_randomsplit/train/neutral/35378.jpg',\n",
       " '/notebooks/data7cls_randomsplit/train/neutral/10484.jpg',\n",
       " '/notebooks/data7cls_randomsplit/train/neutral/11123.jpg',\n",
       " '/notebooks/data7cls_randomsplit/train/neutral/5002.jpg',\n",
       " '/notebooks/data7cls_randomsplit/train/neutral/13046.jpg',\n",
       " '/notebooks/data7cls_randomsplit/train/neutral/5255.jpg',\n",
       " '/notebooks/data7cls_randomsplit/train/neutral/6143.jpg',\n",
       " '/notebooks/data7cls_randomsplit/train/neutral/19307.jpg',\n",
       " '/notebooks/data7cls_randomsplit/train/neutral/34797.jpg',\n",
       " '/notebooks/data7cls_randomsplit/train/neutral/25745.jpg',\n",
       " '/notebooks/data7cls_randomsplit/train/neutral/20174.jpg',\n",
       " '/notebooks/data7cls_randomsplit/train/neutral/10500.jpg',\n",
       " '/notebooks/data7cls_randomsplit/train/neutral/5219.jpg',\n",
       " '/notebooks/data7cls_randomsplit/train/neutral/30528.jpg',\n",
       " '/notebooks/data7cls_randomsplit/train/neutral/16493.jpg',\n",
       " '/notebooks/data7cls_randomsplit/train/neutral/34158.jpg',\n",
       " '/notebooks/data7cls_randomsplit/train/neutral/1434.jpg',\n",
       " '/notebooks/data7cls_randomsplit/train/neutral/28948.jpg',\n",
       " '/notebooks/data7cls_randomsplit/train/neutral/22038.jpg',\n",
       " '/notebooks/data7cls_randomsplit/train/neutral/13323.jpg',\n",
       " '/notebooks/data7cls_randomsplit/train/neutral/1629.jpg',\n",
       " '/notebooks/data7cls_randomsplit/train/neutral/8784.jpg',\n",
       " '/notebooks/data7cls_randomsplit/train/neutral/8527.jpg',\n",
       " '/notebooks/data7cls_randomsplit/train/neutral/7397.jpg',\n",
       " '/notebooks/data7cls_randomsplit/train/neutral/12465.jpg',\n",
       " '/notebooks/data7cls_randomsplit/train/neutral/29275.jpg',\n",
       " '/notebooks/data7cls_randomsplit/train/neutral/16467.jpg',\n",
       " '/notebooks/data7cls_randomsplit/train/neutral/33966.jpg',\n",
       " '/notebooks/data7cls_randomsplit/train/neutral/33132.jpg',\n",
       " '/notebooks/data7cls_randomsplit/train/neutral/3498.jpg',\n",
       " '/notebooks/data7cls_randomsplit/train/neutral/7814.jpg',\n",
       " '/notebooks/data7cls_randomsplit/train/neutral/34977.jpg',\n",
       " '/notebooks/data7cls_randomsplit/train/neutral/34099.jpg',\n",
       " '/notebooks/data7cls_randomsplit/train/neutral/31942.jpg',\n",
       " '/notebooks/data7cls_randomsplit/train/neutral/11288.jpg',\n",
       " '/notebooks/data7cls_randomsplit/train/neutral/33487.jpg',\n",
       " '/notebooks/data7cls_randomsplit/train/neutral/25625.jpg',\n",
       " '/notebooks/data7cls_randomsplit/train/neutral/30736.jpg',\n",
       " '/notebooks/data7cls_randomsplit/train/neutral/20102.jpg',\n",
       " '/notebooks/data7cls_randomsplit/train/neutral/15652.jpg',\n",
       " '/notebooks/data7cls_randomsplit/train/neutral/4671.jpg',\n",
       " '/notebooks/data7cls_randomsplit/train/neutral/17312.jpg',\n",
       " '/notebooks/data7cls_randomsplit/train/neutral/22620.jpg',\n",
       " '/notebooks/data7cls_randomsplit/train/neutral/102.jpg',\n",
       " '/notebooks/data7cls_randomsplit/train/neutral/27158.jpg',\n",
       " '/notebooks/data7cls_randomsplit/train/neutral/30450.jpg',\n",
       " '/notebooks/data7cls_randomsplit/train/neutral/7402.jpg',\n",
       " '/notebooks/data7cls_randomsplit/train/neutral/34132.jpg',\n",
       " '/notebooks/data7cls_randomsplit/train/neutral/10474.jpg',\n",
       " '/notebooks/data7cls_randomsplit/train/neutral/5540.jpg',\n",
       " '/notebooks/data7cls_randomsplit/train/neutral/35469.jpg',\n",
       " '/notebooks/data7cls_randomsplit/train/neutral/7922.jpg',\n",
       " '/notebooks/data7cls_randomsplit/train/neutral/28637.jpg',\n",
       " '/notebooks/data7cls_randomsplit/train/neutral/1658.jpg',\n",
       " '/notebooks/data7cls_randomsplit/train/neutral/31425.jpg',\n",
       " '/notebooks/data7cls_randomsplit/train/neutral/17288.jpg',\n",
       " '/notebooks/data7cls_randomsplit/train/neutral/272.jpg',\n",
       " '/notebooks/data7cls_randomsplit/train/neutral/29006.jpg',\n",
       " '/notebooks/data7cls_randomsplit/train/neutral/10905.jpg',\n",
       " '/notebooks/data7cls_randomsplit/train/neutral/21279.jpg',\n",
       " '/notebooks/data7cls_randomsplit/train/neutral/4799.jpg',\n",
       " '/notebooks/data7cls_randomsplit/train/neutral/29750.jpg',\n",
       " '/notebooks/data7cls_randomsplit/train/neutral/28293.jpg',\n",
       " '/notebooks/data7cls_randomsplit/train/neutral/14531.jpg',\n",
       " '/notebooks/data7cls_randomsplit/train/neutral/2955.jpg',\n",
       " '/notebooks/data7cls_randomsplit/train/neutral/8491.jpg',\n",
       " '/notebooks/data7cls_randomsplit/train/neutral/7686.jpg',\n",
       " '/notebooks/data7cls_randomsplit/train/neutral/10775.jpg',\n",
       " '/notebooks/data7cls_randomsplit/train/neutral/21506.jpg',\n",
       " '/notebooks/data7cls_randomsplit/train/neutral/9295.jpg',\n",
       " '/notebooks/data7cls_randomsplit/train/neutral/31876.jpg',\n",
       " '/notebooks/data7cls_randomsplit/train/neutral/15285.jpg',\n",
       " '/notebooks/data7cls_randomsplit/train/neutral/32400.jpg',\n",
       " '/notebooks/data7cls_randomsplit/train/neutral/27567.jpg',\n",
       " '/notebooks/data7cls_randomsplit/train/neutral/17272.jpg',\n",
       " '/notebooks/data7cls_randomsplit/train/neutral/7107.jpg',\n",
       " '/notebooks/data7cls_randomsplit/train/neutral/28816.jpg',\n",
       " '/notebooks/data7cls_randomsplit/train/neutral/679.jpg',\n",
       " '/notebooks/data7cls_randomsplit/train/neutral/21894.jpg',\n",
       " '/notebooks/data7cls_randomsplit/train/neutral/10304.jpg',\n",
       " '/notebooks/data7cls_randomsplit/train/neutral/31050.jpg',\n",
       " '/notebooks/data7cls_randomsplit/train/neutral/4178.jpg',\n",
       " '/notebooks/data7cls_randomsplit/train/neutral/15209.jpg',\n",
       " '/notebooks/data7cls_randomsplit/train/neutral/18923.jpg',\n",
       " '/notebooks/data7cls_randomsplit/train/neutral/16454.jpg',\n",
       " '/notebooks/data7cls_randomsplit/train/neutral/29230.jpg',\n",
       " '/notebooks/data7cls_randomsplit/train/neutral/9970.jpg',\n",
       " '/notebooks/data7cls_randomsplit/train/neutral/9495.jpg',\n",
       " '/notebooks/data7cls_randomsplit/train/neutral/8666.jpg',\n",
       " '/notebooks/data7cls_randomsplit/train/neutral/30987.jpg',\n",
       " '/notebooks/data7cls_randomsplit/train/neutral/32750.jpg',\n",
       " '/notebooks/data7cls_randomsplit/train/neutral/12446.jpg',\n",
       " '/notebooks/data7cls_randomsplit/train/neutral/29437.jpg',\n",
       " '/notebooks/data7cls_randomsplit/train/neutral/24141.jpg',\n",
       " '/notebooks/data7cls_randomsplit/train/neutral/5501.jpg',\n",
       " '/notebooks/data7cls_randomsplit/train/neutral/20278.jpg',\n",
       " '/notebooks/data7cls_randomsplit/train/neutral/9262.jpg',\n",
       " '/notebooks/data7cls_randomsplit/train/neutral/21418.jpg',\n",
       " '/notebooks/data7cls_randomsplit/train/neutral/5034.jpg',\n",
       " '/notebooks/data7cls_randomsplit/train/neutral/15871.jpg',\n",
       " '/notebooks/data7cls_randomsplit/train/neutral/19576.jpg',\n",
       " '/notebooks/data7cls_randomsplit/train/neutral/30515.jpg',\n",
       " '/notebooks/data7cls_randomsplit/train/neutral/29250.jpg',\n",
       " '/notebooks/data7cls_randomsplit/train/neutral/10027.jpg',\n",
       " '/notebooks/data7cls_randomsplit/train/neutral/4361.jpg',\n",
       " '/notebooks/data7cls_randomsplit/train/neutral/12640.jpg',\n",
       " '/notebooks/data7cls_randomsplit/train/neutral/1256.jpg',\n",
       " '/notebooks/data7cls_randomsplit/train/neutral/5161.jpg',\n",
       " '/notebooks/data7cls_randomsplit/train/neutral/14866.jpg',\n",
       " '/notebooks/data7cls_randomsplit/train/neutral/28156.jpg',\n",
       " '/notebooks/data7cls_randomsplit/train/neutral/787.jpg',\n",
       " '/notebooks/data7cls_randomsplit/train/neutral/1976.jpg',\n",
       " '/notebooks/data7cls_randomsplit/train/neutral/9584.jpg',\n",
       " '/notebooks/data7cls_randomsplit/train/neutral/25545.jpg',\n",
       " '/notebooks/data7cls_randomsplit/train/neutral/33096.jpg',\n",
       " '/notebooks/data7cls_randomsplit/train/neutral/10197.jpg',\n",
       " '/notebooks/data7cls_randomsplit/train/neutral/11638.jpg',\n",
       " '/notebooks/data7cls_randomsplit/train/neutral/35882.jpg',\n",
       " '/notebooks/data7cls_randomsplit/train/neutral/35747.jpg',\n",
       " '/notebooks/data7cls_randomsplit/train/neutral/19298.jpg',\n",
       " '/notebooks/data7cls_randomsplit/train/neutral/30454.jpg',\n",
       " '/notebooks/data7cls_randomsplit/train/neutral/1503.jpg',\n",
       " '/notebooks/data7cls_randomsplit/train/neutral/6688.jpg',\n",
       " '/notebooks/data7cls_randomsplit/train/neutral/23061.jpg',\n",
       " '/notebooks/data7cls_randomsplit/train/neutral/12482.jpg',\n",
       " '/notebooks/data7cls_randomsplit/train/neutral/1663.jpg',\n",
       " '/notebooks/data7cls_randomsplit/train/neutral/32970.jpg',\n",
       " '/notebooks/data7cls_randomsplit/train/neutral/28849.jpg',\n",
       " '/notebooks/data7cls_randomsplit/train/neutral/1709.jpg',\n",
       " '/notebooks/data7cls_randomsplit/train/neutral/25052.jpg',\n",
       " '/notebooks/data7cls_randomsplit/train/neutral/27686.jpg',\n",
       " '/notebooks/data7cls_randomsplit/train/neutral/29494.jpg',\n",
       " '/notebooks/data7cls_randomsplit/train/neutral/8610.jpg',\n",
       " '/notebooks/data7cls_randomsplit/train/neutral/26388.jpg',\n",
       " '/notebooks/data7cls_randomsplit/train/neutral/16848.jpg',\n",
       " '/notebooks/data7cls_randomsplit/train/neutral/5411.jpg',\n",
       " '/notebooks/data7cls_randomsplit/train/neutral/26012.jpg',\n",
       " '/notebooks/data7cls_randomsplit/train/neutral/10204.jpg',\n",
       " '/notebooks/data7cls_randomsplit/train/neutral/20920.jpg',\n",
       " '/notebooks/data7cls_randomsplit/train/neutral/11788.jpg',\n",
       " '/notebooks/data7cls_randomsplit/train/neutral/35493.jpg',\n",
       " '/notebooks/data7cls_randomsplit/train/neutral/13034.jpg',\n",
       " '/notebooks/data7cls_randomsplit/train/neutral/12913.jpg',\n",
       " '/notebooks/data7cls_randomsplit/train/neutral/16469.jpg',\n",
       " '/notebooks/data7cls_randomsplit/train/neutral/11970.jpg',\n",
       " '/notebooks/data7cls_randomsplit/train/neutral/6528.jpg',\n",
       " '/notebooks/data7cls_randomsplit/train/neutral/16412.jpg',\n",
       " '/notebooks/data7cls_randomsplit/train/neutral/19406.jpg',\n",
       " '/notebooks/data7cls_randomsplit/train/neutral/29913.jpg',\n",
       " '/notebooks/data7cls_randomsplit/train/neutral/15140.jpg',\n",
       " '/notebooks/data7cls_randomsplit/train/neutral/24989.jpg',\n",
       " '/notebooks/data7cls_randomsplit/train/neutral/11281.jpg',\n",
       " '/notebooks/data7cls_randomsplit/train/neutral/11029.jpg',\n",
       " '/notebooks/data7cls_randomsplit/train/neutral/29054.jpg',\n",
       " '/notebooks/data7cls_randomsplit/train/neutral/30910.jpg',\n",
       " '/notebooks/data7cls_randomsplit/train/neutral/8308.jpg',\n",
       " '/notebooks/data7cls_randomsplit/train/neutral/32326.jpg',\n",
       " '/notebooks/data7cls_randomsplit/train/neutral/6769.jpg',\n",
       " '/notebooks/data7cls_randomsplit/train/neutral/6402.jpg',\n",
       " '/notebooks/data7cls_randomsplit/train/neutral/11856.jpg',\n",
       " '/notebooks/data7cls_randomsplit/train/neutral/5207.jpg',\n",
       " '/notebooks/data7cls_randomsplit/train/neutral/1607.jpg',\n",
       " '/notebooks/data7cls_randomsplit/train/neutral/261.jpg',\n",
       " '/notebooks/data7cls_randomsplit/train/neutral/18667.jpg',\n",
       " '/notebooks/data7cls_randomsplit/train/neutral/21568.jpg',\n",
       " '/notebooks/data7cls_randomsplit/train/neutral/10499.jpg',\n",
       " '/notebooks/data7cls_randomsplit/train/neutral/11680.jpg',\n",
       " '/notebooks/data7cls_randomsplit/train/neutral/18900.jpg',\n",
       " '/notebooks/data7cls_randomsplit/train/neutral/32597.jpg',\n",
       " '/notebooks/data7cls_randomsplit/train/neutral/905.jpg',\n",
       " '/notebooks/data7cls_randomsplit/train/neutral/18379.jpg',\n",
       " '/notebooks/data7cls_randomsplit/train/neutral/8193.jpg',\n",
       " '/notebooks/data7cls_randomsplit/train/neutral/30054.jpg',\n",
       " '/notebooks/data7cls_randomsplit/train/neutral/35232.jpg',\n",
       " '/notebooks/data7cls_randomsplit/train/neutral/14377.jpg',\n",
       " '/notebooks/data7cls_randomsplit/train/neutral/34331.jpg',\n",
       " '/notebooks/data7cls_randomsplit/train/neutral/34230.jpg',\n",
       " '/notebooks/data7cls_randomsplit/train/neutral/442.jpg',\n",
       " '/notebooks/data7cls_randomsplit/train/neutral/10706.jpg',\n",
       " '/notebooks/data7cls_randomsplit/train/neutral/498.jpg',\n",
       " '/notebooks/data7cls_randomsplit/train/neutral/18164.jpg',\n",
       " '/notebooks/data7cls_randomsplit/train/neutral/24086.jpg',\n",
       " '/notebooks/data7cls_randomsplit/train/neutral/23919.jpg',\n",
       " '/notebooks/data7cls_randomsplit/train/neutral/18893.jpg',\n",
       " '/notebooks/data7cls_randomsplit/train/neutral/602.jpg',\n",
       " '/notebooks/data7cls_randomsplit/train/neutral/16824.jpg',\n",
       " '/notebooks/data7cls_randomsplit/train/neutral/26808.jpg',\n",
       " '/notebooks/data7cls_randomsplit/train/neutral/23643.jpg',\n",
       " '/notebooks/data7cls_randomsplit/train/neutral/21333.jpg',\n",
       " '/notebooks/data7cls_randomsplit/train/neutral/12199.jpg',\n",
       " '/notebooks/data7cls_randomsplit/train/neutral/16445.jpg',\n",
       " '/notebooks/data7cls_randomsplit/train/neutral/9757.jpg',\n",
       " '/notebooks/data7cls_randomsplit/train/neutral/18204.jpg',\n",
       " '/notebooks/data7cls_randomsplit/train/neutral/4702.jpg',\n",
       " '/notebooks/data7cls_randomsplit/train/neutral/10801.jpg',\n",
       " '/notebooks/data7cls_randomsplit/train/neutral/12925.jpg',\n",
       " '/notebooks/data7cls_randomsplit/train/neutral/13218.jpg',\n",
       " '/notebooks/data7cls_randomsplit/train/neutral/14000.jpg',\n",
       " '/notebooks/data7cls_randomsplit/train/neutral/3980.jpg',\n",
       " '/notebooks/data7cls_randomsplit/train/neutral/31748.jpg',\n",
       " '/notebooks/data7cls_randomsplit/train/neutral/25130.jpg',\n",
       " '/notebooks/data7cls_randomsplit/train/neutral/4105.jpg',\n",
       " '/notebooks/data7cls_randomsplit/train/neutral/31943.jpg',\n",
       " '/notebooks/data7cls_randomsplit/train/neutral/35518.jpg',\n",
       " '/notebooks/data7cls_randomsplit/train/neutral/31021.jpg',\n",
       " '/notebooks/data7cls_randomsplit/train/neutral/3803.jpg',\n",
       " '/notebooks/data7cls_randomsplit/train/neutral/10834.jpg',\n",
       " '/notebooks/data7cls_randomsplit/train/neutral/2752.jpg',\n",
       " '/notebooks/data7cls_randomsplit/train/neutral/1114.jpg',\n",
       " '/notebooks/data7cls_randomsplit/train/neutral/19697.jpg',\n",
       " '/notebooks/data7cls_randomsplit/train/neutral/23454.jpg',\n",
       " '/notebooks/data7cls_randomsplit/train/neutral/17824.jpg',\n",
       " '/notebooks/data7cls_randomsplit/train/neutral/11771.jpg',\n",
       " '/notebooks/data7cls_randomsplit/train/neutral/7650.jpg',\n",
       " '/notebooks/data7cls_randomsplit/train/neutral/19046.jpg',\n",
       " '/notebooks/data7cls_randomsplit/train/neutral/8635.jpg',\n",
       " '/notebooks/data7cls_randomsplit/train/neutral/7137.jpg',\n",
       " '/notebooks/data7cls_randomsplit/train/neutral/705.jpg',\n",
       " '/notebooks/data7cls_randomsplit/train/neutral/10827.jpg',\n",
       " '/notebooks/data7cls_randomsplit/train/neutral/13119.jpg',\n",
       " '/notebooks/data7cls_randomsplit/train/neutral/34263.jpg',\n",
       " '/notebooks/data7cls_randomsplit/train/neutral/24853.jpg',\n",
       " '/notebooks/data7cls_randomsplit/train/neutral/29145.jpg',\n",
       " '/notebooks/data7cls_randomsplit/train/neutral/7395.jpg',\n",
       " '/notebooks/data7cls_randomsplit/train/neutral/1753.jpg',\n",
       " '/notebooks/data7cls_randomsplit/train/neutral/8739.jpg',\n",
       " '/notebooks/data7cls_randomsplit/train/neutral/26217.jpg',\n",
       " '/notebooks/data7cls_randomsplit/train/neutral/26643.jpg',\n",
       " '/notebooks/data7cls_randomsplit/train/neutral/18868.jpg',\n",
       " '/notebooks/data7cls_randomsplit/train/neutral/28055.jpg',\n",
       " '/notebooks/data7cls_randomsplit/train/neutral/9627.jpg',\n",
       " '/notebooks/data7cls_randomsplit/train/neutral/19112.jpg',\n",
       " '/notebooks/data7cls_randomsplit/train/neutral/15085.jpg',\n",
       " '/notebooks/data7cls_randomsplit/train/neutral/12302.jpg',\n",
       " '/notebooks/data7cls_randomsplit/train/neutral/11308.jpg',\n",
       " '/notebooks/data7cls_randomsplit/train/neutral/23372.jpg',\n",
       " '/notebooks/data7cls_randomsplit/train/neutral/20105.jpg',\n",
       " '/notebooks/data7cls_randomsplit/train/neutral/28451.jpg',\n",
       " '/notebooks/data7cls_randomsplit/train/neutral/15358.jpg',\n",
       " '/notebooks/data7cls_randomsplit/train/neutral/3153.jpg',\n",
       " '/notebooks/data7cls_randomsplit/train/neutral/20086.jpg',\n",
       " '/notebooks/data7cls_randomsplit/train/neutral/14609.jpg',\n",
       " '/notebooks/data7cls_randomsplit/train/neutral/30018.jpg',\n",
       " '/notebooks/data7cls_randomsplit/train/neutral/23754.jpg',\n",
       " '/notebooks/data7cls_randomsplit/train/neutral/35235.jpg',\n",
       " '/notebooks/data7cls_randomsplit/train/neutral/22427.jpg',\n",
       " '/notebooks/data7cls_randomsplit/train/neutral/34578.jpg',\n",
       " '/notebooks/data7cls_randomsplit/train/neutral/268.jpg',\n",
       " '/notebooks/data7cls_randomsplit/train/neutral/21272.jpg',\n",
       " '/notebooks/data7cls_randomsplit/train/neutral/16796.jpg',\n",
       " '/notebooks/data7cls_randomsplit/train/neutral/7072.jpg',\n",
       " '/notebooks/data7cls_randomsplit/train/neutral/25008.jpg',\n",
       " '/notebooks/data7cls_randomsplit/train/neutral/23069.jpg',\n",
       " '/notebooks/data7cls_randomsplit/train/neutral/18684.jpg',\n",
       " '/notebooks/data7cls_randomsplit/train/neutral/24972.jpg',\n",
       " '/notebooks/data7cls_randomsplit/train/neutral/2585.jpg',\n",
       " '/notebooks/data7cls_randomsplit/train/neutral/2935.jpg',\n",
       " '/notebooks/data7cls_randomsplit/train/neutral/30624.jpg',\n",
       " '/notebooks/data7cls_randomsplit/train/neutral/20408.jpg',\n",
       " '/notebooks/data7cls_randomsplit/train/neutral/23595.jpg',\n",
       " '/notebooks/data7cls_randomsplit/train/neutral/3064.jpg',\n",
       " '/notebooks/data7cls_randomsplit/train/neutral/25862.jpg',\n",
       " '/notebooks/data7cls_randomsplit/train/neutral/6805.jpg',\n",
       " '/notebooks/data7cls_randomsplit/train/neutral/33196.jpg',\n",
       " '/notebooks/data7cls_randomsplit/train/neutral/6174.jpg',\n",
       " '/notebooks/data7cls_randomsplit/train/neutral/25479.jpg',\n",
       " '/notebooks/data7cls_randomsplit/train/neutral/20383.jpg',\n",
       " '/notebooks/data7cls_randomsplit/train/neutral/35476.jpg',\n",
       " '/notebooks/data7cls_randomsplit/train/neutral/32101.jpg',\n",
       " '/notebooks/data7cls_randomsplit/train/neutral/29490.jpg',\n",
       " '/notebooks/data7cls_randomsplit/train/neutral/13824.jpg',\n",
       " '/notebooks/data7cls_randomsplit/train/neutral/1414.jpg',\n",
       " '/notebooks/data7cls_randomsplit/train/neutral/10390.jpg',\n",
       " '/notebooks/data7cls_randomsplit/train/neutral/20486.jpg',\n",
       " '/notebooks/data7cls_randomsplit/train/neutral/10738.jpg',\n",
       " '/notebooks/data7cls_randomsplit/train/neutral/21331.jpg',\n",
       " '/notebooks/data7cls_randomsplit/train/neutral/31906.jpg',\n",
       " '/notebooks/data7cls_randomsplit/train/neutral/25235.jpg',\n",
       " '/notebooks/data7cls_randomsplit/train/neutral/19401.jpg',\n",
       " '/notebooks/data7cls_randomsplit/train/neutral/14276.jpg',\n",
       " '/notebooks/data7cls_randomsplit/train/neutral/6692.jpg',\n",
       " '/notebooks/data7cls_randomsplit/train/neutral/13157.jpg',\n",
       " '/notebooks/data7cls_randomsplit/train/neutral/30643.jpg',\n",
       " '/notebooks/data7cls_randomsplit/train/neutral/35433.jpg',\n",
       " '/notebooks/data7cls_randomsplit/train/neutral/29380.jpg',\n",
       " '/notebooks/data7cls_randomsplit/train/neutral/20042.jpg',\n",
       " '/notebooks/data7cls_randomsplit/train/neutral/31994.jpg',\n",
       " '/notebooks/data7cls_randomsplit/train/neutral/19843.jpg',\n",
       " '/notebooks/data7cls_randomsplit/train/neutral/2447.jpg',\n",
       " '/notebooks/data7cls_randomsplit/train/neutral/1080.jpg',\n",
       " '/notebooks/data7cls_randomsplit/train/neutral/25824.jpg',\n",
       " '/notebooks/data7cls_randomsplit/train/neutral/22381.jpg',\n",
       " '/notebooks/data7cls_randomsplit/train/neutral/26322.jpg',\n",
       " '/notebooks/data7cls_randomsplit/train/neutral/4960.jpg',\n",
       " '/notebooks/data7cls_randomsplit/train/neutral/25324.jpg',\n",
       " '/notebooks/data7cls_randomsplit/train/neutral/33816.jpg',\n",
       " '/notebooks/data7cls_randomsplit/train/neutral/4709.jpg',\n",
       " '/notebooks/data7cls_randomsplit/train/neutral/11997.jpg',\n",
       " '/notebooks/data7cls_randomsplit/train/neutral/13154.jpg',\n",
       " '/notebooks/data7cls_randomsplit/train/neutral/19253.jpg',\n",
       " '/notebooks/data7cls_randomsplit/train/neutral/14908.jpg',\n",
       " '/notebooks/data7cls_randomsplit/train/neutral/14316.jpg',\n",
       " '/notebooks/data7cls_randomsplit/train/neutral/4231.jpg',\n",
       " '/notebooks/data7cls_randomsplit/train/neutral/22075.jpg',\n",
       " '/notebooks/data7cls_randomsplit/train/neutral/23450.jpg',\n",
       " '/notebooks/data7cls_randomsplit/train/neutral/10612.jpg',\n",
       " '/notebooks/data7cls_randomsplit/train/neutral/17923.jpg',\n",
       " '/notebooks/data7cls_randomsplit/train/neutral/1979.jpg',\n",
       " '/notebooks/data7cls_randomsplit/train/neutral/1916.jpg',\n",
       " '/notebooks/data7cls_randomsplit/train/neutral/3732.jpg',\n",
       " '/notebooks/data7cls_randomsplit/train/neutral/28664.jpg',\n",
       " '/notebooks/data7cls_randomsplit/train/neutral/16343.jpg',\n",
       " '/notebooks/data7cls_randomsplit/train/neutral/4584.jpg',\n",
       " '/notebooks/data7cls_randomsplit/train/neutral/552.jpg',\n",
       " '/notebooks/data7cls_randomsplit/train/neutral/3856.jpg',\n",
       " '/notebooks/data7cls_randomsplit/train/neutral/26172.jpg',\n",
       " '/notebooks/data7cls_randomsplit/train/neutral/6297.jpg',\n",
       " '/notebooks/data7cls_randomsplit/train/neutral/20913.jpg',\n",
       " '/notebooks/data7cls_randomsplit/train/neutral/11878.jpg',\n",
       " '/notebooks/data7cls_randomsplit/train/neutral/23974.jpg',\n",
       " '/notebooks/data7cls_randomsplit/train/neutral/3424.jpg',\n",
       " '/notebooks/data7cls_randomsplit/train/neutral/19675.jpg',\n",
       " '/notebooks/data7cls_randomsplit/train/neutral/25509.jpg',\n",
       " '/notebooks/data7cls_randomsplit/train/neutral/7258.jpg',\n",
       " '/notebooks/data7cls_randomsplit/train/neutral/30474.jpg',\n",
       " '/notebooks/data7cls_randomsplit/train/neutral/27381.jpg',\n",
       " '/notebooks/data7cls_randomsplit/train/neutral/32384.jpg',\n",
       " '/notebooks/data7cls_randomsplit/train/neutral/5320.jpg',\n",
       " '/notebooks/data7cls_randomsplit/train/neutral/31369.jpg',\n",
       " '/notebooks/data7cls_randomsplit/train/neutral/13275.jpg',\n",
       " '/notebooks/data7cls_randomsplit/train/neutral/32116.jpg',\n",
       " '/notebooks/data7cls_randomsplit/train/neutral/32117.jpg',\n",
       " '/notebooks/data7cls_randomsplit/train/neutral/26524.jpg',\n",
       " '/notebooks/data7cls_randomsplit/train/neutral/33876.jpg',\n",
       " '/notebooks/data7cls_randomsplit/train/neutral/7316.jpg',\n",
       " '/notebooks/data7cls_randomsplit/train/neutral/34665.jpg',\n",
       " '/notebooks/data7cls_randomsplit/train/neutral/31135.jpg',\n",
       " '/notebooks/data7cls_randomsplit/train/neutral/20524.jpg',\n",
       " '/notebooks/data7cls_randomsplit/train/neutral/24357.jpg',\n",
       " '/notebooks/data7cls_randomsplit/train/neutral/956.jpg',\n",
       " '/notebooks/data7cls_randomsplit/train/neutral/21121.jpg',\n",
       " '/notebooks/data7cls_randomsplit/train/neutral/26522.jpg',\n",
       " '/notebooks/data7cls_randomsplit/train/neutral/12576.jpg',\n",
       " '/notebooks/data7cls_randomsplit/train/neutral/27282.jpg',\n",
       " '/notebooks/data7cls_randomsplit/train/neutral/3081.jpg',\n",
       " '/notebooks/data7cls_randomsplit/train/neutral/26167.jpg',\n",
       " '/notebooks/data7cls_randomsplit/train/neutral/8587.jpg',\n",
       " '/notebooks/data7cls_randomsplit/train/neutral/5890.jpg',\n",
       " '/notebooks/data7cls_randomsplit/train/neutral/23385.jpg',\n",
       " '/notebooks/data7cls_randomsplit/train/neutral/18472.jpg',\n",
       " '/notebooks/data7cls_randomsplit/train/neutral/31851.jpg',\n",
       " '/notebooks/data7cls_randomsplit/train/neutral/10893.jpg',\n",
       " '/notebooks/data7cls_randomsplit/train/neutral/29352.jpg',\n",
       " '/notebooks/data7cls_randomsplit/train/neutral/3946.jpg',\n",
       " '/notebooks/data7cls_randomsplit/train/neutral/33600.jpg',\n",
       " '/notebooks/data7cls_randomsplit/train/neutral/20867.jpg',\n",
       " '/notebooks/data7cls_randomsplit/train/neutral/619.jpg',\n",
       " '/notebooks/data7cls_randomsplit/train/neutral/27406.jpg',\n",
       " '/notebooks/data7cls_randomsplit/train/neutral/936.jpg',\n",
       " '/notebooks/data7cls_randomsplit/train/neutral/19288.jpg',\n",
       " '/notebooks/data7cls_randomsplit/train/neutral/29534.jpg',\n",
       " '/notebooks/data7cls_randomsplit/train/neutral/1733.jpg',\n",
       " '/notebooks/data7cls_randomsplit/train/neutral/28781.jpg',\n",
       " '/notebooks/data7cls_randomsplit/train/neutral/35689.jpg',\n",
       " '/notebooks/data7cls_randomsplit/train/neutral/113.jpg',\n",
       " '/notebooks/data7cls_randomsplit/train/neutral/8817.jpg',\n",
       " '/notebooks/data7cls_randomsplit/train/neutral/33572.jpg',\n",
       " '/notebooks/data7cls_randomsplit/train/neutral/31832.jpg',\n",
       " '/notebooks/data7cls_randomsplit/train/neutral/20825.jpg',\n",
       " '/notebooks/data7cls_randomsplit/train/neutral/4007.jpg',\n",
       " '/notebooks/data7cls_randomsplit/train/neutral/21528.jpg',\n",
       " '/notebooks/data7cls_randomsplit/train/neutral/14158.jpg',\n",
       " '/notebooks/data7cls_randomsplit/train/neutral/30159.jpg',\n",
       " '/notebooks/data7cls_randomsplit/train/neutral/35646.jpg',\n",
       " '/notebooks/data7cls_randomsplit/train/neutral/1290.jpg',\n",
       " '/notebooks/data7cls_randomsplit/train/neutral/22624.jpg',\n",
       " '/notebooks/data7cls_randomsplit/train/neutral/31751.jpg',\n",
       " '/notebooks/data7cls_randomsplit/train/neutral/32033.jpg',\n",
       " '/notebooks/data7cls_randomsplit/train/neutral/28351.jpg',\n",
       " '/notebooks/data7cls_randomsplit/train/neutral/25592.jpg',\n",
       " '/notebooks/data7cls_randomsplit/train/neutral/18748.jpg',\n",
       " '/notebooks/data7cls_randomsplit/train/neutral/20160.jpg',\n",
       " '/notebooks/data7cls_randomsplit/train/neutral/35507.jpg',\n",
       " '/notebooks/data7cls_randomsplit/train/neutral/9076.jpg',\n",
       " '/notebooks/data7cls_randomsplit/train/neutral/34570.jpg',\n",
       " '/notebooks/data7cls_randomsplit/train/neutral/12390.jpg',\n",
       " '/notebooks/data7cls_randomsplit/train/neutral/12724.jpg',\n",
       " '/notebooks/data7cls_randomsplit/train/neutral/35100.jpg',\n",
       " '/notebooks/data7cls_randomsplit/train/neutral/17475.jpg',\n",
       " '/notebooks/data7cls_randomsplit/train/neutral/26754.jpg',\n",
       " '/notebooks/data7cls_randomsplit/train/neutral/26545.jpg',\n",
       " '/notebooks/data7cls_randomsplit/train/neutral/5358.jpg',\n",
       " '/notebooks/data7cls_randomsplit/train/neutral/28188.jpg',\n",
       " '/notebooks/data7cls_randomsplit/train/neutral/17575.jpg',\n",
       " '/notebooks/data7cls_randomsplit/train/neutral/6443.jpg',\n",
       " '/notebooks/data7cls_randomsplit/train/neutral/2376.jpg',\n",
       " '/notebooks/data7cls_randomsplit/train/neutral/3726.jpg',\n",
       " '/notebooks/data7cls_randomsplit/train/neutral/29397.jpg',\n",
       " '/notebooks/data7cls_randomsplit/train/neutral/33781.jpg',\n",
       " '/notebooks/data7cls_randomsplit/train/neutral/9304.jpg',\n",
       " '/notebooks/data7cls_randomsplit/train/neutral/22735.jpg',\n",
       " '/notebooks/data7cls_randomsplit/train/neutral/27834.jpg',\n",
       " '/notebooks/data7cls_randomsplit/train/neutral/16142.jpg',\n",
       " '/notebooks/data7cls_randomsplit/train/neutral/34763.jpg',\n",
       " '/notebooks/data7cls_randomsplit/train/neutral/28784.jpg',\n",
       " '/notebooks/data7cls_randomsplit/train/neutral/9215.jpg',\n",
       " '/notebooks/data7cls_randomsplit/train/neutral/9954.jpg',\n",
       " '/notebooks/data7cls_randomsplit/train/neutral/4346.jpg',\n",
       " '/notebooks/data7cls_randomsplit/train/neutral/2209.jpg',\n",
       " '/notebooks/data7cls_randomsplit/train/neutral/5980.jpg',\n",
       " '/notebooks/data7cls_randomsplit/train/neutral/31880.jpg',\n",
       " '/notebooks/data7cls_randomsplit/train/neutral/26885.jpg',\n",
       " '/notebooks/data7cls_randomsplit/train/neutral/7709.jpg',\n",
       " '/notebooks/data7cls_randomsplit/train/neutral/3597.jpg',\n",
       " '/notebooks/data7cls_randomsplit/train/neutral/18276.jpg',\n",
       " '/notebooks/data7cls_randomsplit/train/neutral/22598.jpg',\n",
       " '/notebooks/data7cls_randomsplit/train/neutral/15277.jpg',\n",
       " ...]"
      ]
     },
     "execution_count": 49,
     "metadata": {},
     "output_type": "execute_result"
    }
   ],
   "source": [
    "train_images"
   ]
  },
  {
   "cell_type": "code",
   "execution_count": 30,
   "metadata": {},
   "outputs": [
    {
     "ename": "AttributeError",
     "evalue": "'str' object has no attribute 'ndim'",
     "output_type": "error",
     "traceback": [
      "\u001b[0;31m---------------------------------------------------------------------------\u001b[0m",
      "\u001b[0;31mAttributeError\u001b[0m                            Traceback (most recent call last)",
      "\u001b[0;32m<ipython-input-30-af55ecf0d4e0>\u001b[0m in \u001b[0;36m<module>\u001b[0;34m\u001b[0m\n\u001b[0;32m----> 1\u001b[0;31m \u001b[0mtrain_features\u001b[0m \u001b[0;34m=\u001b[0m \u001b[0mmodel\u001b[0m\u001b[0;34m.\u001b[0m\u001b[0mpredict\u001b[0m\u001b[0;34m(\u001b[0m\u001b[0mtrain_images\u001b[0m\u001b[0;34m,\u001b[0m\u001b[0mbatch_size\u001b[0m \u001b[0;34m=\u001b[0m \u001b[0;36m1\u001b[0m\u001b[0;34m,\u001b[0m\u001b[0mverbose\u001b[0m \u001b[0;34m=\u001b[0m \u001b[0;36m1\u001b[0m\u001b[0;34m)\u001b[0m\u001b[0;34m\u001b[0m\u001b[0m\n\u001b[0m",
      "\u001b[0;32m/usr/local/lib/python3.5/dist-packages/keras/engine/training.py\u001b[0m in \u001b[0;36mpredict\u001b[0;34m(self, x, batch_size, verbose, steps)\u001b[0m\n\u001b[1;32m   1147\u001b[0m                              'argument.')\n\u001b[1;32m   1148\u001b[0m         \u001b[0;31m# Validate user data.\u001b[0m\u001b[0;34m\u001b[0m\u001b[0;34m\u001b[0m\u001b[0m\n\u001b[0;32m-> 1149\u001b[0;31m         \u001b[0mx\u001b[0m\u001b[0;34m,\u001b[0m \u001b[0m_\u001b[0m\u001b[0;34m,\u001b[0m \u001b[0m_\u001b[0m \u001b[0;34m=\u001b[0m \u001b[0mself\u001b[0m\u001b[0;34m.\u001b[0m\u001b[0m_standardize_user_data\u001b[0m\u001b[0;34m(\u001b[0m\u001b[0mx\u001b[0m\u001b[0;34m)\u001b[0m\u001b[0;34m\u001b[0m\u001b[0m\n\u001b[0m\u001b[1;32m   1150\u001b[0m         \u001b[0;32mif\u001b[0m \u001b[0mself\u001b[0m\u001b[0;34m.\u001b[0m\u001b[0mstateful\u001b[0m\u001b[0;34m:\u001b[0m\u001b[0;34m\u001b[0m\u001b[0m\n\u001b[1;32m   1151\u001b[0m             \u001b[0;32mif\u001b[0m \u001b[0mx\u001b[0m\u001b[0;34m[\u001b[0m\u001b[0;36m0\u001b[0m\u001b[0;34m]\u001b[0m\u001b[0;34m.\u001b[0m\u001b[0mshape\u001b[0m\u001b[0;34m[\u001b[0m\u001b[0;36m0\u001b[0m\u001b[0;34m]\u001b[0m \u001b[0;34m>\u001b[0m \u001b[0mbatch_size\u001b[0m \u001b[0;32mand\u001b[0m \u001b[0mx\u001b[0m\u001b[0;34m[\u001b[0m\u001b[0;36m0\u001b[0m\u001b[0;34m]\u001b[0m\u001b[0;34m.\u001b[0m\u001b[0mshape\u001b[0m\u001b[0;34m[\u001b[0m\u001b[0;36m0\u001b[0m\u001b[0;34m]\u001b[0m \u001b[0;34m%\u001b[0m \u001b[0mbatch_size\u001b[0m \u001b[0;34m!=\u001b[0m \u001b[0;36m0\u001b[0m\u001b[0;34m:\u001b[0m\u001b[0;34m\u001b[0m\u001b[0m\n",
      "\u001b[0;32m/usr/local/lib/python3.5/dist-packages/keras/engine/training.py\u001b[0m in \u001b[0;36m_standardize_user_data\u001b[0;34m(self, x, y, sample_weight, class_weight, check_array_lengths, batch_size)\u001b[0m\n\u001b[1;32m    749\u001b[0m             \u001b[0mfeed_input_shapes\u001b[0m\u001b[0;34m,\u001b[0m\u001b[0;34m\u001b[0m\u001b[0m\n\u001b[1;32m    750\u001b[0m             \u001b[0mcheck_batch_axis\u001b[0m\u001b[0;34m=\u001b[0m\u001b[0;32mFalse\u001b[0m\u001b[0;34m,\u001b[0m  \u001b[0;31m# Don't enforce the batch size.\u001b[0m\u001b[0;34m\u001b[0m\u001b[0m\n\u001b[0;32m--> 751\u001b[0;31m             exception_prefix='input')\n\u001b[0m\u001b[1;32m    752\u001b[0m \u001b[0;34m\u001b[0m\u001b[0m\n\u001b[1;32m    753\u001b[0m         \u001b[0;32mif\u001b[0m \u001b[0my\u001b[0m \u001b[0;32mis\u001b[0m \u001b[0;32mnot\u001b[0m \u001b[0;32mNone\u001b[0m\u001b[0;34m:\u001b[0m\u001b[0;34m\u001b[0m\u001b[0m\n",
      "\u001b[0;32m/usr/local/lib/python3.5/dist-packages/keras/engine/training_utils.py\u001b[0m in \u001b[0;36mstandardize_input_data\u001b[0;34m(data, names, shapes, check_batch_axis, exception_prefix)\u001b[0m\n\u001b[1;32m     90\u001b[0m         \u001b[0mdata\u001b[0m \u001b[0;34m=\u001b[0m \u001b[0mdata\u001b[0m\u001b[0;34m.\u001b[0m\u001b[0mvalues\u001b[0m \u001b[0;32mif\u001b[0m \u001b[0mdata\u001b[0m\u001b[0;34m.\u001b[0m\u001b[0m__class__\u001b[0m\u001b[0;34m.\u001b[0m\u001b[0m__name__\u001b[0m \u001b[0;34m==\u001b[0m \u001b[0;34m'DataFrame'\u001b[0m \u001b[0;32melse\u001b[0m \u001b[0mdata\u001b[0m\u001b[0;34m\u001b[0m\u001b[0m\n\u001b[1;32m     91\u001b[0m         \u001b[0mdata\u001b[0m \u001b[0;34m=\u001b[0m \u001b[0;34m[\u001b[0m\u001b[0mdata\u001b[0m\u001b[0;34m]\u001b[0m\u001b[0;34m\u001b[0m\u001b[0m\n\u001b[0;32m---> 92\u001b[0;31m     \u001b[0mdata\u001b[0m \u001b[0;34m=\u001b[0m \u001b[0;34m[\u001b[0m\u001b[0mstandardize_single_array\u001b[0m\u001b[0;34m(\u001b[0m\u001b[0mx\u001b[0m\u001b[0;34m)\u001b[0m \u001b[0;32mfor\u001b[0m \u001b[0mx\u001b[0m \u001b[0;32min\u001b[0m \u001b[0mdata\u001b[0m\u001b[0;34m]\u001b[0m\u001b[0;34m\u001b[0m\u001b[0m\n\u001b[0m\u001b[1;32m     93\u001b[0m \u001b[0;34m\u001b[0m\u001b[0m\n\u001b[1;32m     94\u001b[0m     \u001b[0;32mif\u001b[0m \u001b[0mlen\u001b[0m\u001b[0;34m(\u001b[0m\u001b[0mdata\u001b[0m\u001b[0;34m)\u001b[0m \u001b[0;34m!=\u001b[0m \u001b[0mlen\u001b[0m\u001b[0;34m(\u001b[0m\u001b[0mnames\u001b[0m\u001b[0;34m)\u001b[0m\u001b[0;34m:\u001b[0m\u001b[0;34m\u001b[0m\u001b[0m\n",
      "\u001b[0;32m/usr/local/lib/python3.5/dist-packages/keras/engine/training_utils.py\u001b[0m in \u001b[0;36m<listcomp>\u001b[0;34m(.0)\u001b[0m\n\u001b[1;32m     90\u001b[0m         \u001b[0mdata\u001b[0m \u001b[0;34m=\u001b[0m \u001b[0mdata\u001b[0m\u001b[0;34m.\u001b[0m\u001b[0mvalues\u001b[0m \u001b[0;32mif\u001b[0m \u001b[0mdata\u001b[0m\u001b[0;34m.\u001b[0m\u001b[0m__class__\u001b[0m\u001b[0;34m.\u001b[0m\u001b[0m__name__\u001b[0m \u001b[0;34m==\u001b[0m \u001b[0;34m'DataFrame'\u001b[0m \u001b[0;32melse\u001b[0m \u001b[0mdata\u001b[0m\u001b[0;34m\u001b[0m\u001b[0m\n\u001b[1;32m     91\u001b[0m         \u001b[0mdata\u001b[0m \u001b[0;34m=\u001b[0m \u001b[0;34m[\u001b[0m\u001b[0mdata\u001b[0m\u001b[0;34m]\u001b[0m\u001b[0;34m\u001b[0m\u001b[0m\n\u001b[0;32m---> 92\u001b[0;31m     \u001b[0mdata\u001b[0m \u001b[0;34m=\u001b[0m \u001b[0;34m[\u001b[0m\u001b[0mstandardize_single_array\u001b[0m\u001b[0;34m(\u001b[0m\u001b[0mx\u001b[0m\u001b[0;34m)\u001b[0m \u001b[0;32mfor\u001b[0m \u001b[0mx\u001b[0m \u001b[0;32min\u001b[0m \u001b[0mdata\u001b[0m\u001b[0;34m]\u001b[0m\u001b[0;34m\u001b[0m\u001b[0m\n\u001b[0m\u001b[1;32m     93\u001b[0m \u001b[0;34m\u001b[0m\u001b[0m\n\u001b[1;32m     94\u001b[0m     \u001b[0;32mif\u001b[0m \u001b[0mlen\u001b[0m\u001b[0;34m(\u001b[0m\u001b[0mdata\u001b[0m\u001b[0;34m)\u001b[0m \u001b[0;34m!=\u001b[0m \u001b[0mlen\u001b[0m\u001b[0;34m(\u001b[0m\u001b[0mnames\u001b[0m\u001b[0;34m)\u001b[0m\u001b[0;34m:\u001b[0m\u001b[0;34m\u001b[0m\u001b[0m\n",
      "\u001b[0;32m/usr/local/lib/python3.5/dist-packages/keras/engine/training_utils.py\u001b[0m in \u001b[0;36mstandardize_single_array\u001b[0;34m(x)\u001b[0m\n\u001b[1;32m     25\u001b[0m                 'Got tensor with shape: %s' % str(shape))\n\u001b[1;32m     26\u001b[0m         \u001b[0;32mreturn\u001b[0m \u001b[0mx\u001b[0m\u001b[0;34m\u001b[0m\u001b[0m\n\u001b[0;32m---> 27\u001b[0;31m     \u001b[0;32melif\u001b[0m \u001b[0mx\u001b[0m\u001b[0;34m.\u001b[0m\u001b[0mndim\u001b[0m \u001b[0;34m==\u001b[0m \u001b[0;36m1\u001b[0m\u001b[0;34m:\u001b[0m\u001b[0;34m\u001b[0m\u001b[0m\n\u001b[0m\u001b[1;32m     28\u001b[0m         \u001b[0mx\u001b[0m \u001b[0;34m=\u001b[0m \u001b[0mnp\u001b[0m\u001b[0;34m.\u001b[0m\u001b[0mexpand_dims\u001b[0m\u001b[0;34m(\u001b[0m\u001b[0mx\u001b[0m\u001b[0;34m,\u001b[0m \u001b[0;36m1\u001b[0m\u001b[0;34m)\u001b[0m\u001b[0;34m\u001b[0m\u001b[0m\n\u001b[1;32m     29\u001b[0m     \u001b[0;32mreturn\u001b[0m \u001b[0mx\u001b[0m\u001b[0;34m\u001b[0m\u001b[0m\n",
      "\u001b[0;31mAttributeError\u001b[0m: 'str' object has no attribute 'ndim'"
     ]
    }
   ],
   "source": [
    "train_features = model.predict(train_images,batch_size = 1,verbose = 1)"
   ]
  },
  {
   "cell_type": "markdown",
   "metadata": {},
   "source": [
    "# try another one\n",
    "https://www.kaggle.com/suniliitb96/tutorial-keras-transfer-learning-with-resnet50?select=resnet50_weights_tf_dim_ordering_tf_kernels_notop.h5"
   ]
  },
  {
   "cell_type": "code",
   "execution_count": 58,
   "metadata": {},
   "outputs": [
    {
     "name": "stdout",
     "output_type": "stream",
     "text": [
      "Requirement already satisfied: opencv-python in /root/.local/lib/python3.5/site-packages (4.3.0.36)\r\n",
      "Requirement already satisfied: numpy>=1.11.1 in /usr/local/lib/python3.5/dist-packages (from opencv-python) (1.16.3)\r\n"
     ]
    }
   ],
   "source": [
    "!pip3 install opencv-python"
   ]
  },
  {
   "cell_type": "code",
   "execution_count": 61,
   "metadata": {},
   "outputs": [],
   "source": [
    "import numpy as np\n",
    "import pandas as pd\n",
    "import matplotlib.pyplot as plt\n",
    "%matplotlib inline \n",
    "import cv2\n",
    "import os"
   ]
  },
  {
   "cell_type": "code",
   "execution_count": 54,
   "metadata": {},
   "outputs": [],
   "source": [
    "# Fixed classes\n",
    "NUM_CLASSES = 7\n",
    "CHANNELS = 3\n",
    "\n",
    "IMAGE_RESIZE = 48\n",
    "RESNET50_POOLING_AVERAGE = 'avg'\n",
    "DENSE_LAYER_ACTIVATION = 'softmax'\n",
    "OBJECTIVE_FUNCTION = 'categorical_crossentropy'\n",
    "\n",
    "# Common accuracy metric for all outputs, but can use different metrics for different output\n",
    "LOSS_METRICS = ['accuracy']\n",
    "\n",
    "# EARLY_STOP_PATIENCE must be < NUM_EPOCHS\n",
    "NUM_EPOCHS = 10\n",
    "EARLY_STOP_PATIENCE = 3\n",
    "\n",
    "# These steps value should be proper FACTOR of no.-of-images in train & valid folders respectively\n",
    "# Training images processed in each step would be no.-of-train-images / STEPS_PER_EPOCH_TRAINING\n",
    "STEPS_PER_EPOCH_TRAINING = 10\n",
    "STEPS_PER_EPOCH_VALIDATION = 10\n",
    "\n",
    "# These steps value should be proper FACTOR of no.-of-images in train & valid folders respectively\n",
    "# NOTE that these BATCH* are for Keras ImageDataGenerator batching to fill epoch step input\n",
    "BATCH_SIZE_TRAINING = 100\n",
    "BATCH_SIZE_VALIDATION = 100\n",
    "\n",
    "# Using 1 to easily manage mapping between test_generator & prediction for submission preparation\n",
    "BATCH_SIZE_TESTING = 1"
   ]
  },
  {
   "cell_type": "code",
   "execution_count": 55,
   "metadata": {},
   "outputs": [],
   "source": [
    "from tensorflow.python.keras.applications import ResNet50\n",
    "from tensorflow.python.keras.models import Sequential\n",
    "from tensorflow.python.keras.layers import Dense"
   ]
  },
  {
   "cell_type": "code",
   "execution_count": 60,
   "metadata": {},
   "outputs": [],
   "source": [
    "import sys\n",
    "sys.path.append('/root/.local/lib/python3.5/site-packages')"
   ]
  },
  {
   "cell_type": "code",
   "execution_count": 74,
   "metadata": {},
   "outputs": [
    {
     "name": "stdout",
     "output_type": "stream",
     "text": [
      "Cloning into 'W251_FinalProject'...\n",
      "remote: Enumerating objects: 42, done.\u001b[K\n",
      "remote: Total 42 (delta 0), reused 0 (delta 0), pack-reused 42\u001b[K\n",
      "Unpacking objects: 100% (42/42), done.\n",
      "Checking connectivity... done.\n"
     ]
    }
   ],
   "source": [
    "#get the weight form github repo\n",
    "!git clone https://github.com/sunh0003/W251_FinalProject"
   ]
  },
  {
   "cell_type": "code",
   "execution_count": 64,
   "metadata": {},
   "outputs": [],
   "source": [
    "resnet_weights_path = '/notebooks/W251_FinalProject/resnet50_weights_tf_dim_ordering_tf_kernels_notop.h5'"
   ]
  },
  {
   "cell_type": "code",
   "execution_count": 65,
   "metadata": {},
   "outputs": [],
   "source": [
    "#Still not talking about our train/test data or any pre-processing.\n",
    "model = Sequential()\n",
    "\n",
    "# 1st layer as the lumpsum weights from resnet50_weights_tf_dim_ordering_tf_kernels_notop.h5\n",
    "# NOTE that this layer will be set below as NOT TRAINABLE, i.e., use it as is\n",
    "model.add(ResNet50(include_top = False, pooling = RESNET50_POOLING_AVERAGE, weights = resnet_weights_path))\n",
    "\n",
    "# 2nd layer as Dense for 2-class classification, i.e., dog or cat using SoftMax activation\n",
    "model.add(Dense(NUM_CLASSES, activation = DENSE_LAYER_ACTIVATION))\n",
    "\n",
    "# Say not to train first layer (ResNet) model as it is already trained\n",
    "model.layers[0].trainable = False"
   ]
  },
  {
   "cell_type": "code",
   "execution_count": 66,
   "metadata": {
    "scrolled": true
   },
   "outputs": [
    {
     "name": "stdout",
     "output_type": "stream",
     "text": [
      "_________________________________________________________________\n",
      "Layer (type)                 Output Shape              Param #   \n",
      "=================================================================\n",
      "resnet50 (Model)             (None, 2048)              23587712  \n",
      "_________________________________________________________________\n",
      "dense (Dense)                (None, 7)                 14343     \n",
      "=================================================================\n",
      "Total params: 23,602,055\n",
      "Trainable params: 14,343\n",
      "Non-trainable params: 23,587,712\n",
      "_________________________________________________________________\n"
     ]
    }
   ],
   "source": [
    "model.summary()"
   ]
  },
  {
   "cell_type": "code",
   "execution_count": 67,
   "metadata": {},
   "outputs": [],
   "source": [
    "from tensorflow.python.keras import optimizers\n",
    "\n",
    "sgd = optimizers.SGD(lr = 0.01, decay = 1e-6, momentum = 0.9, nesterov = True)\n",
    "model.compile(optimizer = sgd, loss = OBJECTIVE_FUNCTION, metrics = LOSS_METRICS)"
   ]
  },
  {
   "cell_type": "code",
   "execution_count": 69,
   "metadata": {},
   "outputs": [
    {
     "name": "stdout",
     "output_type": "stream",
     "text": [
      "Found 25446 images belonging to 7 classes.\n",
      "Found 6236 images belonging to 7 classes.\n"
     ]
    }
   ],
   "source": [
    "from keras.applications.resnet50 import preprocess_input\n",
    "from keras.preprocessing.image import ImageDataGenerator\n",
    "image_size = IMAGE_RESIZE\n",
    "\n",
    "train_dir = \"/notebooks/data7cls_randomsplit/train/\"\n",
    "valid_dir = \"/notebooks/data7cls_randomsplit/validation/\"\n",
    "\n",
    "data_generator = ImageDataGenerator(preprocessing_function=preprocess_input)\n",
    "\n",
    "train_generator = data_generator.flow_from_directory(\n",
    "        train_dir,\n",
    "        target_size=(image_size, image_size),\n",
    "        batch_size=BATCH_SIZE_TRAINING,\n",
    "        class_mode='categorical')\n",
    "\n",
    "validation_generator = data_generator.flow_from_directory(\n",
    "        valid_dir,\n",
    "        target_size=(image_size, image_size),\n",
    "        batch_size=BATCH_SIZE_VALIDATION,\n",
    "        class_mode='categorical') "
   ]
  },
  {
   "cell_type": "code",
   "execution_count": 70,
   "metadata": {},
   "outputs": [
    {
     "data": {
      "text/plain": [
       "(100, 255, 100, 63)"
      ]
     },
     "execution_count": 70,
     "metadata": {},
     "output_type": "execute_result"
    }
   ],
   "source": [
    "(BATCH_SIZE_TRAINING, len(train_generator), BATCH_SIZE_VALIDATION, len(validation_generator))"
   ]
  },
  {
   "cell_type": "code",
   "execution_count": 71,
   "metadata": {},
   "outputs": [],
   "source": [
    "%mkdir transferlearn"
   ]
  },
  {
   "cell_type": "code",
   "execution_count": 75,
   "metadata": {},
   "outputs": [],
   "source": [
    "from tensorflow.python.keras.callbacks import EarlyStopping, ModelCheckpoint\n",
    "\n",
    "cb_early_stopper = EarlyStopping(monitor = 'val_loss', patience = EARLY_STOP_PATIENCE)\n",
    "cb_checkpointer = ModelCheckpoint(filepath = '/notebooks/W251_FinalProject/best.hdf5', monitor = 'val_loss', save_best_only = True, mode = 'auto')"
   ]
  },
  {
   "cell_type": "code",
   "execution_count": 76,
   "metadata": {},
   "outputs": [
    {
     "name": "stdout",
     "output_type": "stream",
     "text": [
      "Epoch 1/10\n",
      "63/63 [==============================] - 38s 610ms/step - loss: 1.9967 - acc: 0.3921\n",
      "255/255 [==============================] - 226s 885ms/step - loss: 1.6854 - acc: 0.4304 - val_loss: 1.9967 - val_acc: 0.3921\n",
      "Epoch 2/10\n",
      "63/63 [==============================] - 38s 596ms/step - loss: 1.8770 - acc: 0.4193\n",
      "255/255 [==============================] - 225s 882ms/step - loss: 1.6713 - acc: 0.4375 - val_loss: 1.8770 - val_acc: 0.4193\n",
      "Epoch 3/10\n",
      "63/63 [==============================] - 38s 599ms/step - loss: 1.8815 - acc: 0.4275\n",
      "255/255 [==============================] - 220s 865ms/step - loss: 1.6557 - acc: 0.4405 - val_loss: 1.8815 - val_acc: 0.4275\n",
      "Epoch 4/10\n",
      "63/63 [==============================] - 38s 597ms/step - loss: 1.8569 - acc: 0.4312\n",
      "255/255 [==============================] - 222s 872ms/step - loss: 1.6572 - acc: 0.4477 - val_loss: 1.8569 - val_acc: 0.4312\n",
      "Epoch 5/10\n",
      "63/63 [==============================] - 39s 621ms/step - loss: 1.8623 - acc: 0.4250\n",
      "255/255 [==============================] - 223s 873ms/step - loss: 1.6610 - acc: 0.4460 - val_loss: 1.8623 - val_acc: 0.4250\n",
      "Epoch 6/10\n",
      "63/63 [==============================] - 38s 606ms/step - loss: 1.9325 - acc: 0.4157\n",
      "255/255 [==============================] - 223s 876ms/step - loss: 1.6450 - acc: 0.4512 - val_loss: 1.9325 - val_acc: 0.4157\n",
      "Epoch 7/10\n",
      "63/63 [==============================] - 38s 596ms/step - loss: 1.9062 - acc: 0.3970\n",
      "255/255 [==============================] - 219s 860ms/step - loss: 1.6386 - acc: 0.4565 - val_loss: 1.9062 - val_acc: 0.3970\n"
     ]
    }
   ],
   "source": [
    "fit_history = model.fit_generator(\n",
    "        train_generator,\n",
    "        steps_per_epoch=STEPS_PER_EPOCH_TRAINING,\n",
    "        epochs = NUM_EPOCHS,\n",
    "        validation_data=validation_generator,\n",
    "        validation_steps=STEPS_PER_EPOCH_VALIDATION,\n",
    "        callbacks=[cb_checkpointer, cb_early_stopper]\n",
    ")\n",
    "model.load_weights('/notebooks/W251_FinalProject/best.hdf5')"
   ]
  },
  {
   "cell_type": "code",
   "execution_count": 77,
   "metadata": {},
   "outputs": [
    {
     "name": "stdout",
     "output_type": "stream",
     "text": [
      "dict_keys(['acc', 'val_acc', 'loss', 'val_loss'])\n"
     ]
    }
   ],
   "source": [
    "print(fit_history.history.keys())"
   ]
  },
  {
   "cell_type": "code",
   "execution_count": 78,
   "metadata": {},
   "outputs": [
    {
     "data": {
      "image/png": "[encoded data removed]",
      "text/plain": [
       "<Figure size 1080x576 with 2 Axes>"
      ]
     },
     "metadata": {
      "needs_background": "light"
     },
     "output_type": "display_data"
    }
   ],
   "source": [
    " plt.figure(1, figsize = (15,8)) \n",
    "    \n",
    "plt.subplot(221)  \n",
    "plt.plot(fit_history.history['acc'])  \n",
    "plt.plot(fit_history.history['val_acc'])  \n",
    "plt.title('model accuracy')  \n",
    "plt.ylabel('accuracy')  \n",
    "plt.xlabel('epoch')  \n",
    "plt.legend(['train', 'valid']) \n",
    "    \n",
    "plt.subplot(222)  \n",
    "plt.plot(fit_history.history['loss'])  \n",
    "plt.plot(fit_history.history['val_loss'])  \n",
    "plt.title('model loss')  \n",
    "plt.ylabel('loss')  \n",
    "plt.xlabel('epoch')  \n",
    "plt.legend(['train', 'valid']) \n",
    "\n",
    "plt.show()"
   ]
  },
  {
   "cell_type": "code",
   "execution_count": 79,
   "metadata": {},
   "outputs": [
    {
     "name": "stdout",
     "output_type": "stream",
     "text": [
      "Found 6229 images belonging to 7 classes.\n"
     ]
    }
   ],
   "source": [
    "test_generator = data_generator.flow_from_directory(\n",
    "    directory = '/notebooks/data7cls/validation',\n",
    "    target_size = (image_size, image_size),\n",
    "    batch_size = BATCH_SIZE_TESTING,\n",
    "    class_mode = None,\n",
    "    shuffle = False,\n",
    "    seed = 123\n",
    ")"
   ]
  },
  {
   "cell_type": "code",
   "execution_count": 81,
   "metadata": {},
   "outputs": [],
   "source": [
    "# test_generator.reset()\n",
    "\n",
    "# pred = model.predict_generator(test_generator, steps = len(test_generator), verbose = 1)\n",
    "\n",
    "# predicted_class_indices = np.argmax(pred, axis = 1)"
   ]
  },
  {
   "cell_type": "markdown",
   "metadata": {},
   "source": [
    "# confusion matrix"
   ]
  },
  {
   "cell_type": "code",
   "execution_count": 91,
   "metadata": {},
   "outputs": [
    {
     "name": "stdout",
     "output_type": "stream",
     "text": [
      "Found 6229 images belonging to 7 classes.\n",
      "Confusion Matrix\n",
      "[[ 241    0    2  253  109  292   63]\n",
      " [   0  161    1    0    0    0    0]\n",
      " [   1    0  124    0    4    1    0]\n",
      " [ 172    4    5 1032  190  356   66]\n",
      " [ 161    4    4  337  334  307   69]\n",
      " [ 137    3    0  285  159  512   43]\n",
      " [  81    2    0  155   89  127  343]]\n",
      "Classification Report\n",
      "              precision    recall  f1-score   support\n",
      "\n",
      "       angry       0.30      0.25      0.27       960\n",
      "    confused       0.93      0.99      0.96       162\n",
      "  distracted       0.91      0.95      0.93       130\n",
      "       happy       0.50      0.57      0.53      1825\n",
      "     neutral       0.38      0.27      0.32      1216\n",
      "         sad       0.32      0.45      0.37      1139\n",
      "    surprise       0.59      0.43      0.50       797\n",
      "\n",
      "    accuracy                           0.44      6229\n",
      "   macro avg       0.56      0.56      0.56      6229\n",
      "weighted avg       0.44      0.44      0.44      6229\n",
      "\n"
     ]
    },
    {
     "data": {
      "image/png": "[encoded data removed]",
      "text/plain": [
       "<Figure size 576x576 with 2 Axes>"
      ]
     },
     "metadata": {
      "needs_background": "light"
     },
     "output_type": "display_data"
    }
   ],
   "source": [
    "import sklearn\n",
    "from sklearn.metrics import classification_report, confusion_matrix\n",
    "import numpy as np\n",
    "\n",
    "nb_train_samples = 25446\n",
    "nb_validation_samples = 6229\n",
    "\n",
    "# We need to recreate our validation generator with shuffle = false\n",
    "validation_generator = data_generator.flow_from_directory(\n",
    "        directory = '/notebooks/data7cls/validation',\n",
    "        #color_mode = 'grayscale',\n",
    "        target_size=(image_size, image_size),\n",
    "        batch_size=BATCH_SIZE_TESTING,\n",
    "        class_mode='categorical',\n",
    "        shuffle=False)\n",
    "\n",
    "class_labels = validation_generator.class_indices\n",
    "class_labels = {v: k for k, v in class_labels.items()}\n",
    "classes = list(class_labels.values())\n",
    "\n",
    "#Confution Matrix and Classification Report\n",
    "Y_pred = model.predict_generator(validation_generator, nb_validation_samples // batch_size+1)\n",
    "y_pred = np.argmax(Y_pred, axis=1)\n",
    "\n",
    "print('Confusion Matrix')\n",
    "print(confusion_matrix(validation_generator.classes, y_pred))\n",
    "print('Classification Report')\n",
    "target_names = list(class_labels.values())\n",
    "print(classification_report(validation_generator.classes, y_pred, target_names=target_names))\n",
    "\n",
    "plt.figure(figsize=(8,8))\n",
    "cnf_matrix = confusion_matrix(validation_generator.classes, y_pred)\n",
    "\n",
    "plt.imshow(cnf_matrix, interpolation='nearest')\n",
    "plt.colorbar()\n",
    "tick_marks = np.arange(len(classes))\n",
    "_ = plt.xticks(tick_marks, classes, rotation=90)\n",
    "_ = plt.yticks(tick_marks, classes)"
   ]
  },
  {
   "cell_type": "code",
   "execution_count": null,
   "metadata": {},
   "outputs": [],
   "source": [
    "# def plot_confusion_matrix(cm, classes, title='Confusion matrix', cmap=plt.cm.Blues):\n",
    "#     cm = cm.astype('float') / cm.sum(axis=1)#[:, np.newaxis]\n",
    "#     plt.figure(figsize=(10,10))\n",
    "#     plt.imshow(cm, interpolation='nearest', cmap=cmap)\n",
    "#     plt.title(title)\n",
    "#     plt.colorbar()\n",
    "#     tick_marks = np.arange(len(classes))\n",
    "#     plt.xticks(tick_marks, classes, rotation=45)\n",
    "#     plt.yticks(tick_marks, classes)"
   ]
  },
  {
   "cell_type": "code",
   "execution_count": 92,
   "metadata": {},
   "outputs": [
    {
     "data": {
      "image/png": "[encoded data removed]",
      "text/plain": [
       "<Figure size 720x720 with 2 Axes>"
      ]
     },
     "metadata": {
      "needs_background": "light"
     },
     "output_type": "display_data"
    }
   ],
   "source": [
    "import itertools\n",
    "cm=cnf_matrix\n",
    "cm = cm.astype('float') / cm.sum(axis=1)\n",
    "plt.figure(figsize=(10,10))\n",
    "plt.imshow(cm, interpolation='nearest', cmap=plt.cm.Blues)\n",
    "plt.colorbar()\n",
    "tick_marks = np.arange(len(classes))\n",
    "_ = plt.xticks(tick_marks, classes, rotation=90)\n",
    "_ = plt.yticks(tick_marks, classes)\n",
    "\n",
    "fmt = '.2f'\n",
    "thresh = cm.max() / 2.\n",
    "for i, j in itertools.product(range(cm.shape[0]), range(cm.shape[1])):\n",
    "    plt.text(j, i, format(cm[i, j], fmt),horizontalalignment=\"center\",color=\"white\" if cm[i, j] > thresh else \"black\")"
   ]
  },
  {
   "cell_type": "code",
   "execution_count": 93,
   "metadata": {},
   "outputs": [],
   "source": [
    "%mkdir data7cls_newimg_randomsplit"
   ]
  },
  {
   "cell_type": "code",
   "execution_count": null,
   "metadata": {},
   "outputs": [],
   "source": []
  },
  {
   "cell_type": "code",
   "execution_count": null,
   "metadata": {},
   "outputs": [],
   "source": [
    "# option 2: setup transfer learning code, using 9 classes wts for 7 classes - Michelle"
   ]
  },
  {
   "cell_type": "code",
   "execution_count": null,
   "metadata": {},
   "outputs": [],
   "source": []
  },
  {
   "cell_type": "code",
   "execution_count": null,
   "metadata": {},
   "outputs": [],
   "source": []
  },
  {
   "cell_type": "code",
   "execution_count": null,
   "metadata": {},
   "outputs": [],
   "source": []
  }
 ],
 "metadata": {
  "kernelspec": {
   "display_name": "Python 3",
   "language": "python",
   "name": "python3"
  },
  "language_info": {
   "codemirror_mode": {
    "name": "ipython",
    "version": 3
   },
   "file_extension": ".py",
   "mimetype": "text/x-python",
   "name": "python",
   "nbconvert_exporter": "python",
   "pygments_lexer": "ipython3",
   "version": "3.5.2"
  }
 },
 "nbformat": 4,
 "nbformat_minor": 2
}
