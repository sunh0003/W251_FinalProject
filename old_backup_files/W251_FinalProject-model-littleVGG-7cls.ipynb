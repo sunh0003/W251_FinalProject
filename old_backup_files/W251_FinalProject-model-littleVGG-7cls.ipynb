{
 "cells": [
  {
   "cell_type": "markdown",
   "metadata": {},
   "source": [
    "## Load data"
   ]
  },
  {
   "cell_type": "code",
   "execution_count": 1,
   "metadata": {},
   "outputs": [
    {
     "name": "stdout",
     "output_type": "stream",
     "text": [
      "/notebooks\r\n"
     ]
    }
   ],
   "source": [
    "!pwd"
   ]
  },
  {
   "cell_type": "code",
   "execution_count": 2,
   "metadata": {},
   "outputs": [
    {
     "name": "stdout",
     "output_type": "stream",
     "text": [
      "fatal: destination path 'W251_FinalProject' already exists and is not an empty directory.\r\n"
     ]
    }
   ],
   "source": [
    "!git clone https://github.com/sunh0003/W251_FinalProject.git"
   ]
  },
  {
   "cell_type": "code",
   "execution_count": 3,
   "metadata": {},
   "outputs": [
    {
     "name": "stdout",
     "output_type": "stream",
     "text": [
      "mkdir: cannot create directory ‘data’: File exists\r\n"
     ]
    }
   ],
   "source": [
    "%mkdir data"
   ]
  },
  {
   "cell_type": "code",
   "execution_count": 4,
   "metadata": {},
   "outputs": [
    {
     "name": "stdout",
     "output_type": "stream",
     "text": [
      "/notebooks/W251_FinalProject\n"
     ]
    }
   ],
   "source": [
    "%cd W251_FinalProject"
   ]
  },
  {
   "cell_type": "code",
   "execution_count": 5,
   "metadata": {},
   "outputs": [
    {
     "name": "stdout",
     "output_type": "stream",
     "text": [
      "/notebooks/W251_FinalProject/Kaggle\n"
     ]
    }
   ],
   "source": [
    "%cd Kaggle"
   ]
  },
  {
   "cell_type": "code",
   "execution_count": 6,
   "metadata": {},
   "outputs": [
    {
     "name": "stdout",
     "output_type": "stream",
     "text": [
      "mkdir: cannot create directory ‘/notebooks/data/train’: File exists\r\n"
     ]
    }
   ],
   "source": [
    "%mkdir /notebooks/data/train"
   ]
  },
  {
   "cell_type": "code",
   "execution_count": 7,
   "metadata": {},
   "outputs": [],
   "source": [
    "from shutil import unpack_archive\n",
    "unpack_archive('train1.zip', '/notebooks')\n",
    "unpack_archive('train2.zip', '/notebooks')\n",
    "unpack_archive('train3.zip', '/notebooks')\n",
    "unpack_archive('validation.zip', '/notebooks')"
   ]
  },
  {
   "cell_type": "code",
   "execution_count": 8,
   "metadata": {},
   "outputs": [
    {
     "name": "stdout",
     "output_type": "stream",
     "text": [
      "mv: cannot move '/notebooks/train1/fear' to '/notebooks/data/train/fear': Directory not empty\n",
      "mv: cannot move '/notebooks/train1/happy' to '/notebooks/data/train/happy': Directory not empty\n",
      "mv: cannot stat '/notebooks/train2/netural': No such file or directory\n",
      "mv: cannot move '/notebooks/train2/sad' to '/notebooks/data/train/sad': Directory not empty\n",
      "mv: cannot stat '/notebooks/train2/suprise': No such file or directory\n",
      "mv: cannot move '/notebooks/train3/angry' to '/notebooks/data/train/angry': Directory not empty\n",
      "mv: cannot move '/notebooks/train3/disgust' to '/notebooks/data/train/disgust': Directory not empty\n",
      "mv: cannot move '/notebooks/validation' to '/notebooks/data/validation': Directory not empty\n"
     ]
    }
   ],
   "source": [
    "%mv /notebooks/train1/fear /notebooks/data/train\n",
    "%mv /notebooks/train1/happy /notebooks/data/train\n",
    "%mv /notebooks/train2/netural /notebooks/data/train\n",
    "%mv /notebooks/train2/sad /notebooks/data/train\n",
    "%mv /notebooks/train2/suprise /notebooks/data/train\n",
    "%mv /notebooks/train3/angry /notebooks/data/train\n",
    "%mv /notebooks/train3/disgust /notebooks/data/train\n",
    "%mv /notebooks/validation /notebooks/data"
   ]
  },
  {
   "cell_type": "code",
   "execution_count": 1,
   "metadata": {},
   "outputs": [
    {
     "name": "stdout",
     "output_type": "stream",
     "text": [
      "/notebooks\r\n"
     ]
    }
   ],
   "source": [
    "!pwd"
   ]
  },
  {
   "cell_type": "markdown",
   "metadata": {},
   "source": [
    "## Model"
   ]
  },
  {
   "cell_type": "code",
   "execution_count": 10,
   "metadata": {},
   "outputs": [
    {
     "name": "stdout",
     "output_type": "stream",
     "text": [
      "Requirement already up-to-date: pip in /usr/local/lib/python3.5/dist-packages (20.1.1)\r\n"
     ]
    }
   ],
   "source": [
    "!pip install --upgrade pip"
   ]
  },
  {
   "cell_type": "code",
   "execution_count": 11,
   "metadata": {},
   "outputs": [
    {
     "name": "stdout",
     "output_type": "stream",
     "text": [
      "Requirement already satisfied: pillow in /usr/local/lib/python3.5/dist-packages (7.2.0)\r\n"
     ]
    }
   ],
   "source": [
    "!pip3 install pillow"
   ]
  },
  {
   "cell_type": "markdown",
   "metadata": {},
   "source": []
  },
  {
   "cell_type": "code",
   "execution_count": 69,
   "metadata": {},
   "outputs": [
    {
     "name": "stdout",
     "output_type": "stream",
     "text": [
      "rmdir: failed to remove '/notebooks/data/validation/.ipynb_checkpoints': No such file or directory\r\n"
     ]
    }
   ],
   "source": [
    "! rmdir /notebooks/data/validation/.ipynb_checkpoints"
   ]
  },
  {
   "cell_type": "markdown",
   "metadata": {},
   "source": [
    "# run littleVGG"
   ]
  },
  {
   "cell_type": "code",
   "execution_count": 2,
   "metadata": {},
   "outputs": [
    {
     "name": "stderr",
     "output_type": "stream",
     "text": [
      "Using TensorFlow backend.\n"
     ]
    }
   ],
   "source": [
    "from __future__ import print_function\n",
    "import keras\n",
    "from keras.preprocessing.image import ImageDataGenerator\n",
    "from keras.models import Sequential\n",
    "from keras.layers import Dense, Dropout, Activation, Flatten, BatchNormalization\n",
    "from keras.layers import Conv2D, MaxPooling2D\n",
    "from keras.preprocessing.image import ImageDataGenerator\n",
    "import os\n",
    "from keras.models import Sequential\n",
    "from keras.layers.normalization import BatchNormalization\n",
    "from keras.layers.convolutional import Conv2D, MaxPooling2D\n",
    "from keras.layers.advanced_activations import ELU\n",
    "from keras.layers.core import Activation, Flatten, Dropout, Dense\n",
    "from keras.optimizers import RMSprop, SGD, Adam\n",
    "from keras.callbacks import ModelCheckpoint, EarlyStopping, ReduceLROnPlateau\n",
    "from keras import regularizers\n",
    "from keras.regularizers import l1"
   ]
  },
  {
   "cell_type": "code",
   "execution_count": 3,
   "metadata": {},
   "outputs": [],
   "source": [
    "num_classes = 7\n",
    "img_rows, img_cols = 48, 48\n",
    "batch_size = 512\n",
    "\n",
    "train_data_dir = '/notebooks/data7cls/train'\n",
    "validation_data_dir = '/notebooks/data7cls/validation'"
   ]
  },
  {
   "cell_type": "code",
   "execution_count": 4,
   "metadata": {},
   "outputs": [
    {
     "name": "stdout",
     "output_type": "stream",
     "text": [
      "Found 25453 images belonging to 7 classes.\n",
      "Found 6229 images belonging to 7 classes.\n"
     ]
    }
   ],
   "source": [
    "# Let's use some data augmentaiton \n",
    "# train_datagen = ImageDataGenerator(rescale=1./255)\n",
    "val_datagen = ImageDataGenerator(rescale=1./255)\n",
    "train_datagen = ImageDataGenerator(\n",
    "        rescale=1./255,\n",
    "      rotation_range=30,\n",
    "      shear_range=0.3,\n",
    "      zoom_range=0.3,\n",
    "      horizontal_flip=True,\n",
    "      fill_mode='nearest')\n",
    "train_generator = train_datagen.flow_from_directory(\n",
    "        train_data_dir,\n",
    "        target_size=(48,48),\n",
    "        batch_size=batch_size,\n",
    "        color_mode=\"grayscale\",\n",
    "        class_mode='categorical')\n",
    "\n",
    "validation_generator = val_datagen.flow_from_directory(\n",
    "        validation_data_dir,\n",
    "        target_size=(48,48),\n",
    "        batch_size=batch_size,\n",
    "        color_mode=\"grayscale\",\n",
    "        class_mode='categorical')"
   ]
  },
  {
   "cell_type": "code",
   "execution_count": 5,
   "metadata": {},
   "outputs": [
    {
     "name": "stdout",
     "output_type": "stream",
     "text": [
      "{'confused': 1, 'neutral': 4, 'angry': 0, 'surprise': 6, 'sad': 5, 'distracted': 2, 'happy': 3}\n"
     ]
    }
   ],
   "source": [
    "print(validation_generator.class_indices)"
   ]
  },
  {
   "cell_type": "code",
   "execution_count": 6,
   "metadata": {},
   "outputs": [
    {
     "name": "stdout",
     "output_type": "stream",
     "text": [
      "WARNING:tensorflow:From /usr/local/lib/python3.5/dist-packages/tensorflow/python/framework/op_def_library.py:263: colocate_with (from tensorflow.python.framework.ops) is deprecated and will be removed in a future version.\n",
      "Instructions for updating:\n",
      "Colocations handled automatically by placer.\n",
      "_________________________________________________________________\n",
      "Layer (type)                 Output Shape              Param #   \n",
      "=================================================================\n",
      "conv2d_1 (Conv2D)            (None, 46, 46, 32)        320       \n",
      "_________________________________________________________________\n",
      "conv2d_2 (Conv2D)            (None, 44, 44, 64)        18496     \n",
      "_________________________________________________________________\n",
      "max_pooling2d_1 (MaxPooling2 (None, 22, 22, 64)        0         \n",
      "_________________________________________________________________\n",
      "conv2d_3 (Conv2D)            (None, 20, 20, 128)       73856     \n",
      "_________________________________________________________________\n",
      "max_pooling2d_2 (MaxPooling2 (None, 10, 10, 128)       0         \n",
      "_________________________________________________________________\n",
      "conv2d_4 (Conv2D)            (None, 8, 8, 128)         147584    \n",
      "_________________________________________________________________\n",
      "max_pooling2d_3 (MaxPooling2 (None, 4, 4, 128)         0         \n",
      "_________________________________________________________________\n",
      "conv2d_5 (Conv2D)            (None, 4, 4, 7)           903       \n",
      "_________________________________________________________________\n",
      "conv2d_6 (Conv2D)            (None, 1, 1, 7)           791       \n",
      "_________________________________________________________________\n",
      "flatten_1 (Flatten)          (None, 7)                 0         \n",
      "_________________________________________________________________\n",
      "activation_1 (Activation)    (None, 7)                 0         \n",
      "=================================================================\n",
      "Total params: 241,950\n",
      "Trainable params: 241,950\n",
      "Non-trainable params: 0\n",
      "_________________________________________________________________\n"
     ]
    }
   ],
   "source": [
    "# Create the model\n",
    "model = Sequential()\n",
    "\n",
    "model.add(Conv2D(32, kernel_size=(3, 3), activation='relu',kernel_regularizer=regularizers.l2(0.0001),input_shape=(48,48,1)))\n",
    "# model.add(BatchNormalization())\n",
    "\n",
    "model.add(Conv2D(64, kernel_size=(3, 3), activation='relu',kernel_regularizer=regularizers.l2(0.0001)))\n",
    "# model.add(BatchNormalization())\n",
    "model.add(MaxPooling2D(pool_size=(2, 2)))\n",
    "\n",
    "model.add(Conv2D(128, kernel_size=(3, 3), activation='relu', kernel_regularizer=regularizers.l2(0.0001)))\n",
    "# model.add(BatchNormalization())\n",
    "model.add(MaxPooling2D(pool_size=(2, 2)))\n",
    "\n",
    "model.add(Conv2D(128, kernel_size=(3, 3), activation='relu', kernel_regularizer=regularizers.l2(0.0001)))\n",
    "# model.add(BatchNormalization())\n",
    "model.add(MaxPooling2D(pool_size=(2, 2)))\n",
    "\n",
    "model.add(Conv2D(7, kernel_size=(1, 1), activation='relu', kernel_regularizer=regularizers.l2(0.0001)))\n",
    "# # model.add(BatchNormalization())\n",
    "\n",
    "model.add(Conv2D(7, kernel_size=(4, 4), activation='relu', kernel_regularizer=regularizers.l2(0.0001)))\n",
    "# model.add(BatchNormalization())\n",
    "\n",
    "model.add(Flatten())\n",
    "\n",
    "model.add(Activation(\"softmax\"))\n",
    "\n",
    "model.summary()\n",
    "# model.add(Dense(1024, activation='relu'))\n",
    "# model.add(Dropout(0.5))\n",
    "# model.add(Dense(7, activation='softmax'))"
   ]
  },
  {
   "cell_type": "code",
   "execution_count": 7,
   "metadata": {},
   "outputs": [],
   "source": [
    "%mkdir littleVGG7cls"
   ]
  },
  {
   "cell_type": "code",
   "execution_count": 8,
   "metadata": {},
   "outputs": [
    {
     "name": "stdout",
     "output_type": "stream",
     "text": [
      "WARNING:tensorflow:From /usr/local/lib/python3.5/dist-packages/tensorflow/python/ops/math_ops.py:3066: to_int32 (from tensorflow.python.ops.math_ops) is deprecated and will be removed in a future version.\n",
      "Instructions for updating:\n",
      "Use tf.cast instead.\n",
      "Epoch 1/150\n",
      "49/49 [==============================] - 113s 2s/step - loss: 1.9390 - acc: 0.1911 - val_loss: 1.8780 - val_acc: 0.2826\n",
      "\n",
      "Epoch 00001: val_acc improved from -inf to 0.28255, saving model to /notebooks/littleVGG7cls/model_littleVGG_1.hdf5\n",
      "Epoch 2/150\n",
      "49/49 [==============================] - 109s 2s/step - loss: 1.8867 - acc: 0.2787 - val_loss: 1.8668 - val_acc: 0.2926\n",
      "\n",
      "Epoch 00002: val_acc improved from 0.28255 to 0.29264, saving model to /notebooks/littleVGG7cls/model_littleVGG_2.hdf5\n",
      "Epoch 3/150\n",
      "49/49 [==============================] - 109s 2s/step - loss: 1.8757 - acc: 0.2842 - val_loss: 1.8569 - val_acc: 0.2974\n",
      "\n",
      "Epoch 00003: val_acc improved from 0.29264 to 0.29736, saving model to /notebooks/littleVGG7cls/model_littleVGG_3.hdf5\n",
      "Epoch 4/150\n",
      "49/49 [==============================] - 109s 2s/step - loss: 1.8544 - acc: 0.2811 - val_loss: 1.8298 - val_acc: 0.2939\n",
      "\n",
      "Epoch 00004: val_acc did not improve from 0.29736\n",
      "Epoch 5/150\n",
      "49/49 [==============================] - 110s 2s/step - loss: 1.8273 - acc: 0.2788 - val_loss: 1.8028 - val_acc: 0.2939\n",
      "\n",
      "Epoch 00005: val_acc did not improve from 0.29736\n",
      "Epoch 6/150\n",
      "49/49 [==============================] - 110s 2s/step - loss: 1.8065 - acc: 0.2861 - val_loss: 1.7886 - val_acc: 0.2986\n",
      "\n",
      "Epoch 00006: val_acc improved from 0.29736 to 0.29858, saving model to /notebooks/littleVGG7cls/model_littleVGG_6.hdf5\n",
      "Epoch 7/150\n",
      "49/49 [==============================] - 116s 2s/step - loss: 1.7929 - acc: 0.2888 - val_loss: 1.7710 - val_acc: 0.3002\n",
      "\n",
      "Epoch 00007: val_acc improved from 0.29858 to 0.30016, saving model to /notebooks/littleVGG7cls/model_littleVGG_7.hdf5\n",
      "Epoch 8/150\n",
      "49/49 [==============================] - 112s 2s/step - loss: 1.7841 - acc: 0.2895 - val_loss: 1.7552 - val_acc: 0.3176\n",
      "\n",
      "Epoch 00008: val_acc improved from 0.30016 to 0.31765, saving model to /notebooks/littleVGG7cls/model_littleVGG_8.hdf5\n",
      "Epoch 9/150\n",
      "49/49 [==============================] - 110s 2s/step - loss: 1.7752 - acc: 0.3034 - val_loss: 1.7494 - val_acc: 0.3252\n",
      "\n",
      "Epoch 00009: val_acc improved from 0.31765 to 0.32517, saving model to /notebooks/littleVGG7cls/model_littleVGG_9.hdf5\n",
      "Epoch 10/150\n",
      "49/49 [==============================] - 110s 2s/step - loss: 1.7709 - acc: 0.3018 - val_loss: 1.7487 - val_acc: 0.3360\n",
      "\n",
      "Epoch 00010: val_acc improved from 0.32517 to 0.33602, saving model to /notebooks/littleVGG7cls/model_littleVGG_10.hdf5\n",
      "Epoch 11/150\n",
      "49/49 [==============================] - 110s 2s/step - loss: 1.7685 - acc: 0.3046 - val_loss: 1.7328 - val_acc: 0.3341\n",
      "\n",
      "Epoch 00011: val_acc did not improve from 0.33602\n",
      "Epoch 12/150\n",
      "49/49 [==============================] - 110s 2s/step - loss: 1.7596 - acc: 0.3148 - val_loss: 1.7269 - val_acc: 0.3320\n",
      "\n",
      "Epoch 00013: val_acc did not improve from 0.34546\n",
      "Epoch 14/150\n",
      "49/49 [==============================] - 110s 2s/step - loss: 1.7464 - acc: 0.3235 - val_loss: 1.7182 - val_acc: 0.3338\n",
      "\n",
      "Epoch 00014: val_acc did not improve from 0.34546\n",
      "Epoch 15/150\n",
      "49/49 [==============================] - 110s 2s/step - loss: 1.7505 - acc: 0.3211 - val_loss: 1.7123 - val_acc: 0.3561\n",
      "\n",
      "Epoch 00015: val_acc improved from 0.34546 to 0.35613, saving model to /notebooks/littleVGG7cls/model_littleVGG_15.hdf5\n",
      "Epoch 16/150\n",
      "49/49 [==============================] - 110s 2s/step - loss: 1.7013 - acc: 0.3573 - val_loss: 1.6366 - val_acc: 0.3951\n",
      "\n",
      "Epoch 00026: val_acc improved from 0.39234 to 0.39514, saving model to /notebooks/littleVGG7cls/model_littleVGG_26.hdf5\n",
      "Epoch 27/150\n",
      "49/49 [==============================] - 111s 2s/step - loss: 1.7022 - acc: 0.3569 - val_loss: 1.6353 - val_acc: 0.3975\n",
      "\n",
      "Epoch 00027: val_acc improved from 0.39514 to 0.39746, saving model to /notebooks/littleVGG7cls/model_littleVGG_27.hdf5\n",
      "Epoch 28/150\n",
      "49/49 [==============================] - 110s 2s/step - loss: 1.6940 - acc: 0.3655 - val_loss: 1.6261 - val_acc: 0.3950\n",
      "\n",
      "Epoch 00028: val_acc did not improve from 0.39746\n",
      "Epoch 29/150\n",
      "49/49 [==============================] - 110s 2s/step - loss: 1.6911 - acc: 0.3631 - val_loss: 1.6286 - val_acc: 0.3964\n",
      "\n",
      "Epoch 00029: val_acc did not improve from 0.39746\n",
      "Epoch 30/150\n",
      "49/49 [==============================] - 110s 2s/step - loss: 1.6909 - acc: 0.3636 - val_loss: 1.6197 - val_acc: 0.4079\n",
      "\n",
      "Epoch 00030: val_acc improved from 0.39746 to 0.40791, saving model to /notebooks/littleVGG7cls/model_littleVGG_30.hdf5\n",
      "Epoch 31/150\n",
      "49/49 [==============================] - 110s 2s/step - loss: 1.6841 - acc: 0.3702 - val_loss: 1.6052 - val_acc: 0.4069\n",
      "\n",
      "Epoch 00031: val_acc did not improve from 0.40791\n",
      "Epoch 32/150\n",
      "49/49 [==============================] - 110s 2s/step - loss: 1.6841 - acc: 0.3685 - val_loss: 1.6094 - val_acc: 0.4196\n",
      "\n",
      "Epoch 00032: val_acc improved from 0.40791 to 0.41963, saving model to /notebooks/littleVGG7cls/model_littleVGG_32.hdf5\n",
      "Epoch 33/150\n",
      "49/49 [==============================] - 110s 2s/step - loss: 1.6761 - acc: 0.3748 - val_loss: 1.6146 - val_acc: 0.4053\n",
      "\n",
      "Epoch 00033: val_acc did not improve from 0.41963\n",
      "Epoch 34/150\n",
      "49/49 [==============================] - 110s 2s/step - loss: 1.6748 - acc: 0.3705 - val_loss: 1.5904 - val_acc: 0.4212\n",
      "\n",
      "Epoch 00034: val_acc improved from 0.41963 to 0.42120, saving model to /notebooks/littleVGG7cls/model_littleVGG_34.hdf5\n",
      "Epoch 35/150\n",
      "49/49 [==============================] - 110s 2s/step - loss: 1.6695 - acc: 0.3805 - val_loss: 1.6037 - val_acc: 0.4128\n",
      "\n",
      "Epoch 00036: val_acc did not improve from 0.42120\n",
      "Epoch 37/150\n",
      "49/49 [==============================] - 110s 2s/step - loss: 1.6645 - acc: 0.3831 - val_loss: 1.5798 - val_acc: 0.4202\n",
      "\n",
      "Epoch 00037: val_acc did not improve from 0.42120\n",
      "Epoch 38/150\n",
      "49/49 [==============================] - 110s 2s/step - loss: 1.6619 - acc: 0.3804 - val_loss: 1.5777 - val_acc: 0.4222\n",
      "\n",
      "Epoch 00038: val_acc improved from 0.42120 to 0.42225, saving model to /notebooks/littleVGG7cls/model_littleVGG_38.hdf5\n",
      "Epoch 39/150\n",
      "49/49 [==============================] - 110s 2s/step - loss: 1.6610 - acc: 0.3808 - val_loss: 1.5747 - val_acc: 0.4233\n",
      "\n",
      "Epoch 00039: val_acc improved from 0.42225 to 0.42330, saving model to /notebooks/littleVGG7cls/model_littleVGG_39.hdf5\n",
      "Epoch 40/150\n",
      "49/49 [==============================] - 111s 2s/step - loss: 1.6509 - acc: 0.3884 - val_loss: 1.5707 - val_acc: 0.4292\n",
      "\n",
      "Epoch 00040: val_acc improved from 0.42330 to 0.42920, saving model to /notebooks/littleVGG7cls/model_littleVGG_40.hdf5\n",
      "Epoch 41/150\n",
      "49/49 [==============================] - 109s 2s/step - loss: 1.6542 - acc: 0.3876 - val_loss: 1.5742 - val_acc: 0.4210\n",
      "\n",
      "Epoch 00041: val_acc did not improve from 0.42920\n",
      "Epoch 42/150\n",
      "49/49 [==============================] - 110s 2s/step - loss: 1.6525 - acc: 0.3886 - val_loss: 1.5562 - val_acc: 0.4382\n",
      "\n",
      "Epoch 00042: val_acc improved from 0.42920 to 0.43817, saving model to /notebooks/littleVGG7cls/model_littleVGG_42.hdf5\n",
      "Epoch 43/150\n",
      "49/49 [==============================] - 110s 2s/step - loss: 1.6502 - acc: 0.3897 - val_loss: 1.5801 - val_acc: 0.4212\n",
      "\n",
      "Epoch 00043: val_acc did not improve from 0.43817\n",
      "Epoch 44/150\n",
      "49/49 [==============================] - 110s 2s/step - loss: 1.6467 - acc: 0.3923 - val_loss: 1.5415 - val_acc: 0.4467\n",
      "\n",
      "Epoch 00044: val_acc improved from 0.43817 to 0.44674, saving model to /notebooks/littleVGG7cls/model_littleVGG_44.hdf5\n",
      "Epoch 45/150\n",
      "49/49 [==============================] - 110s 2s/step - loss: 1.6422 - acc: 0.3959 - val_loss: 1.5558 - val_acc: 0.4324\n",
      "\n",
      "Epoch 00045: val_acc did not improve from 0.44674\n",
      "Epoch 46/150\n",
      "49/49 [==============================] - 110s 2s/step - loss: 1.6341 - acc: 0.3975 - val_loss: 1.5593 - val_acc: 0.4371\n",
      "\n",
      "Epoch 00046: val_acc did not improve from 0.44674\n",
      "Epoch 47/150\n",
      "49/49 [==============================] - 110s 2s/step - loss: 1.6357 - acc: 0.3965 - val_loss: 1.5410 - val_acc: 0.4361\n",
      "\n",
      "Epoch 00047: val_acc did not improve from 0.44674\n",
      "Epoch 48/150\n",
      "49/49 [==============================] - 113s 2s/step - loss: 1.6381 - acc: 0.3978 - val_loss: 1.5379 - val_acc: 0.4432\n",
      "\n",
      "Epoch 00048: val_acc did not improve from 0.44674\n",
      "Epoch 49/150\n"
     ]
    },
    {
     "name": "stdout",
     "output_type": "stream",
     "text": [
      "49/49 [==============================] - 110s 2s/step - loss: 1.6338 - acc: 0.3961 - val_loss: 1.5547 - val_acc: 0.4371\n",
      "\n",
      "Epoch 00049: val_acc did not improve from 0.44674\n",
      "Epoch 50/150\n",
      "49/49 [==============================] - 110s 2s/step - loss: 1.6299 - acc: 0.3993 - val_loss: 1.5399 - val_acc: 0.4418\n",
      "\n",
      "Epoch 00050: val_acc did not improve from 0.44674\n",
      "Epoch 51/150\n",
      "49/49 [==============================] - 110s 2s/step - loss: 1.6264 - acc: 0.4009 - val_loss: 1.5289 - val_acc: 0.4515\n",
      "\n",
      "Epoch 00051: val_acc improved from 0.44674 to 0.45146, saving model to /notebooks/littleVGG7cls/model_littleVGG_51.hdf5\n",
      "Epoch 52/150\n",
      "49/49 [==============================] - 110s 2s/step - loss: 1.6254 - acc: 0.4053 - val_loss: 1.5324 - val_acc: 0.4471\n",
      "\n",
      "Epoch 00052: val_acc did not improve from 0.45146\n",
      "Epoch 53/150\n",
      "49/49 [==============================] - 110s 2s/step - loss: 1.6178 - acc: 0.4076 - val_loss: 1.5270 - val_acc: 0.4512\n",
      "\n",
      "Epoch 00053: val_acc did not improve from 0.45146\n",
      "Epoch 54/150\n",
      "49/49 [==============================] - 110s 2s/step - loss: 1.6173 - acc: 0.4083 - val_loss: 1.5234 - val_acc: 0.4495\n",
      "\n",
      "Epoch 00054: val_acc did not improve from 0.45146\n",
      "Epoch 55/150\n",
      "49/49 [==============================] - 110s 2s/step - loss: 1.6136 - acc: 0.4056 - val_loss: 1.5285 - val_acc: 0.4452\n",
      "\n",
      "Epoch 00055: val_acc did not improve from 0.45146\n",
      "Epoch 56/150\n",
      "49/49 [==============================] - 116s 2s/step - loss: 1.6162 - acc: 0.4077 - val_loss: 1.5163 - val_acc: 0.4497\n",
      "\n",
      "Epoch 00056: val_acc did not improve from 0.45146\n",
      "Epoch 57/150\n",
      "49/49 [==============================] - 116s 2s/step - loss: 1.6121 - acc: 0.4103 - val_loss: 1.5263 - val_acc: 0.4499\n",
      "\n",
      "Epoch 00057: val_acc did not improve from 0.45146\n",
      "Epoch 58/150\n",
      "49/49 [==============================] - 112s 2s/step - loss: 1.6081 - acc: 0.4135 - val_loss: 1.5101 - val_acc: 0.4585\n",
      "\n",
      "Epoch 00058: val_acc improved from 0.45146 to 0.45846, saving model to /notebooks/littleVGG7cls/model_littleVGG_58.hdf5\n",
      "Epoch 59/150\n",
      "49/49 [==============================] - 110s 2s/step - loss: 1.6135 - acc: 0.4103 - val_loss: 1.5205 - val_acc: 0.4522\n",
      "\n",
      "Epoch 00059: val_acc did not improve from 0.45846\n",
      "Epoch 60/150\n",
      "49/49 [==============================] - 110s 2s/step - loss: 1.6041 - acc: 0.4162 - val_loss: 1.5004 - val_acc: 0.4651\n",
      "\n",
      "Epoch 00060: val_acc improved from 0.45846 to 0.46510, saving model to /notebooks/littleVGG7cls/model_littleVGG_60.hdf5\n",
      "Epoch 61/150\n",
      "49/49 [==============================] - 110s 2s/step - loss: 1.6071 - acc: 0.4144 - val_loss: 1.5056 - val_acc: 0.4586\n",
      "\n",
      "Epoch 00061: val_acc did not improve from 0.46510\n",
      "Epoch 62/150\n",
      "49/49 [==============================] - 110s 2s/step - loss: 1.6031 - acc: 0.4159 - val_loss: 1.5174 - val_acc: 0.4588\n",
      "\n",
      "Epoch 00062: val_acc did not improve from 0.46510\n",
      "Epoch 63/150\n",
      "49/49 [==============================] - 110s 2s/step - loss: 1.6041 - acc: 0.4150 - val_loss: 1.5070 - val_acc: 0.4614\n",
      "\n",
      "Epoch 00063: val_acc did not improve from 0.46510\n",
      "Epoch 64/150\n",
      "49/49 [==============================] - 110s 2s/step - loss: 1.5961 - acc: 0.4201 - val_loss: 1.4776 - val_acc: 0.4571\n",
      "\n",
      "Epoch 00064: val_acc did not improve from 0.46510\n",
      "Epoch 65/150\n",
      "49/49 [==============================] - 110s 2s/step - loss: 1.5181 - acc: 0.4138 - val_loss: 1.4127 - val_acc: 0.4614\n",
      "\n",
      "Epoch 00065: val_acc did not improve from 0.46510\n",
      "Epoch 66/150\n",
      "49/49 [==============================] - 110s 2s/step - loss: 1.4945 - acc: 0.4198 - val_loss: 1.3934 - val_acc: 0.4704\n",
      "\n",
      "Epoch 00067: val_acc improved from 0.46510 to 0.47035, saving model to /notebooks/littleVGG7cls/model_littleVGG_67.hdf5\n",
      "Epoch 68/150\n",
      "49/49 [==============================] - 110s 2s/step - loss: 1.4787 - acc: 0.4280 - val_loss: 1.3896 - val_acc: 0.4700\n",
      "\n",
      "Epoch 00069: val_acc did not improve from 0.47035\n",
      "Epoch 70/150\n",
      "49/49 [==============================] - 111s 2s/step - loss: 1.4842 - acc: 0.4289 - val_loss: 1.3887 - val_acc: 0.4749\n",
      "\n",
      "Epoch 00070: val_acc improved from 0.47035 to 0.47490, saving model to /notebooks/littleVGG7cls/model_littleVGG_70.hdf5\n",
      "Epoch 71/150\n",
      "49/49 [==============================] - 110s 2s/step - loss: 1.4844 - acc: 0.4262 - val_loss: 1.3882 - val_acc: 0.4697\n",
      "\n",
      "Epoch 00071: val_acc did not improve from 0.47490\n",
      "Epoch 72/150\n",
      "49/49 [==============================] - 110s 2s/step - loss: 1.4791 - acc: 0.4286 - val_loss: 1.4119 - val_acc: 0.4576\n",
      "\n",
      "Epoch 00072: val_acc did not improve from 0.47490\n",
      "Epoch 73/150\n",
      "49/49 [==============================] - 145s 3s/step - loss: 1.4713 - acc: 0.4296 - val_loss: 1.3846 - val_acc: 0.4667\n",
      "\n",
      "Epoch 00074: val_acc did not improve from 0.47875\n",
      "Epoch 75/150\n",
      "49/49 [==============================] - 179s 4s/step - loss: 1.4701 - acc: 0.4288 - val_loss: 1.3686 - val_acc: 0.4782\n",
      "\n",
      "Epoch 00075: val_acc did not improve from 0.47875\n",
      "Epoch 76/150\n",
      "49/49 [==============================] - 179s 4s/step - loss: 1.4700 - acc: 0.4295 - val_loss: 1.3609 - val_acc: 0.4735\n",
      "\n",
      "Epoch 00076: val_acc did not improve from 0.47875\n",
      "Epoch 77/150\n",
      "49/49 [==============================] - 180s 4s/step - loss: 1.4680 - acc: 0.4315 - val_loss: 1.3685 - val_acc: 0.4723\n",
      "\n",
      "Epoch 00077: val_acc did not improve from 0.47875\n",
      "Epoch 78/150\n",
      "49/49 [==============================] - 180s 4s/step - loss: 1.4605 - acc: 0.4328 - val_loss: 1.3650 - val_acc: 0.4766\n",
      "\n",
      "Epoch 00078: val_acc did not improve from 0.47875\n",
      "Epoch 79/150\n",
      "49/49 [==============================] - 184s 4s/step - loss: 1.4620 - acc: 0.4318 - val_loss: 1.3582 - val_acc: 0.4810\n",
      "\n",
      "Epoch 00079: val_acc improved from 0.47875 to 0.48096, saving model to /notebooks/littleVGG7cls/model_littleVGG_79.hdf5\n",
      "Epoch 80/150\n",
      "49/49 [==============================] - 180s 4s/step - loss: 1.4584 - acc: 0.4349 - val_loss: 1.3631 - val_acc: 0.4702\n",
      "\n",
      "Epoch 00080: val_acc did not improve from 0.48096\n",
      "Epoch 81/150\n",
      "49/49 [==============================] - 181s 4s/step - loss: 1.4549 - acc: 0.4346 - val_loss: 1.3427 - val_acc: 0.4803\n",
      "\n",
      "Epoch 00081: val_acc did not improve from 0.48096\n",
      "Epoch 82/150\n",
      "49/49 [==============================] - 180s 4s/step - loss: 1.4515 - acc: 0.4348 - val_loss: 1.3655 - val_acc: 0.4742\n",
      "\n",
      "Epoch 00082: val_acc did not improve from 0.48096\n",
      "Epoch 83/150\n",
      "49/49 [==============================] - 180s 4s/step - loss: 1.4512 - acc: 0.4359 - val_loss: 1.3526 - val_acc: 0.4763\n",
      "\n",
      "Epoch 00083: val_acc did not improve from 0.48096\n",
      "Epoch 84/150\n",
      "49/49 [==============================] - 183s 4s/step - loss: 1.4495 - acc: 0.4405 - val_loss: 1.3451 - val_acc: 0.4824\n",
      "\n",
      "Epoch 00084: val_acc improved from 0.48096 to 0.48242, saving model to /notebooks/littleVGG7cls/model_littleVGG_84.hdf5\n",
      "Epoch 85/150\n",
      "49/49 [==============================] - 180s 4s/step - loss: 1.4521 - acc: 0.4350 - val_loss: 1.3585 - val_acc: 0.4775\n",
      "\n",
      "Epoch 00085: val_acc did not improve from 0.48242\n",
      "Epoch 86/150\n",
      "49/49 [==============================] - 180s 4s/step - loss: 1.4419 - acc: 0.4422 - val_loss: 1.3383 - val_acc: 0.4880\n",
      "\n",
      "Epoch 00086: val_acc improved from 0.48242 to 0.48802, saving model to /notebooks/littleVGG7cls/model_littleVGG_86.hdf5\n",
      "Epoch 87/150\n",
      "49/49 [==============================] - 179s 4s/step - loss: 1.4409 - acc: 0.4386 - val_loss: 1.3452 - val_acc: 0.4740\n",
      "\n",
      "Epoch 00087: val_acc did not improve from 0.48802\n",
      "Epoch 88/150\n",
      "49/49 [==============================] - 181s 4s/step - loss: 1.4298 - acc: 0.4452 - val_loss: 1.3397 - val_acc: 0.4875\n",
      "\n",
      "Epoch 00088: val_acc did not improve from 0.48802\n",
      "Epoch 89/150\n",
      "49/49 [==============================] - 184s 4s/step - loss: 1.4403 - acc: 0.4380 - val_loss: 1.3342 - val_acc: 0.4863\n",
      "\n",
      "Epoch 00089: val_acc did not improve from 0.48802\n",
      "Epoch 90/150\n",
      "49/49 [==============================] - 181s 4s/step - loss: 1.4314 - acc: 0.4457 - val_loss: 1.3394 - val_acc: 0.4826\n",
      "\n",
      "Epoch 00090: val_acc did not improve from 0.48802\n",
      "Epoch 91/150\n",
      "49/49 [==============================] - 176s 4s/step - loss: 1.4269 - acc: 0.4446 - val_loss: 1.3253 - val_acc: 0.4871\n",
      "\n",
      "Epoch 00091: val_acc did not improve from 0.48802\n",
      "Epoch 92/150\n",
      "49/49 [==============================] - 175s 4s/step - loss: 1.4274 - acc: 0.4445 - val_loss: 1.3281 - val_acc: 0.4894\n",
      "\n",
      "Epoch 00092: val_acc improved from 0.48802 to 0.48942, saving model to /notebooks/littleVGG7cls/model_littleVGG_92.hdf5\n",
      "Epoch 93/150\n",
      "49/49 [==============================] - 196s 4s/step - loss: 1.4325 - acc: 0.4444 - val_loss: 1.3206 - val_acc: 0.4891\n",
      "\n",
      "Epoch 00093: val_acc did not improve from 0.48942\n",
      "Epoch 94/150\n",
      "49/49 [==============================] - 204s 4s/step - loss: 1.4243 - acc: 0.4450 - val_loss: 1.3369 - val_acc: 0.4868\n",
      "\n",
      "Epoch 00094: val_acc did not improve from 0.48942\n",
      "Epoch 95/150\n",
      "49/49 [==============================] - 185s 4s/step - loss: 1.4202 - acc: 0.4438 - val_loss: 1.3314 - val_acc: 0.4780\n",
      "\n",
      "Epoch 00095: val_acc did not improve from 0.48942\n",
      "Epoch 96/150\n",
      "49/49 [==============================] - 181s 4s/step - loss: 1.4213 - acc: 0.4461 - val_loss: 1.3144 - val_acc: 0.4891\n",
      "\n",
      "Epoch 00096: val_acc did not improve from 0.48942\n",
      "Epoch 97/150\n",
      "49/49 [==============================] - 180s 4s/step - loss: 1.4195 - acc: 0.4448 - val_loss: 1.3195 - val_acc: 0.4908\n",
      "\n",
      "Epoch 00097: val_acc improved from 0.48942 to 0.49082, saving model to /notebooks/littleVGG7cls/model_littleVGG_97.hdf5\n",
      "Epoch 98/150\n",
      "49/49 [==============================] - 181s 4s/step - loss: 1.4183 - acc: 0.4483 - val_loss: 1.3308 - val_acc: 0.4864\n",
      "\n",
      "Epoch 00098: val_acc did not improve from 0.49082\n",
      "Epoch 99/150\n",
      "49/49 [==============================] - 185s 4s/step - loss: 1.4132 - acc: 0.4482 - val_loss: 1.3160 - val_acc: 0.4920\n",
      "\n",
      "Epoch 00099: val_acc improved from 0.49082 to 0.49204, saving model to /notebooks/littleVGG7cls/model_littleVGG_99.hdf5\n",
      "Epoch 100/150\n",
      "49/49 [==============================] - 180s 4s/step - loss: 1.4107 - acc: 0.4459 - val_loss: 1.3253 - val_acc: 0.4815\n",
      "\n",
      "Epoch 00100: val_acc did not improve from 0.49204\n",
      "Epoch 101/150\n",
      "49/49 [==============================] - 181s 4s/step - loss: 1.4101 - acc: 0.4501 - val_loss: 1.3059 - val_acc: 0.5006\n",
      "\n",
      "Epoch 00101: val_acc improved from 0.49204 to 0.50061, saving model to /notebooks/littleVGG7cls/model_littleVGG_101.hdf5\n",
      "Epoch 102/150\n",
      "49/49 [==============================] - 181s 4s/step - loss: 1.4097 - acc: 0.4507 - val_loss: 1.3017 - val_acc: 0.4987\n",
      "\n",
      "Epoch 00102: val_acc did not improve from 0.50061\n",
      "Epoch 103/150\n",
      "49/49 [==============================] - 180s 4s/step - loss: 1.4120 - acc: 0.4490 - val_loss: 1.3092 - val_acc: 0.4903\n",
      "\n",
      "Epoch 00103: val_acc did not improve from 0.50061\n",
      "Epoch 104/150\n",
      "49/49 [==============================] - 182s 4s/step - loss: 1.4049 - acc: 0.4499 - val_loss: 1.2981 - val_acc: 0.4996\n",
      "\n",
      "Epoch 00104: val_acc did not improve from 0.50061\n",
      "Epoch 105/150\n",
      "49/49 [==============================] - 180s 4s/step - loss: 1.4057 - acc: 0.4508 - val_loss: 1.2955 - val_acc: 0.4961\n",
      "\n",
      "Epoch 00106: val_acc did not improve from 0.50061\n",
      "Epoch 107/150\n",
      "49/49 [==============================] - 179s 4s/step - loss: 1.3998 - acc: 0.4554 - val_loss: 1.2942 - val_acc: 0.4947\n",
      "\n",
      "Epoch 00107: val_acc did not improve from 0.50061\n",
      "Epoch 108/150\n",
      "49/49 [==============================] - 180s 4s/step - loss: 1.3995 - acc: 0.4545 - val_loss: 1.2862 - val_acc: 0.5008\n",
      "\n",
      "Epoch 00108: val_acc improved from 0.50061 to 0.50079, saving model to /notebooks/littleVGG7cls/model_littleVGG_108.hdf5\n",
      "Epoch 109/150\n",
      "49/49 [==============================] - 184s 4s/step - loss: 1.3960 - acc: 0.4573 - val_loss: 1.2935 - val_acc: 0.5092\n",
      "\n",
      "Epoch 00109: val_acc improved from 0.50079 to 0.50918, saving model to /notebooks/littleVGG7cls/model_littleVGG_109.hdf5\n",
      "Epoch 110/150\n",
      "49/49 [==============================] - 180s 4s/step - loss: 1.3824 - acc: 0.4628 - val_loss: 1.2700 - val_acc: 0.5235\n",
      "\n",
      "Epoch 00110: val_acc improved from 0.50918 to 0.52353, saving model to /notebooks/littleVGG7cls/model_littleVGG_110.hdf5\n",
      "Epoch 111/150\n",
      "49/49 [==============================] - 179s 4s/step - loss: 1.3809 - acc: 0.4678 - val_loss: 1.2596 - val_acc: 0.5197\n",
      "\n",
      "Epoch 00111: val_acc did not improve from 0.52353\n",
      "Epoch 112/150\n",
      "49/49 [==============================] - 179s 4s/step - loss: 1.3771 - acc: 0.4688 - val_loss: 1.2639 - val_acc: 0.5218\n",
      "\n",
      "Epoch 00112: val_acc did not improve from 0.52353\n",
      "Epoch 113/150\n",
      "49/49 [==============================] - 180s 4s/step - loss: 1.3874 - acc: 0.4644 - val_loss: 1.2935 - val_acc: 0.5062\n",
      "\n",
      "Epoch 00113: val_acc did not improve from 0.52353\n",
      "Epoch 114/150\n",
      "49/49 [==============================] - 181s 4s/step - loss: 1.3678 - acc: 0.4687 - val_loss: 1.2606 - val_acc: 0.5130\n",
      "\n",
      "Epoch 00114: val_acc did not improve from 0.52353\n",
      "Epoch 115/150\n",
      "49/49 [==============================] - 182s 4s/step - loss: 1.3768 - acc: 0.4662 - val_loss: 1.2518 - val_acc: 0.5199\n",
      "\n",
      "Epoch 00115: val_acc did not improve from 0.52353\n",
      "Epoch 116/150\n",
      "49/49 [==============================] - 182s 4s/step - loss: 1.3710 - acc: 0.4728 - val_loss: 1.2598 - val_acc: 0.5188\n",
      "\n",
      "Epoch 00116: val_acc did not improve from 0.52353\n",
      "Epoch 117/150\n",
      "49/49 [==============================] - 181s 4s/step - loss: 1.3713 - acc: 0.4656 - val_loss: 1.2516 - val_acc: 0.5298\n",
      "\n",
      "Epoch 00117: val_acc improved from 0.52353 to 0.52982, saving model to /notebooks/littleVGG7cls/model_littleVGG_117.hdf5\n",
      "Epoch 118/150\n",
      "49/49 [==============================] - 182s 4s/step - loss: 1.3622 - acc: 0.4735 - val_loss: 1.2554 - val_acc: 0.5275\n",
      "\n",
      "Epoch 00118: val_acc did not improve from 0.52982\n",
      "Epoch 119/150\n",
      "49/49 [==============================] - 182s 4s/step - loss: 1.3625 - acc: 0.4750 - val_loss: 1.2454 - val_acc: 0.5307\n",
      "\n",
      "Epoch 00119: val_acc improved from 0.52982 to 0.53070, saving model to /notebooks/littleVGG7cls/model_littleVGG_119.hdf5\n",
      "Epoch 120/150\n",
      "49/49 [==============================] - 182s 4s/step - loss: 1.3657 - acc: 0.4717 - val_loss: 1.2467 - val_acc: 0.5220\n",
      "\n",
      "Epoch 00120: val_acc did not improve from 0.53070\n",
      "Epoch 121/150\n",
      "49/49 [==============================] - 179s 4s/step - loss: 1.3572 - acc: 0.4752 - val_loss: 1.2409 - val_acc: 0.5295\n",
      "\n",
      "Epoch 00121: val_acc did not improve from 0.53070\n",
      "Epoch 122/150\n",
      "49/49 [==============================] - 180s 4s/step - loss: 1.3506 - acc: 0.4786 - val_loss: 1.2603 - val_acc: 0.5221\n",
      "\n",
      "Epoch 00122: val_acc did not improve from 0.53070\n",
      "Epoch 123/150\n",
      "49/49 [==============================] - 179s 4s/step - loss: 1.3619 - acc: 0.4720 - val_loss: 1.2417 - val_acc: 0.5307\n",
      "\n",
      "Epoch 00123: val_acc improved from 0.53070 to 0.53070, saving model to /notebooks/littleVGG7cls/model_littleVGG_123.hdf5\n",
      "Epoch 124/150\n",
      "49/49 [==============================] - 180s 4s/step - loss: 1.3661 - acc: 0.4700 - val_loss: 1.2309 - val_acc: 0.5354\n",
      "\n",
      "Epoch 00124: val_acc improved from 0.53070 to 0.53542, saving model to /notebooks/littleVGG7cls/model_littleVGG_124.hdf5\n",
      "Epoch 125/150\n",
      "49/49 [==============================] - 183s 4s/step - loss: 1.3524 - acc: 0.4770 - val_loss: 1.2433 - val_acc: 0.5277\n",
      "\n",
      "Epoch 00125: val_acc did not improve from 0.53542\n",
      "Epoch 126/150\n",
      "49/49 [==============================] - 180s 4s/step - loss: 1.3542 - acc: 0.4753 - val_loss: 1.2435 - val_acc: 0.5225\n",
      "\n",
      "Epoch 00126: val_acc did not improve from 0.53542\n",
      "Epoch 127/150\n",
      "49/49 [==============================] - 181s 4s/step - loss: 1.3611 - acc: 0.4734 - val_loss: 1.2368 - val_acc: 0.5328\n",
      "\n",
      "Epoch 00127: val_acc did not improve from 0.53542\n",
      "Epoch 128/150\n",
      "49/49 [==============================] - 180s 4s/step - loss: 1.3559 - acc: 0.4761 - val_loss: 1.2261 - val_acc: 0.5347\n",
      "\n",
      "Epoch 00128: val_acc did not improve from 0.53542\n",
      "Epoch 129/150\n",
      "49/49 [==============================] - 181s 4s/step - loss: 1.3436 - acc: 0.4790 - val_loss: 1.2381 - val_acc: 0.5284\n",
      "\n",
      "Epoch 00129: val_acc did not improve from 0.53542\n",
      "Epoch 130/150\n",
      "49/49 [==============================] - 182s 4s/step - loss: 1.3434 - acc: 0.4803 - val_loss: 1.2388 - val_acc: 0.5321\n",
      "\n",
      "Epoch 00130: val_acc did not improve from 0.53542\n",
      "Epoch 131/150\n",
      "49/49 [==============================] - 181s 4s/step - loss: 1.3458 - acc: 0.4822 - val_loss: 1.2240 - val_acc: 0.5356\n",
      "\n",
      "Epoch 00131: val_acc improved from 0.53542 to 0.53564, saving model to /notebooks/littleVGG7cls/model_littleVGG_131.hdf5\n",
      "Epoch 132/150\n",
      "49/49 [==============================] - 177s 4s/step - loss: 1.3485 - acc: 0.4812 - val_loss: 1.2298 - val_acc: 0.5351\n",
      "\n",
      "Epoch 00132: val_acc did not improve from 0.53564\n",
      "Epoch 133/150\n",
      "49/49 [==============================] - 180s 4s/step - loss: 1.3474 - acc: 0.4795 - val_loss: 1.2361 - val_acc: 0.5303\n",
      "\n",
      "Epoch 00134: val_acc did not improve from 0.53564\n",
      "Epoch 135/150\n"
     ]
    },
    {
     "name": "stdout",
     "output_type": "stream",
     "text": [
      "49/49 [==============================] - 183s 4s/step - loss: 1.3347 - acc: 0.4842 - val_loss: 1.2221 - val_acc: 0.5356\n",
      "\n",
      "Epoch 00135: val_acc did not improve from 0.53564\n",
      "Epoch 136/150\n",
      "49/49 [==============================] - 183s 4s/step - loss: 1.3331 - acc: 0.4880 - val_loss: 1.2214 - val_acc: 0.5335\n",
      "\n",
      "Epoch 00136: val_acc did not improve from 0.53564\n",
      "Epoch 137/150\n",
      "49/49 [==============================] - 190s 4s/step - loss: 1.3394 - acc: 0.4802 - val_loss: 1.2116 - val_acc: 0.5464\n",
      "\n",
      "Epoch 00137: val_acc improved from 0.53564 to 0.54644, saving model to /notebooks/littleVGG7cls/model_littleVGG_137.hdf5\n",
      "Epoch 138/150\n",
      "49/49 [==============================] - 179s 4s/step - loss: 1.3310 - acc: 0.4858 - val_loss: 1.2250 - val_acc: 0.5275\n",
      "\n",
      "Epoch 00138: val_acc did not improve from 0.54644\n",
      "Epoch 139/150\n",
      "49/49 [==============================] - 181s 4s/step - loss: 1.3348 - acc: 0.4817 - val_loss: 1.2058 - val_acc: 0.5436\n",
      "\n",
      "Epoch 00139: val_acc did not improve from 0.54644\n",
      "Epoch 140/150\n",
      "49/49 [==============================] - 182s 4s/step - loss: 1.3268 - acc: 0.4850 - val_loss: 1.2269 - val_acc: 0.5300\n",
      "\n",
      "Epoch 00140: val_acc did not improve from 0.54644\n",
      "Epoch 141/150\n",
      "49/49 [==============================] - 181s 4s/step - loss: 1.3341 - acc: 0.4859 - val_loss: 1.2130 - val_acc: 0.5370\n",
      "\n",
      "Epoch 00141: val_acc did not improve from 0.54644\n",
      "Epoch 142/150\n",
      "49/49 [==============================] - 179s 4s/step - loss: 1.3285 - acc: 0.4874 - val_loss: 1.2180 - val_acc: 0.5368\n",
      "\n",
      "Epoch 00142: val_acc did not improve from 0.54644\n",
      "Epoch 143/150\n",
      "49/49 [==============================] - 181s 4s/step - loss: 1.3240 - acc: 0.4922 - val_loss: 1.2060 - val_acc: 0.5459\n",
      "\n",
      "Epoch 00144: val_acc did not improve from 0.54644\n",
      "Epoch 145/150\n",
      "49/49 [==============================] - 182s 4s/step - loss: 1.3278 - acc: 0.4877 - val_loss: 1.2114 - val_acc: 0.5384\n",
      "\n",
      "Epoch 00145: val_acc did not improve from 0.54644\n",
      "Epoch 146/150\n",
      "49/49 [==============================] - 180s 4s/step - loss: 1.3288 - acc: 0.4903 - val_loss: 1.1958 - val_acc: 0.5442\n",
      "\n",
      "Epoch 00146: val_acc did not improve from 0.54644\n",
      "Epoch 147/150\n",
      "49/49 [==============================] - 180s 4s/step - loss: 1.3236 - acc: 0.4882 - val_loss: 1.2124 - val_acc: 0.5408\n",
      "\n",
      "Epoch 00147: val_acc did not improve from 0.54644\n",
      "Epoch 148/150\n",
      "49/49 [==============================] - 181s 4s/step - loss: 1.3220 - acc: 0.4938 - val_loss: 1.2034 - val_acc: 0.5389\n",
      "\n",
      "Epoch 00148: val_acc did not improve from 0.54644\n",
      "Epoch 149/150\n",
      "49/49 [==============================] - 180s 4s/step - loss: 1.3186 - acc: 0.4938 - val_loss: 1.2071 - val_acc: 0.5463\n",
      "\n",
      "Epoch 00149: val_acc did not improve from 0.54644\n",
      "Epoch 150/150\n",
      "49/49 [==============================] - 181s 4s/step - loss: 1.3185 - acc: 0.4924 - val_loss: 1.2022 - val_acc: 0.5461\n",
      "\n",
      "Epoch 00150: val_acc did not improve from 0.54644\n",
      "CPU times: user 1d 3h 19min 37s, sys: 4h 40min 26s, total: 1d 8h 4s\n",
      "Wall time: 6h 6min 19s\n"
     ]
    }
   ],
   "source": [
    "%%time\n",
    "filepath = os.path.join(\"/notebooks/littleVGG7cls/model_littleVGG_{epoch}.hdf5\")\n",
    "\n",
    "checkpoint = keras.callbacks.ModelCheckpoint(filepath,\n",
    "                                             monitor='val_acc',\n",
    "                                             verbose=1,\n",
    "                                             save_best_only=True,\n",
    "                                             mode='max')\n",
    "callbacks = [checkpoint]\n",
    "# if mode == \"train\":\n",
    "model.compile(loss='categorical_crossentropy',optimizer=Adam(lr=0.0001, decay=1e-6),metrics=['accuracy'])\n",
    "# Found 25453 images belonging to 7 classes.\n",
    "# Found 6229 images belonging to 7 classes.\n",
    "\n",
    "nb_train_samples = 25453\n",
    "nb_validation_samples = 6229\n",
    "epochs = 150\n",
    "model_info = model.fit_generator(\n",
    "            train_generator,\n",
    "            steps_per_epoch=nb_train_samples // batch_size,\n",
    "            epochs=epochs,\n",
    "            callbacks = callbacks,\n",
    "            validation_data=validation_generator,\n",
    "            validation_steps=nb_validation_samples // batch_size)"
   ]
  },
  {
   "cell_type": "markdown",
   "metadata": {},
   "source": [
    "## Analyze the result"
   ]
  },
  {
   "cell_type": "code",
   "execution_count": 14,
   "metadata": {},
   "outputs": [
    {
     "name": "stdout",
     "output_type": "stream",
     "text": [
      "dict_keys(['acc', 'loss', 'val_loss', 'val_acc'])\n"
     ]
    },
    {
     "data": {
      "text/plain": [
       "<Figure size 640x480 with 1 Axes>"
      ]
     },
     "metadata": {},
     "output_type": "display_data"
    }
   ],
   "source": [
    "print(model_info.history.keys())\n",
    "\n",
    "import matplotlib.pyplot as plt\n",
    "plt.plot(model_info.history['loss'])\n",
    "plt.plot(model_info.history['val_loss'])\n",
    "plt.title('model loss')\n",
    "plt.ylabel('loss')\n",
    "plt.xlabel('epoch')\n",
    "plt.legend(['train', 'test'], loc='upper left')\n",
    "plt.show()"
   ]
  },
  {
   "cell_type": "markdown",
   "metadata": {},
   "source": [
    "## Confusion Matrix"
   ]
  },
  {
   "cell_type": "code",
   "execution_count": 11,
   "metadata": {},
   "outputs": [
    {
     "name": "stdout",
     "output_type": "stream",
     "text": [
      "Found 6229 images belonging to 7 classes.\n",
      "Confusion Matrix\n",
      "[[ 271    1    0  144  301  145   98]\n",
      " [   5  139    0    0    6    9    3]\n",
      " [   0   41    0    7   23   29   30]\n",
      " [ 131    1    0 1311  202  101   79]\n",
      " [ 114    0    0  169  713  141   79]\n",
      " [ 162    0    0  153  379  364   81]\n",
      " [  39    0    0   73   82   40  563]]\n",
      "Classification Report\n",
      "              precision    recall  f1-score   support\n",
      "\n",
      "       angry       0.38      0.28      0.32       960\n",
      "    confused       0.76      0.86      0.81       162\n",
      "  distracted       0.00      0.00      0.00       130\n",
      "       happy       0.71      0.72      0.71      1825\n",
      "     neutral       0.42      0.59      0.49      1216\n",
      "         sad       0.44      0.32      0.37      1139\n",
      "    surprise       0.60      0.71      0.65       797\n",
      "\n",
      "    accuracy                           0.54      6229\n",
      "   macro avg       0.47      0.50      0.48      6229\n",
      "weighted avg       0.52      0.54      0.53      6229\n",
      "\n"
     ]
    },
    {
     "name": "stderr",
     "output_type": "stream",
     "text": [
      "/usr/local/lib/python3.5/dist-packages/sklearn/metrics/classification.py:1437: UndefinedMetricWarning: Precision and F-score are ill-defined and being set to 0.0 in labels with no predicted samples.\n",
      "  'precision', 'predicted', average, warn_for)\n"
     ]
    }
   ],
   "source": [
    "import sklearn\n",
    "from sklearn.metrics import classification_report, confusion_matrix\n",
    "import numpy as np\n",
    "import matplotlib.pyplot as plt\n",
    "\n",
    "# nb_train_samples = 25453\n",
    "# nb_validation_samples = 6229\n",
    "\n",
    "nb_train_samples = 25453\n",
    "nb_validation_samples = 6229\n",
    "\n",
    "# We need to recreate our validation generator with shuffle = false\n",
    "validation_generator = val_datagen.flow_from_directory(\n",
    "        validation_data_dir,\n",
    "        color_mode = 'grayscale',\n",
    "        target_size=(img_rows, img_cols),\n",
    "        batch_size=batch_size,\n",
    "        class_mode='categorical',\n",
    "        shuffle=False)\n",
    "\n",
    "class_labels = validation_generator.class_indices\n",
    "class_labels = {v: k for k, v in class_labels.items()}\n",
    "classes = list(class_labels.values())\n",
    "\n",
    "#Confution Matrix and Classification Report\n",
    "Y_pred = model.predict_generator(validation_generator, nb_validation_samples // batch_size+1)\n",
    "y_pred = np.argmax(Y_pred, axis=1)\n",
    "\n",
    "print('Confusion Matrix')\n",
    "print(confusion_matrix(validation_generator.classes, y_pred))\n",
    "print('Classification Report')\n",
    "target_names = list(class_labels.values())\n",
    "print(classification_report(validation_generator.classes, y_pred, target_names=target_names))\n",
    "\n",
    "plt.figure(figsize=(8,8))\n",
    "cnf_matrix = confusion_matrix(validation_generator.classes, y_pred)\n",
    "\n",
    "plt.imshow(cnf_matrix, interpolation='nearest')\n",
    "plt.colorbar()\n",
    "tick_marks = np.arange(len(classes))\n",
    "_ = plt.xticks(tick_marks, classes, rotation=90)\n",
    "_ = plt.yticks(tick_marks, classes)"
   ]
  },
  {
   "cell_type": "code",
   "execution_count": null,
   "metadata": {},
   "outputs": [],
   "source": [
    "def plot_confusion_matrix(cm, classes, title='Confusion matrix', cmap=plt.cm.Blues):\n",
    "    cm = cm.astype('float') / cm.sum(axis=1)#[:, np.newaxis]\n",
    "    plt.figure(figsize=(10,10))\n",
    "    plt.imshow(cm, interpolation='nearest', cmap=cmap)\n",
    "    plt.title(title)\n",
    "    plt.colorbar()\n",
    "    tick_marks = np.arange(len(classes))\n",
    "    plt.xticks(tick_marks, classes, rotation=45)\n",
    "    plt.yticks(tick_marks, classes)"
   ]
  },
  {
   "cell_type": "code",
   "execution_count": 12,
   "metadata": {},
   "outputs": [
    {
     "data": {
      "image/png": "[encoded data removed]",
      "text/plain": [
       "<Figure size 720x720 with 2 Axes>"
      ]
     },
     "metadata": {
      "needs_background": "light"
     },
     "output_type": "display_data"
    }
   ],
   "source": [
    "import itertools\n",
    "cm=cnf_matrix\n",
    "cm = cm.astype('float') / cm.sum(axis=1)\n",
    "plt.figure(figsize=(10,10))\n",
    "plt.imshow(cm, interpolation='nearest', cmap=plt.cm.Blues)\n",
    "plt.colorbar()\n",
    "tick_marks = np.arange(len(classes))\n",
    "_ = plt.xticks(tick_marks, classes, rotation=90)\n",
    "_ = plt.yticks(tick_marks, classes)\n",
    "\n",
    "fmt = '.2f'\n",
    "thresh = cm.max() / 2.\n",
    "for i, j in itertools.product(range(cm.shape[0]), range(cm.shape[1])):\n",
    "    plt.text(j, i, format(cm[i, j], fmt),horizontalalignment=\"center\",color=\"white\" if cm[i, j] > thresh else \"black\")"
   ]
  },
  {
   "cell_type": "code",
   "execution_count": null,
   "metadata": {},
   "outputs": [],
   "source": []
  },
  {
   "cell_type": "code",
   "execution_count": null,
   "metadata": {},
   "outputs": [],
   "source": []
  },
  {
   "cell_type": "code",
   "execution_count": null,
   "metadata": {},
   "outputs": [],
   "source": [
    "# option 2: setup transfer learning code, using 9 classes wts for 7 classes - Michelle"
   ]
  },
  {
   "cell_type": "code",
   "execution_count": null,
   "metadata": {},
   "outputs": [],
   "source": []
  },
  {
   "cell_type": "markdown",
   "metadata": {},
   "source": [
    "## Model 2 : littleVGG"
   ]
  },
  {
   "cell_type": "code",
   "execution_count": 15,
   "metadata": {},
   "outputs": [
    {
     "name": "stdout",
     "output_type": "stream",
     "text": [
      "/notebooks\r\n"
     ]
    }
   ],
   "source": [
    "!pwd"
   ]
  },
  {
   "cell_type": "code",
   "execution_count": 16,
   "metadata": {},
   "outputs": [],
   "source": [
    "%cp -r /notebooks/data7cls_newimg_randomsplit /notebooks/W251_FinalProject"
   ]
  },
  {
   "cell_type": "code",
   "execution_count": 19,
   "metadata": {},
   "outputs": [
    {
     "name": "stdout",
     "output_type": "stream",
     "text": [
      "/notebooks/W251_FinalProject\n"
     ]
    }
   ],
   "source": [
    "%cd W251_FinalProject"
   ]
  },
  {
   "cell_type": "code",
   "execution_count": 20,
   "metadata": {},
   "outputs": [
    {
     "name": "stdout",
     "output_type": "stream",
     "text": [
      "/notebooks/W251_FinalProject\r\n"
     ]
    }
   ],
   "source": [
    "!pwd"
   ]
  },
  {
   "cell_type": "code",
   "execution_count": 21,
   "metadata": {},
   "outputs": [],
   "source": [
    "!git add ."
   ]
  },
  {
   "cell_type": "code",
   "execution_count": null,
   "metadata": {},
   "outputs": [],
   "source": []
  }
 ],
 "metadata": {
  "kernelspec": {
   "display_name": "Python 3",
   "language": "python",
   "name": "python3"
  },
  "language_info": {
   "codemirror_mode": {
    "name": "ipython",
    "version": 3
   },
   "file_extension": ".py",
   "mimetype": "text/x-python",
   "name": "python",
   "nbconvert_exporter": "python",
   "pygments_lexer": "ipython3",
   "version": "3.5.2"
  }
 },
 "nbformat": 4,
 "nbformat_minor": 2
}
