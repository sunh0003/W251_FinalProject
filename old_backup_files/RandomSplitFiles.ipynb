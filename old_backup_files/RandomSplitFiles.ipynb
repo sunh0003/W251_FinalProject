{
 "cells": [
  {
   "cell_type": "code",
   "execution_count": 26,
   "metadata": {},
   "outputs": [
    {
     "name": "stdout",
     "output_type": "stream",
     "text": [
      "/notebooks\r\n"
     ]
    }
   ],
   "source": [
    "!pwd"
   ]
  },
  {
   "cell_type": "code",
   "execution_count": 84,
   "metadata": {},
   "outputs": [],
   "source": [
    "base_path = '/notebooks/data5cls_newimg_randomsplit/'"
   ]
  },
  {
   "cell_type": "markdown",
   "metadata": {},
   "source": [
    "### copy all files into new folder data7cls_randomsplit"
   ]
  },
  {
   "cell_type": "code",
   "execution_count": 93,
   "metadata": {},
   "outputs": [],
   "source": [
    "!cp -r data9cls_newimg_randomsplit data7cls_newimg_randomsplit"
   ]
  },
  {
   "cell_type": "code",
   "execution_count": 103,
   "metadata": {},
   "outputs": [],
   "source": [
    "!rm -r /notebooks/data7cls_newimg_randomsplit/train/fear"
   ]
  },
  {
   "cell_type": "code",
   "execution_count": 48,
   "metadata": {},
   "outputs": [],
   "source": [
    "!mv /notebooks/data7cls_newimg_randomsplit/validation/confused/*.* /notebooks/data7cls_newimg_randomsplit/train/confused/."
   ]
  },
  {
   "cell_type": "code",
   "execution_count": 49,
   "metadata": {},
   "outputs": [],
   "source": [
    "!mv /notebooks/data7cls_newimg_randomsplit/validation/distracted/*.* /notebooks/data7cls_newimg_randomsplit/train/distracted/."
   ]
  },
  {
   "cell_type": "markdown",
   "metadata": {},
   "source": [
    "### Count Number of images"
   ]
  },
  {
   "cell_type": "code",
   "execution_count": 78,
   "metadata": {},
   "outputs": [],
   "source": [
    "!rm -rf /notebooks/data7cls_newing_randomsplit/train/.ipynb_checkpoints"
   ]
  },
  {
   "cell_type": "code",
   "execution_count": 106,
   "metadata": {
    "scrolled": true
   },
   "outputs": [
    {
     "data": {
      "text/plain": [
       "['distracted', 'sad', 'confused', 'angry', 'surprise', 'happy', 'neutral']"
      ]
     },
     "execution_count": 106,
     "metadata": {},
     "output_type": "execute_result"
    }
   ],
   "source": [
    "os.listdir(base_path + \"validation\")"
   ]
  },
  {
   "cell_type": "code",
   "execution_count": 107,
   "metadata": {
    "scrolled": true
   },
   "outputs": [
    {
     "name": "stdout",
     "output_type": "stream",
     "text": [
      "655 distracted images\n",
      "4938 sad images\n",
      "649 confused images\n",
      "3993 angry images\n",
      "3205 surprise images\n",
      "7164 happy images\n",
      "4982 neutral images\n"
     ]
    }
   ],
   "source": [
    "import os\n",
    "for expression in os.listdir(base_path + \"train\"):\n",
    "    print(str(len(os.listdir(base_path + \"train/\" + expression))) + \" \" + expression + \" images\")"
   ]
  },
  {
   "cell_type": "code",
   "execution_count": 108,
   "metadata": {},
   "outputs": [
    {
     "name": "stdout",
     "output_type": "stream",
     "text": [
      "165 distracted images\n",
      "1139 sad images\n",
      "163 confused images\n",
      "960 angry images\n",
      "797 surprise images\n",
      "1825 happy images\n",
      "1216 neutral images\n"
     ]
    }
   ],
   "source": [
    "for expression in os.listdir(base_path + \"validation\"):\n",
    "    print(str(len(os.listdir(base_path + \"validation/\" + expression))) + \" \" + expression + \" images\")"
   ]
  },
  {
   "cell_type": "code",
   "execution_count": 38,
   "metadata": {},
   "outputs": [
    {
     "data": {
      "text/plain": [
       "162.20000000000002"
      ]
     },
     "execution_count": 38,
     "metadata": {},
     "output_type": "execute_result"
    }
   ],
   "source": [
    "0.2 * 811"
   ]
  },
  {
   "cell_type": "code",
   "execution_count": 42,
   "metadata": {},
   "outputs": [
    {
     "data": {
      "text/plain": [
       "163.8"
      ]
     },
     "execution_count": 42,
     "metadata": {},
     "output_type": "execute_result"
    }
   ],
   "source": [
    "0.2 * 819"
   ]
  },
  {
   "cell_type": "markdown",
   "metadata": {},
   "source": [
    "### Randomly select the list of files and keep the file lis"
   ]
  },
  {
   "cell_type": "code",
   "execution_count": 3,
   "metadata": {},
   "outputs": [
    {
     "name": "stdout",
     "output_type": "stream",
     "text": [
      "/notebooks/data7cls_randomsplit/train/confused\r\n"
     ]
    }
   ],
   "source": [
    "!shuf -n1 -e /notebooks/data7cls_newimg_randomsplit/train/confused"
   ]
  },
  {
   "cell_type": "code",
   "execution_count": 52,
   "metadata": {},
   "outputs": [],
   "source": [
    "!find /notebooks/data7cls_newimg_randomsplit/train/confused -type f | shuf -n162 > SampleConfusedList.txt"
   ]
  },
  {
   "cell_type": "code",
   "execution_count": 53,
   "metadata": {},
   "outputs": [
    {
     "name": "stdout",
     "output_type": "stream",
     "text": [
      "/notebooks/data7cls_newimg_randomsplit/train/confused/lm-rs-102.jpg\r\n",
      "/notebooks/data7cls_newimg_randomsplit/train/confused/lm-val-93.jpg\r\n",
      "/notebooks/data7cls_newimg_randomsplit/train/confused/face-c_converted-45.png\r\n",
      "/notebooks/data7cls_newimg_randomsplit/train/confused/lm-rs-81.jpg\r\n",
      "/notebooks/data7cls_newimg_randomsplit/train/confused/lm-rs-96.jpg\r\n",
      "/notebooks/data7cls_newimg_randomsplit/train/confused/tr_confused_resized-24.png\r\n",
      "/notebooks/data7cls_newimg_randomsplit/train/confused/tr_flop_confused-16.png\r\n",
      "/notebooks/data7cls_newimg_randomsplit/train/confused/lm-rs-59.jpg\r\n",
      "/notebooks/data7cls_newimg_randomsplit/train/confused/lm-rs-0.jpg\r\n",
      "/notebooks/data7cls_newimg_randomsplit/train/confused/lm-val-64.jpg\r\n",
      "/notebooks/data7cls_newimg_randomsplit/train/confused/aa_convert_flop-4.png\r\n",
      "/notebooks/data7cls_newimg_randomsplit/train/confused/lm-rs-5.jpg\r\n",
      "/notebooks/data7cls_newimg_randomsplit/train/confused/lm-rs-120.jpg\r\n",
      "/notebooks/data7cls_newimg_randomsplit/train/confused/lm-flop-67.jpg\r\n",
      "/notebooks/data7cls_newimg_randomsplit/train/confused/tr_confused_resized-2.png\r\n",
      "/notebooks/data7cls_newimg_randomsplit/train/confused/lm-val-flop-65.jpg\r\n",
      "/notebooks/data7cls_newimg_randomsplit/train/confused/lm-val-22.jpg\r\n",
      "/notebooks/data7cls_newimg_randomsplit/train/confused/lm-flop-138.jpg\r\n",
      "/notebooks/data7cls_newimg_randomsplit/train/confused/lm-rs-31.jpg\r\n",
      "/notebooks/data7cls_newimg_randomsplit/train/confused/lm-flop-48.jpg\r\n",
      "/notebooks/data7cls_newimg_randomsplit/train/confused/tr_flop_confused-29.png\r\n",
      "/notebooks/data7cls_newimg_randomsplit/train/confused/2confused792.jpg.png\r\n",
      "/notebooks/data7cls_newimg_randomsplit/train/confused/lm-flop-4.jpg\r\n",
      "/notebooks/data7cls_newimg_randomsplit/train/confused/lm-val-73.jpg\r\n",
      "/notebooks/data7cls_newimg_randomsplit/train/confused/lm-flop-136.jpg\r\n",
      "/notebooks/data7cls_newimg_randomsplit/train/confused/lm-val-flop-47.jpg\r\n",
      "/notebooks/data7cls_newimg_randomsplit/train/confused/lm-val-flop-13.jpg\r\n",
      "/notebooks/data7cls_newimg_randomsplit/train/confused/lm-flop-113.jpg\r\n",
      "/notebooks/data7cls_newimg_randomsplit/train/confused/ad_convert-3.png\r\n",
      "/notebooks/data7cls_newimg_randomsplit/train/confused/lm-flop-71.jpg\r\n",
      "/notebooks/data7cls_newimg_randomsplit/train/confused/lm-rs-64.jpg\r\n",
      "/notebooks/data7cls_newimg_randomsplit/train/confused/face-c_convert_flop-61.png\r\n",
      "/notebooks/data7cls_newimg_randomsplit/train/confused/lm-val-flop-38.jpg\r\n",
      "/notebooks/data7cls_newimg_randomsplit/train/confused/lm-rs-22.jpg\r\n",
      "/notebooks/data7cls_newimg_randomsplit/train/confused/lm-val-flop-23.jpg\r\n",
      "/notebooks/data7cls_newimg_randomsplit/train/confused/lm-rs-146.jpg\r\n",
      "/notebooks/data7cls_newimg_randomsplit/train/confused/face-c_convert_flop-63.png\r\n",
      "/notebooks/data7cls_newimg_randomsplit/train/confused/tr_flop_confused-27.png\r\n",
      "/notebooks/data7cls_newimg_randomsplit/train/confused/tr_confused_resized-30.png\r\n",
      "/notebooks/data7cls_newimg_randomsplit/train/confused/tr_flop_confused-10.png\r\n",
      "/notebooks/data7cls_newimg_randomsplit/train/confused/lm-flop-146.jpg\r\n",
      "/notebooks/data7cls_newimg_randomsplit/train/confused/aa_convert_flop-8.png\r\n",
      "/notebooks/data7cls_newimg_randomsplit/train/confused/lm-rs-71.jpg\r\n",
      "/notebooks/data7cls_newimg_randomsplit/train/confused/lm-val-10.jpg\r\n",
      "/notebooks/data7cls_newimg_randomsplit/train/confused/face-c_convert_flop-36.png\r\n",
      "/notebooks/data7cls_newimg_randomsplit/train/confused/tr_confused_resized-4.png\r\n",
      "/notebooks/data7cls_newimg_randomsplit/train/confused/face-c_converted-53.png\r\n",
      "/notebooks/data7cls_newimg_randomsplit/train/confused/face-c_converted-52.png\r\n",
      "/notebooks/data7cls_newimg_randomsplit/train/confused/lm-val-flop-80.jpg\r\n",
      "/notebooks/data7cls_newimg_randomsplit/train/confused/lm-val-flop-8.jpg\r\n",
      "/notebooks/data7cls_newimg_randomsplit/train/confused/aa_convert_flop-6.png\r\n",
      "/notebooks/data7cls_newimg_randomsplit/train/confused/lm-val-flop-62.jpg\r\n",
      "/notebooks/data7cls_newimg_randomsplit/train/confused/lm-flop-140.jpg\r\n",
      "/notebooks/data7cls_newimg_randomsplit/train/confused/face-c_converted-55.png\r\n",
      "/notebooks/data7cls_newimg_randomsplit/train/confused/lm-val-100.jpg\r\n",
      "/notebooks/data7cls_newimg_randomsplit/train/confused/tr_flop_confused-7.png\r\n",
      "/notebooks/data7cls_newimg_randomsplit/train/confused/lm-rs-3.jpg\r\n",
      "/notebooks/data7cls_newimg_randomsplit/train/confused/lm-val-37.jpg\r\n",
      "/notebooks/data7cls_newimg_randomsplit/train/confused/lm-flop-121.jpg\r\n",
      "/notebooks/data7cls_newimg_randomsplit/train/confused/face-c_convert_flop-33.png\r\n",
      "/notebooks/data7cls_newimg_randomsplit/train/confused/lm-flop-60.jpg\r\n",
      "/notebooks/data7cls_newimg_randomsplit/train/confused/lm-val-57.jpg\r\n",
      "/notebooks/data7cls_newimg_randomsplit/train/confused/lm-rs-7.jpg\r\n",
      "/notebooks/data7cls_newimg_randomsplit/train/confused/lm-val-flop-103.jpg\r\n",
      "/notebooks/data7cls_newimg_randomsplit/train/confused/aa_9_converted-87.png\r\n",
      "/notebooks/data7cls_newimg_randomsplit/train/confused/face-c_converted-28.png\r\n",
      "/notebooks/data7cls_newimg_randomsplit/train/confused/face-c_convert_flop-64.png\r\n",
      "/notebooks/data7cls_newimg_randomsplit/train/confused/lm-val-flop-66.jpg\r\n",
      "/notebooks/data7cls_newimg_randomsplit/train/confused/face-c_converted-64.png\r\n",
      "/notebooks/data7cls_newimg_randomsplit/train/confused/lm-flop-124.jpg\r\n",
      "/notebooks/data7cls_newimg_randomsplit/train/confused/lm-val-flop-100.jpg\r\n",
      "/notebooks/data7cls_newimg_randomsplit/train/confused/lm-val-flop-73.jpg\r\n",
      "/notebooks/data7cls_newimg_randomsplit/train/confused/tr_confused_resized-22.png\r\n",
      "/notebooks/data7cls_newimg_randomsplit/train/confused/lm-flop-80.jpg\r\n",
      "/notebooks/data7cls_newimg_randomsplit/train/confused/m_flop_confused-33.png\r\n",
      "/notebooks/data7cls_newimg_randomsplit/train/confused/face-c_convert_flop-3.png\r\n",
      "/notebooks/data7cls_newimg_randomsplit/train/confused/2confused439.jpg.png\r\n",
      "/notebooks/data7cls_newimg_randomsplit/train/confused/face-c_convert_flop-59.png\r\n",
      "/notebooks/data7cls_newimg_randomsplit/train/confused/lm-val-flop-49.jpg\r\n",
      "/notebooks/data7cls_newimg_randomsplit/train/confused/tr_flop_confused-14.png\r\n",
      "/notebooks/data7cls_newimg_randomsplit/train/confused/lm-rs-44.jpg\r\n",
      "/notebooks/data7cls_newimg_randomsplit/train/confused/lm-rs-93.jpg\r\n",
      "/notebooks/data7cls_newimg_randomsplit/train/confused/lm-val-58.jpg\r\n",
      "/notebooks/data7cls_newimg_randomsplit/train/confused/lm-flop-115.jpg\r\n",
      "/notebooks/data7cls_newimg_randomsplit/train/confused/face-c_convert_flop-66.png\r\n",
      "/notebooks/data7cls_newimg_randomsplit/train/confused/lm-val-flop-46.jpg\r\n",
      "/notebooks/data7cls_newimg_randomsplit/train/confused/lm-rs-125.jpg\r\n",
      "/notebooks/data7cls_newimg_randomsplit/train/confused/lm-flop-92.jpg\r\n",
      "/notebooks/data7cls_newimg_randomsplit/train/confused/tr_flop_confused-17.png\r\n",
      "/notebooks/data7cls_newimg_randomsplit/train/confused/lm-rs-1.jpg\r\n",
      "/notebooks/data7cls_newimg_randomsplit/train/confused/2confused783.jpg.png\r\n",
      "/notebooks/data7cls_newimg_randomsplit/train/confused/lm-flop-82.jpg\r\n",
      "/notebooks/data7cls_newimg_randomsplit/train/confused/2confused726.jpg.png\r\n",
      "/notebooks/data7cls_newimg_randomsplit/train/confused/face-c_converted-31.png\r\n",
      "/notebooks/data7cls_newimg_randomsplit/train/confused/m_flop_confused-13.png\r\n",
      "/notebooks/data7cls_newimg_randomsplit/train/confused/face-c_converted-7.png\r\n",
      "/notebooks/data7cls_newimg_randomsplit/train/confused/face-c_converted-18.png\r\n",
      "/notebooks/data7cls_newimg_randomsplit/train/confused/lm-flop-141.jpg\r\n",
      "/notebooks/data7cls_newimg_randomsplit/train/confused/m_flop_confused-28.png\r\n",
      "/notebooks/data7cls_newimg_randomsplit/train/confused/lm-rs-29.jpg\r\n",
      "/notebooks/data7cls_newimg_randomsplit/train/confused/face-c_convert_flop-2.png\r\n",
      "/notebooks/data7cls_newimg_randomsplit/train/confused/lm-flop-70.jpg\r\n",
      "/notebooks/data7cls_newimg_randomsplit/train/confused/tr_flop_confused-2.png\r\n",
      "/notebooks/data7cls_newimg_randomsplit/train/confused/lm-flop-49.jpg\r\n",
      "/notebooks/data7cls_newimg_randomsplit/train/confused/lm-rs-52.jpg\r\n",
      "/notebooks/data7cls_newimg_randomsplit/train/confused/lm-flop-129.jpg\r\n",
      "/notebooks/data7cls_newimg_randomsplit/train/confused/lm-rs-114.jpg\r\n",
      "/notebooks/data7cls_newimg_randomsplit/train/confused/tr_flop_confused-21.png\r\n",
      "/notebooks/data7cls_newimg_randomsplit/train/confused/lm-rs-12.jpg\r\n",
      "/notebooks/data7cls_newimg_randomsplit/train/confused/tr_flop_confused-15.png\r\n",
      "/notebooks/data7cls_newimg_randomsplit/train/confused/m_flop_confused-1.png\r\n",
      "/notebooks/data7cls_newimg_randomsplit/train/confused/lm-rs-47.jpg\r\n",
      "/notebooks/data7cls_newimg_randomsplit/train/confused/aa_9_converted-54.png\r\n",
      "/notebooks/data7cls_newimg_randomsplit/train/confused/lm-rs-61.jpg\r\n",
      "/notebooks/data7cls_newimg_randomsplit/train/confused/lm-val-flop-79.jpg\r\n",
      "/notebooks/data7cls_newimg_randomsplit/train/confused/lm-val-3.jpg\r\n",
      "/notebooks/data7cls_newimg_randomsplit/train/confused/lm-val-flop-68.jpg\r\n",
      "/notebooks/data7cls_newimg_randomsplit/train/confused/face-c_converted-48.png\r\n",
      "/notebooks/data7cls_newimg_randomsplit/train/confused/2confused144.jpg.png\r\n",
      "/notebooks/data7cls_newimg_randomsplit/train/confused/lm-rs-26.jpg\r\n",
      "/notebooks/data7cls_newimg_randomsplit/train/confused/lm-rs-35.jpg\r\n",
      "/notebooks/data7cls_newimg_randomsplit/train/confused/lm-rs-9.jpg\r\n",
      "/notebooks/data7cls_newimg_randomsplit/train/confused/lm-val-14.jpg\r\n",
      "/notebooks/data7cls_newimg_randomsplit/train/confused/lm-val-30.jpg\r\n",
      "/notebooks/data7cls_newimg_randomsplit/train/confused/tr_confused_resized-12.png\r\n",
      "/notebooks/data7cls_newimg_randomsplit/train/confused/lm-val-89.jpg\r\n",
      "/notebooks/data7cls_newimg_randomsplit/train/confused/j_convert-325.png\r\n",
      "/notebooks/data7cls_newimg_randomsplit/train/confused/lm-flop-25.jpg\r\n",
      "/notebooks/data7cls_newimg_randomsplit/train/confused/face-c_converted-27.png\r\n",
      "/notebooks/data7cls_newimg_randomsplit/train/confused/tr_confused_resized-3.png\r\n",
      "/notebooks/data7cls_newimg_randomsplit/train/confused/lm-val-92.jpg\r\n",
      "/notebooks/data7cls_newimg_randomsplit/train/confused/lm-rs-110.jpg\r\n",
      "/notebooks/data7cls_newimg_randomsplit/train/confused/face-c_convert_flop-58.png\r\n",
      "/notebooks/data7cls_newimg_randomsplit/train/confused/face-c_converted-49.png\r\n",
      "/notebooks/data7cls_newimg_randomsplit/train/confused/2confused182.jpg.png\r\n",
      "/notebooks/data7cls_newimg_randomsplit/train/confused/lm-val-86.jpg\r\n",
      "/notebooks/data7cls_newimg_randomsplit/train/confused/lm-flop-120.jpg\r\n",
      "/notebooks/data7cls_newimg_randomsplit/train/confused/aa_9_converted-862.png\r\n",
      "/notebooks/data7cls_newimg_randomsplit/train/confused/lm-val-28.jpg\r\n",
      "/notebooks/data7cls_newimg_randomsplit/train/confused/m_flop_confused-9.png\r\n",
      "/notebooks/data7cls_newimg_randomsplit/train/confused/lm-val-flop-42.jpg\r\n",
      "/notebooks/data7cls_newimg_randomsplit/train/confused/lm-rs-97.jpg\r\n",
      "/notebooks/data7cls_newimg_randomsplit/train/confused/lm-rs-89.jpg\r\n",
      "/notebooks/data7cls_newimg_randomsplit/train/confused/face-c_convert_flop-34.png\r\n",
      "/notebooks/data7cls_newimg_randomsplit/train/confused/lm-val-46.jpg\r\n",
      "/notebooks/data7cls_newimg_randomsplit/train/confused/lm-flop-37.jpg\r\n",
      "/notebooks/data7cls_newimg_randomsplit/train/confused/lm-rs-76.jpg\r\n",
      "/notebooks/data7cls_newimg_randomsplit/train/confused/lm-rs-108.jpg\r\n",
      "/notebooks/data7cls_newimg_randomsplit/train/confused/lm-rs-45.jpg\r\n",
      "/notebooks/data7cls_newimg_randomsplit/train/confused/lm-rs-69.jpg\r\n",
      "/notebooks/data7cls_newimg_randomsplit/train/confused/lm-flop-86.jpg\r\n",
      "/notebooks/data7cls_newimg_randomsplit/train/confused/lm-val-flop-84.jpg\r\n",
      "/notebooks/data7cls_newimg_randomsplit/train/confused/lm-val-39.jpg\r\n",
      "/notebooks/data7cls_newimg_randomsplit/train/confused/lm-flop-131.jpg\r\n",
      "/notebooks/data7cls_newimg_randomsplit/train/confused/lm-val-44.jpg\r\n",
      "/notebooks/data7cls_newimg_randomsplit/train/confused/lm-flop-31.jpg\r\n",
      "/notebooks/data7cls_newimg_randomsplit/train/confused/tr_confused_resized-6.png\r\n",
      "/notebooks/data7cls_newimg_randomsplit/train/confused/face-c_convert_flop-38.png\r\n",
      "/notebooks/data7cls_newimg_randomsplit/train/confused/face-c_converted-44.png\r\n",
      "/notebooks/data7cls_newimg_randomsplit/train/confused/lm-val-flop-19.jpg\r\n",
      "/notebooks/data7cls_newimg_randomsplit/train/confused/lm-rs-75.jpg\r\n",
      "/notebooks/data7cls_newimg_randomsplit/train/confused/lm-val-1.jpg\r\n"
     ]
    }
   ],
   "source": [
    "!cat SampleConfusedList.txt"
   ]
  },
  {
   "cell_type": "code",
   "execution_count": 54,
   "metadata": {},
   "outputs": [],
   "source": [
    "!xargs -a SampleConfusedList.txt mv -t /notebooks/data7cls_newimg_randomsplit/validation/confused"
   ]
  },
  {
   "cell_type": "markdown",
   "metadata": {},
   "source": [
    "##### repeat this for Distracted class"
   ]
  },
  {
   "cell_type": "code",
   "execution_count": 55,
   "metadata": {},
   "outputs": [],
   "source": [
    "!find /notebooks/data7cls_newimg_randomsplit/train/distracted -type f | shuf -n164 > SampleDistractedList.txt"
   ]
  },
  {
   "cell_type": "code",
   "execution_count": 56,
   "metadata": {},
   "outputs": [
    {
     "name": "stdout",
     "output_type": "stream",
     "text": [
      "/notebooks/data7cls_newimg_randomsplit/train/distracted/lm-val-flop-30.jpg\r\n",
      "/notebooks/data7cls_newimg_randomsplit/train/distracted/flop_convert-52.png\r\n",
      "/notebooks/data7cls_newimg_randomsplit/train/distracted/lm-val-16.jpg\r\n",
      "/notebooks/data7cls_newimg_randomsplit/train/distracted/lm-ng-6.jpg\r\n",
      "/notebooks/data7cls_newimg_randomsplit/train/distracted/lm-val-46.jpg\r\n",
      "/notebooks/data7cls_newimg_randomsplit/train/distracted/lm-val-flop-78.jpg\r\n",
      "/notebooks/data7cls_newimg_randomsplit/train/distracted/lm-flop-20.jpg\r\n",
      "/notebooks/data7cls_newimg_randomsplit/train/distracted/lm-flop-81.jpg\r\n",
      "/notebooks/data7cls_newimg_randomsplit/train/distracted/lm-val-flop-68.jpg\r\n",
      "/notebooks/data7cls_newimg_randomsplit/train/distracted/lm-flop-42.jpg\r\n",
      "/notebooks/data7cls_newimg_randomsplit/train/distracted/lm-79.jpg\r\n",
      "/notebooks/data7cls_newimg_randomsplit/train/distracted/lm-val-50.jpg\r\n",
      "/notebooks/data7cls_newimg_randomsplit/train/distracted/lm-flop-10.jpg\r\n",
      "/notebooks/data7cls_newimg_randomsplit/train/distracted/lm-46.jpg\r\n",
      "/notebooks/data7cls_newimg_randomsplit/train/distracted/lm-4.jpg\r\n",
      "/notebooks/data7cls_newimg_randomsplit/train/distracted/aa_9_converted-475.png\r\n",
      "/notebooks/data7cls_newimg_randomsplit/train/distracted/lm-flop-108.jpg\r\n",
      "/notebooks/data7cls_newimg_randomsplit/train/distracted/lm-flop-76.jpg\r\n",
      "/notebooks/data7cls_newimg_randomsplit/train/distracted/lm-38.jpg\r\n",
      "/notebooks/data7cls_newimg_randomsplit/train/distracted/lm-val-flop-73.jpg\r\n",
      "/notebooks/data7cls_newimg_randomsplit/train/distracted/lm-117.jpg\r\n",
      "/notebooks/data7cls_newimg_randomsplit/train/distracted/lm-14.jpg\r\n",
      "/notebooks/data7cls_newimg_randomsplit/train/distracted/lm-flop-50.jpg\r\n",
      "/notebooks/data7cls_newimg_randomsplit/train/distracted/lm-val-26.jpg\r\n",
      "/notebooks/data7cls_newimg_randomsplit/train/distracted/flop_convert-11.png\r\n",
      "/notebooks/data7cls_newimg_randomsplit/train/distracted/ad_convert-140.png\r\n",
      "/notebooks/data7cls_newimg_randomsplit/train/distracted/lm-ng-69.jpg\r\n",
      "/notebooks/data7cls_newimg_randomsplit/train/distracted/lm-val-flop-49.jpg\r\n",
      "/notebooks/data7cls_newimg_randomsplit/train/distracted/lm-ng-43.jpg\r\n",
      "/notebooks/data7cls_newimg_randomsplit/train/distracted/lm-val-flop-88.jpg\r\n",
      "/notebooks/data7cls_newimg_randomsplit/train/distracted/tr_flop_distracted-14.png\r\n",
      "/notebooks/data7cls_newimg_randomsplit/train/distracted/lm-ng-flow-35.jpg\r\n",
      "/notebooks/data7cls_newimg_randomsplit/train/distracted/face-d_converted-14.png\r\n",
      "/notebooks/data7cls_newimg_randomsplit/train/distracted/2distracted220.jpg.png\r\n",
      "/notebooks/data7cls_newimg_randomsplit/train/distracted/lm-ng-68.jpg\r\n",
      "/notebooks/data7cls_newimg_randomsplit/train/distracted/flop_convert-40.png\r\n",
      "/notebooks/data7cls_newimg_randomsplit/train/distracted/j_convert-96.png\r\n",
      "/notebooks/data7cls_newimg_randomsplit/train/distracted/lm-val-flop-35.jpg\r\n",
      "/notebooks/data7cls_newimg_randomsplit/train/distracted/lm-flop-41.jpg\r\n",
      "/notebooks/data7cls_newimg_randomsplit/train/distracted/lm-ng-7.jpg\r\n",
      "/notebooks/data7cls_newimg_randomsplit/train/distracted/lm-ng-flow-9.jpg\r\n",
      "/notebooks/data7cls_newimg_randomsplit/train/distracted/lm-val-flop-20.jpg\r\n",
      "/notebooks/data7cls_newimg_randomsplit/train/distracted/lm-flop-100.jpg\r\n",
      "/notebooks/data7cls_newimg_randomsplit/train/distracted/lm-val-flop-57.jpg\r\n",
      "/notebooks/data7cls_newimg_randomsplit/train/distracted/2distracted158.jpg.png\r\n",
      "/notebooks/data7cls_newimg_randomsplit/train/distracted/lm-flop-69.jpg\r\n",
      "/notebooks/data7cls_newimg_randomsplit/train/distracted/face-d_converted-28.png\r\n",
      "/notebooks/data7cls_newimg_randomsplit/train/distracted/lm-val-41.jpg\r\n",
      "/notebooks/data7cls_newimg_randomsplit/train/distracted/lm-val-flop-77.jpg\r\n",
      "/notebooks/data7cls_newimg_randomsplit/train/distracted/flop_convert-9.png\r\n",
      "/notebooks/data7cls_newimg_randomsplit/train/distracted/lm-val-81.jpg\r\n",
      "/notebooks/data7cls_newimg_randomsplit/train/distracted/lm-val-flop-53.jpg\r\n",
      "/notebooks/data7cls_newimg_randomsplit/train/distracted/lm-val-flop-42.jpg\r\n",
      "/notebooks/data7cls_newimg_randomsplit/train/distracted/lm-ng-38.jpg\r\n",
      "/notebooks/data7cls_newimg_randomsplit/train/distracted/lm-ng-flow-39.jpg\r\n",
      "/notebooks/data7cls_newimg_randomsplit/train/distracted/lm-flop-17.jpg\r\n",
      "/notebooks/data7cls_newimg_randomsplit/train/distracted/lm-val-flop-84.jpg\r\n",
      "/notebooks/data7cls_newimg_randomsplit/train/distracted/lm-val-68.jpg\r\n",
      "/notebooks/data7cls_newimg_randomsplit/train/distracted/lm-27.jpg\r\n",
      "/notebooks/data7cls_newimg_randomsplit/train/distracted/lm-val-90.jpg\r\n",
      "/notebooks/data7cls_newimg_randomsplit/train/distracted/lm-flop-67.jpg\r\n",
      "/notebooks/data7cls_newimg_randomsplit/train/distracted/lm-val-87.jpg\r\n",
      "/notebooks/data7cls_newimg_randomsplit/train/distracted/lm-val-flop-4.jpg\r\n",
      "/notebooks/data7cls_newimg_randomsplit/train/distracted/lm-68.jpg\r\n",
      "/notebooks/data7cls_newimg_randomsplit/train/distracted/tr_flop_distracted-8.png\r\n",
      "/notebooks/data7cls_newimg_randomsplit/train/distracted/lm-flop-37.jpg\r\n",
      "/notebooks/data7cls_newimg_randomsplit/train/distracted/lm-val-flop-70.jpg\r\n",
      "/notebooks/data7cls_newimg_randomsplit/train/distracted/lm-42.jpg\r\n",
      "/notebooks/data7cls_newimg_randomsplit/train/distracted/j_convert-61.png\r\n",
      "/notebooks/data7cls_newimg_randomsplit/train/distracted/lm-val-83.jpg\r\n",
      "/notebooks/data7cls_newimg_randomsplit/train/distracted/lm-86.jpg\r\n",
      "/notebooks/data7cls_newimg_randomsplit/train/distracted/lm-84.jpg\r\n",
      "/notebooks/data7cls_newimg_randomsplit/train/distracted/lm-val-flop-17.jpg\r\n",
      "/notebooks/data7cls_newimg_randomsplit/train/distracted/face-d_converted-18.png\r\n",
      "/notebooks/data7cls_newimg_randomsplit/train/distracted/tr_distracted_resized-15.png\r\n",
      "/notebooks/data7cls_newimg_randomsplit/train/distracted/flop_convert-37.png\r\n",
      "/notebooks/data7cls_newimg_randomsplit/train/distracted/tr_distracted_resized-4.png\r\n",
      "/notebooks/data7cls_newimg_randomsplit/train/distracted/lm-ng-flow-23.jpg\r\n",
      "/notebooks/data7cls_newimg_randomsplit/train/distracted/lm-val-1.jpg\r\n",
      "/notebooks/data7cls_newimg_randomsplit/train/distracted/j_convert-341.png\r\n",
      "/notebooks/data7cls_newimg_randomsplit/train/distracted/lm-ng-flow-80.jpg\r\n",
      "/notebooks/data7cls_newimg_randomsplit/train/distracted/lm-ng-53.jpg\r\n",
      "/notebooks/data7cls_newimg_randomsplit/train/distracted/lm-ng-24.jpg\r\n",
      "/notebooks/data7cls_newimg_randomsplit/train/distracted/lm-flop-85.jpg\r\n",
      "/notebooks/data7cls_newimg_randomsplit/train/distracted/lm-ng-flow-10.jpg\r\n",
      "/notebooks/data7cls_newimg_randomsplit/train/distracted/lm-val-flop-46.jpg\r\n",
      "/notebooks/data7cls_newimg_randomsplit/train/distracted/lm-flop-65.jpg\r\n",
      "/notebooks/data7cls_newimg_randomsplit/train/distracted/flop_convert-36.png\r\n",
      "/notebooks/data7cls_newimg_randomsplit/train/distracted/lm-flop-52.jpg\r\n",
      "/notebooks/data7cls_newimg_randomsplit/train/distracted/lm-ng-59.jpg\r\n",
      "/notebooks/data7cls_newimg_randomsplit/train/distracted/lm-flop-44.jpg\r\n",
      "/notebooks/data7cls_newimg_randomsplit/train/distracted/lm-val-flop-7.jpg\r\n",
      "/notebooks/data7cls_newimg_randomsplit/train/distracted/face-d_converted-16.png\r\n",
      "/notebooks/data7cls_newimg_randomsplit/train/distracted/lm-ng-flow-52.jpg\r\n",
      "/notebooks/data7cls_newimg_randomsplit/train/distracted/lm-ng-flow-68.jpg\r\n",
      "/notebooks/data7cls_newimg_randomsplit/train/distracted/lm-flop-63.jpg\r\n",
      "/notebooks/data7cls_newimg_randomsplit/train/distracted/lm-val-flop-62.jpg\r\n",
      "/notebooks/data7cls_newimg_randomsplit/train/distracted/lm-val-22.jpg\r\n",
      "/notebooks/data7cls_newimg_randomsplit/train/distracted/lm-ng-45.jpg\r\n",
      "/notebooks/data7cls_newimg_randomsplit/train/distracted/flop_convert-58.png\r\n",
      "/notebooks/data7cls_newimg_randomsplit/train/distracted/lm-val-80.jpg\r\n",
      "/notebooks/data7cls_newimg_randomsplit/train/distracted/lm-8.jpg\r\n",
      "/notebooks/data7cls_newimg_randomsplit/train/distracted/lm-131.jpg\r\n",
      "/notebooks/data7cls_newimg_randomsplit/train/distracted/lm-val-flop-79.jpg\r\n",
      "/notebooks/data7cls_newimg_randomsplit/train/distracted/flop_convert-31.png\r\n",
      "/notebooks/data7cls_newimg_randomsplit/train/distracted/ad_convert-974.png\r\n",
      "/notebooks/data7cls_newimg_randomsplit/train/distracted/lm-16.jpg\r\n",
      "/notebooks/data7cls_newimg_randomsplit/train/distracted/lm-90.jpg\r\n",
      "/notebooks/data7cls_newimg_randomsplit/train/distracted/lm-val-15.jpg\r\n",
      "/notebooks/data7cls_newimg_randomsplit/train/distracted/lm-18.jpg\r\n",
      "/notebooks/data7cls_newimg_randomsplit/train/distracted/lm-flop-128.jpg\r\n",
      "/notebooks/data7cls_newimg_randomsplit/train/distracted/lm-flop-116.jpg\r\n",
      "/notebooks/data7cls_newimg_randomsplit/train/distracted/lm-val-flop-41.jpg\r\n",
      "/notebooks/data7cls_newimg_randomsplit/train/distracted/lm-val-flop-27.jpg\r\n",
      "/notebooks/data7cls_newimg_randomsplit/train/distracted/lm-ng-flow-6.jpg\r\n",
      "/notebooks/data7cls_newimg_randomsplit/train/distracted/lm-val-flop-54.jpg\r\n",
      "/notebooks/data7cls_newimg_randomsplit/train/distracted/lm-val-29.jpg\r\n",
      "/notebooks/data7cls_newimg_randomsplit/train/distracted/lm-flop-15.jpg\r\n",
      "/notebooks/data7cls_newimg_randomsplit/train/distracted/flop_convert-17.png\r\n",
      "/notebooks/data7cls_newimg_randomsplit/train/distracted/lm-val-21.jpg\r\n",
      "/notebooks/data7cls_newimg_randomsplit/train/distracted/lm-52.jpg\r\n",
      "/notebooks/data7cls_newimg_randomsplit/train/distracted/m_flop_distracted-12.png\r\n",
      "/notebooks/data7cls_newimg_randomsplit/train/distracted/lm-flop-130.jpg\r\n",
      "/notebooks/data7cls_newimg_randomsplit/train/distracted/lm-99.jpg\r\n",
      "/notebooks/data7cls_newimg_randomsplit/train/distracted/lm-ng-flow-28.jpg\r\n",
      "/notebooks/data7cls_newimg_randomsplit/train/distracted/lm-val-38.jpg\r\n",
      "/notebooks/data7cls_newimg_randomsplit/train/distracted/lm-flop-127.jpg\r\n",
      "/notebooks/data7cls_newimg_randomsplit/train/distracted/m_flop_distracted-11.png\r\n",
      "/notebooks/data7cls_newimg_randomsplit/train/distracted/lm-55.jpg\r\n",
      "/notebooks/data7cls_newimg_randomsplit/train/distracted/lm-flop-89.jpg\r\n",
      "/notebooks/data7cls_newimg_randomsplit/train/distracted/lm-val-40.jpg\r\n",
      "/notebooks/data7cls_newimg_randomsplit/train/distracted/lm-val-93.jpg\r\n",
      "/notebooks/data7cls_newimg_randomsplit/train/distracted/lm-val-flop-85.jpg\r\n",
      "/notebooks/data7cls_newimg_randomsplit/train/distracted/flop_convert-38.png\r\n",
      "/notebooks/data7cls_newimg_randomsplit/train/distracted/lm-121.jpg\r\n",
      "/notebooks/data7cls_newimg_randomsplit/train/distracted/lm-ng-flow-57.jpg\r\n",
      "/notebooks/data7cls_newimg_randomsplit/train/distracted/flop_convert-63.png\r\n",
      "/notebooks/data7cls_newimg_randomsplit/train/distracted/lm-flop-35.jpg\r\n",
      "/notebooks/data7cls_newimg_randomsplit/train/distracted/lm-ng-flow-74.jpg\r\n",
      "/notebooks/data7cls_newimg_randomsplit/train/distracted/lm-ng-flow-24.jpg\r\n",
      "/notebooks/data7cls_newimg_randomsplit/train/distracted/lm-flop-43.jpg\r\n",
      "/notebooks/data7cls_newimg_randomsplit/train/distracted/2distracted95.jpg.png\r\n",
      "/notebooks/data7cls_newimg_randomsplit/train/distracted/lm-val-64.jpg\r\n",
      "/notebooks/data7cls_newimg_randomsplit/train/distracted/lm-val-flop-71.jpg\r\n",
      "/notebooks/data7cls_newimg_randomsplit/train/distracted/lm-ng-0.jpg\r\n",
      "/notebooks/data7cls_newimg_randomsplit/train/distracted/lm-flop-78.jpg\r\n",
      "/notebooks/data7cls_newimg_randomsplit/train/distracted/lm-val-flop-26.jpg\r\n",
      "/notebooks/data7cls_newimg_randomsplit/train/distracted/lm-val-54.jpg\r\n",
      "/notebooks/data7cls_newimg_randomsplit/train/distracted/flop_convert-49.png\r\n",
      "/notebooks/data7cls_newimg_randomsplit/train/distracted/lm-val-flop-6.jpg\r\n",
      "/notebooks/data7cls_newimg_randomsplit/train/distracted/lm-val-63.jpg\r\n",
      "/notebooks/data7cls_newimg_randomsplit/train/distracted/lm-flop-64.jpg\r\n",
      "/notebooks/data7cls_newimg_randomsplit/train/distracted/lm-3.jpg\r\n",
      "/notebooks/data7cls_newimg_randomsplit/train/distracted/lm-val-flop-61.jpg\r\n",
      "/notebooks/data7cls_newimg_randomsplit/train/distracted/lm-ng-25.jpg\r\n",
      "/notebooks/data7cls_newimg_randomsplit/train/distracted/lm-flop-97.jpg\r\n",
      "/notebooks/data7cls_newimg_randomsplit/train/distracted/face-d_converted-31.png\r\n",
      "/notebooks/data7cls_newimg_randomsplit/train/distracted/lm-flop-18.jpg\r\n",
      "/notebooks/data7cls_newimg_randomsplit/train/distracted/lm-64.jpg\r\n",
      "/notebooks/data7cls_newimg_randomsplit/train/distracted/lm-ng-54.jpg\r\n",
      "/notebooks/data7cls_newimg_randomsplit/train/distracted/lm-flop-103.jpg\r\n",
      "/notebooks/data7cls_newimg_randomsplit/train/distracted/lm-ng-flow-63.jpg\r\n",
      "/notebooks/data7cls_newimg_randomsplit/train/distracted/lm-val-77.jpg\r\n",
      "/notebooks/data7cls_newimg_randomsplit/train/distracted/lm-val-flop-82.jpg\r\n"
     ]
    }
   ],
   "source": [
    "!cat SampleDistractedList.txt"
   ]
  },
  {
   "cell_type": "code",
   "execution_count": 57,
   "metadata": {},
   "outputs": [],
   "source": [
    "!xargs -a SampleDistractedList.txt mv -t /notebooks/data7cls_newimg_randomsplit/validation/distracted"
   ]
  },
  {
   "cell_type": "code",
   "execution_count": null,
   "metadata": {},
   "outputs": [],
   "source": []
  }
 ],
 "metadata": {
  "kernelspec": {
   "display_name": "Python 3",
   "language": "python",
   "name": "python3"
  },
  "language_info": {
   "codemirror_mode": {
    "name": "ipython",
    "version": 3
   },
   "file_extension": ".py",
   "mimetype": "text/x-python",
   "name": "python",
   "nbconvert_exporter": "python",
   "pygments_lexer": "ipython3",
   "version": "3.5.2"
  }
 },
 "nbformat": 4,
 "nbformat_minor": 2
}
